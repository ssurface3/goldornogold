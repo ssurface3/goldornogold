{
 "cells": [
  {
   "cell_type": "markdown",
   "metadata": {
    "toc": true
   },
   "source": [
    "<h1>Содержание<span class=\"tocSkip\"></span></h1>\n",
    "<div class=\"toc\"><ul class=\"toc-item\"><li><span><a href=\"#Подготовка-данных\" data-toc-modified-id=\"Подготовка-данных-1\"><span class=\"toc-item-num\">1&nbsp;&nbsp;</span>Подготовка данных</a></span><ul class=\"toc-item\"><li><span><a href=\"#Data-Revue\" data-toc-modified-id=\"Data-Revue-1.1\"><span class=\"toc-item-num\">1.1&nbsp;&nbsp;</span>Data Revue</a></span></li><li><span><a href=\"#Обзор-датасетов\" data-toc-modified-id=\"Обзор-датасетов-1.2\"><span class=\"toc-item-num\">1.2&nbsp;&nbsp;</span>Обзор датасетов</a></span></li><li><span><a href=\"#Проверка-эффективности-обогащения\" data-toc-modified-id=\"Проверка-эффективности-обогащения-1.3\"><span class=\"toc-item-num\">1.3&nbsp;&nbsp;</span>Проверка эффективности обогащения</a></span></li><li><span><a href=\"#Анализ-признаков\" data-toc-modified-id=\"Анализ-признаков-1.4\"><span class=\"toc-item-num\">1.4&nbsp;&nbsp;</span>Анализ признаков</a></span></li><li><span><a href=\"#Предобработка-данных\" data-toc-modified-id=\"Предобработка-данных-1.5\"><span class=\"toc-item-num\">1.5&nbsp;&nbsp;</span>Предобработка данных</a></span><ul class=\"toc-item\"><li><span><a href=\"#Изменение-индекса\" data-toc-modified-id=\"Изменение-индекса-1.5.1\"><span class=\"toc-item-num\">1.5.1&nbsp;&nbsp;</span>Изменение индекса</a></span></li><li><span><a href=\"#El-duplicate\" data-toc-modified-id=\"El-duplicate-1.5.2\"><span class=\"toc-item-num\">1.5.2&nbsp;&nbsp;</span>El duplicate</a></span></li><li><span><a href=\"#Пропуски\" data-toc-modified-id=\"Пропуски-1.5.3\"><span class=\"toc-item-num\">1.5.3&nbsp;&nbsp;</span>Пропуски</a></span></li></ul></li></ul></li><li><span><a href=\"#Анализ-данных\" data-toc-modified-id=\"Анализ-данных-2\"><span class=\"toc-item-num\">2&nbsp;&nbsp;</span>Анализ данных</a></span><ul class=\"toc-item\"><li><span><a href=\"#Концнтрация-металлов-на-этапах-очистики\" data-toc-modified-id=\"Концнтрация-металлов-на-этапах-очистики-2.1\"><span class=\"toc-item-num\">2.1&nbsp;&nbsp;</span>Концнтрация металлов на этапах очистики</a></span></li><li><span><a href=\"#Распределение-гранул-сырья-на-тестовой-и-тренировочной-выборке\" data-toc-modified-id=\"Распределение-гранул-сырья-на-тестовой-и-тренировочной-выборке-2.2\"><span class=\"toc-item-num\">2.2&nbsp;&nbsp;</span>Распределение гранул сырья на тестовой и тренировочной выборке</a></span></li><li><span><a href=\"#Cуммарная-концентрация-всех-металлов-на-всех-стадиях\" data-toc-modified-id=\"Cуммарная-концентрация-всех-металлов-на-всех-стадиях-2.3\"><span class=\"toc-item-num\">2.3&nbsp;&nbsp;</span>Cуммарная концентрация всех металлов на всех стадиях</a></span></li><li><span><a href=\"#Пропуски\" data-toc-modified-id=\"Пропуски-2.4\"><span class=\"toc-item-num\">2.4&nbsp;&nbsp;</span>Пропуски</a></span></li></ul></li><li><span><a href=\"#Модель\" data-toc-modified-id=\"Модель-3\"><span class=\"toc-item-num\">3&nbsp;&nbsp;</span>Модель</a></span><ul class=\"toc-item\"><li><span><a href=\"#Formula\" data-toc-modified-id=\"Formula-3.1\"><span class=\"toc-item-num\">3.1&nbsp;&nbsp;</span>Formula</a></span></li><li><span><a href=\"#Обучение-моделей\" data-toc-modified-id=\"Обучение-моделей-3.2\"><span class=\"toc-item-num\">3.2&nbsp;&nbsp;</span>Обучение моделей</a></span></li><li><span><a href=\"#Разделение-на-выборки\" data-toc-modified-id=\"Разделение-на-выборки-3.3\"><span class=\"toc-item-num\">3.3&nbsp;&nbsp;</span>Разделение на выборки</a></span></li><li><span><a href=\"#Обучение-моделей\" data-toc-modified-id=\"Обучение-моделей-3.4\"><span class=\"toc-item-num\">3.4&nbsp;&nbsp;</span>Обучение моделей</a></span></li><li><span><a href=\"#Тест-лучшей-модели-на-тестовой-выборке\" data-toc-modified-id=\"Тест-лучшей-модели-на-тестовой-выборке-3.5\"><span class=\"toc-item-num\">3.5&nbsp;&nbsp;</span>Тест лучшей модели на тестовой выборке</a></span></li><li><span><a href=\"#DUmmy---test\" data-toc-modified-id=\"DUmmy---test-3.6\"><span class=\"toc-item-num\">3.6&nbsp;&nbsp;</span>DUmmy - test</a></span></li></ul></li><li><span><a href=\"#Чек-лист-готовности-проекта\" data-toc-modified-id=\"Чек-лист-готовности-проекта-4\"><span class=\"toc-item-num\">4&nbsp;&nbsp;</span>Чек-лист готовности проекта</a></span></li></ul></div>"
   ]
  },
  {
   "cell_type": "markdown",
   "metadata": {},
   "source": [
    "# Восстановление золота из руды"
   ]
  },
  {
   "cell_type": "markdown",
   "metadata": {},
   "source": [
    "Подготовьте прототип модели машинного обучения для «Цифры». Компания разрабатывает решения для эффективной работы промышленных предприятий.\n",
    "\n",
    "Модель должна предсказать коэффициент восстановления золота из золотосодержащей руды. Используйте данные с параметрами добычи и очистки. \n",
    "\n",
    "Модель поможет оптимизировать производство, чтобы не запускать предприятие с убыточными характеристиками.\n",
    "\n",
    "Вам нужно:\n",
    "\n",
    "1. Подготовить данные;\n",
    "2. Провести исследовательский анализ данных;\n",
    "3. Построить и обучить модель.\n",
    "\n",
    "Чтобы выполнить проект, обращайтесь к библиотекам *pandas*, *matplotlib* и *sklearn.* Вам поможет их документация."
   ]
  },
  {
   "cell_type": "raw",
   "metadata": {},
   "source": [
    "pip install pandas_profiling"
   ]
  },
  {
   "cell_type": "code",
   "execution_count": 1,
   "metadata": {},
   "outputs": [
    {
     "name": "stderr",
     "output_type": "stream",
     "text": [
      "/Users/anatoliifrolov/anaconda3/lib/python3.11/site-packages/numba/core/decorators.py:262: NumbaDeprecationWarning: \u001b[1mnumba.generated_jit is deprecated. Please see the documentation at: https://numba.readthedocs.io/en/stable/reference/deprecation.html#deprecation-of-generated-jit for more information and advice on a suitable replacement.\u001b[0m\n",
      "  warnings.warn(msg, NumbaDeprecationWarning)\n",
      "/Users/anatoliifrolov/anaconda3/lib/python3.11/site-packages/visions/backends/shared/nan_handling.py:50: NumbaDeprecationWarning: \u001b[1mThe 'nopython' keyword argument was not supplied to the 'numba.jit' decorator. The implicit default value for this argument is currently False, but it will be changed to True in Numba 0.59.0. See https://numba.readthedocs.io/en/stable/reference/deprecation.html#deprecation-of-object-mode-fall-back-behaviour-when-using-jit for details.\u001b[0m\n",
      "  @nb.jit\n",
      "/var/folders/bq/c87ppshj4m5d_hqbqb6pv2km0000gn/T/ipykernel_82959/3266862613.py:3: DeprecationWarning: `import pandas_profiling` is going to be deprecated by April 1st. Please use `import ydata_profiling` instead.\n",
      "  import pandas_profiling  as pdt\n"
     ]
    }
   ],
   "source": [
    "import numpy as np\n",
    "import pandas as pd\n",
    "import pandas_profiling  as pdt\n",
    "from pandas_profiling import ProfileReport\n",
    "from sklearn.model_selection import train_test_split\n",
    "from sklearn.linear_model import LinearRegression\n",
    "from sklearn.tree import DecisionTreeClassifier,DecisionTreeRegressor\n",
    "from sklearn.ensemble import RandomForestRegressor,RandomForestClassifier,GradientBoostingRegressor,AdaBoostClassifier\n",
    "from sklearn.metrics import mean_absolute_error\n",
    "import seaborn as sb\n",
    "from sklearn.metrics import make_scorer\n",
    "from sklearn.model_selection import cross_val_score,cross_val_predict\n",
    "from sklearn.dummy import DummyRegressor\n"
   ]
  },
  {
   "cell_type": "code",
   "execution_count": 2,
   "metadata": {},
   "outputs": [
    {
     "name": "stderr",
     "output_type": "stream",
     "text": [
      "/var/folders/bq/c87ppshj4m5d_hqbqb6pv2km0000gn/T/ipykernel_82959/912229180.py:1: DeprecationWarning: Importing display from IPython.core.display is deprecated since IPython 7.14, please import from IPython display\n",
      "  from IPython.core.display import display, HTML\n"
     ]
    },
    {
     "data": {
      "text/html": [
       "<style>.container { width:90% !important; }</style>"
      ],
      "text/plain": [
       "<IPython.core.display.HTML object>"
      ]
     },
     "metadata": {},
     "output_type": "display_data"
    }
   ],
   "source": [
    "from IPython.core.display import display, HTML\n",
    "display(HTML(\"<style>.container { width:90% !important; }</style>\"))"
   ]
  },
  {
   "cell_type": "markdown",
   "metadata": {},
   "source": [
    "## Подготовка данных"
   ]
  },
  {
   "cell_type": "markdown",
   "metadata": {},
   "source": [
    "### Data Revue\n"
   ]
  },
  {
   "cell_type": "code",
   "execution_count": 3,
   "metadata": {},
   "outputs": [],
   "source": [
    "data_full = pd.read_csv('gold_industry_full.csv')\n",
    "data_train = pd.read_csv('gold_industry_train.csv')\n",
    "data_test = pd.read_csv('gold_industry_test.csv')"
   ]
  },
  {
   "cell_type": "markdown",
   "metadata": {},
   "source": [
    "### Обзор датасетов"
   ]
  },
  {
   "cell_type": "raw",
   "metadata": {},
   "source": [
    "#pdt.ProfileReport(data_full)"
   ]
  },
  {
   "cell_type": "raw",
   "metadata": {},
   "source": [
    "#pdt.ProfileReport(data_train)"
   ]
  },
  {
   "cell_type": "raw",
   "metadata": {},
   "source": [
    "#pdt.ProfileReport(data_test)"
   ]
  },
  {
   "cell_type": "markdown",
   "metadata": {},
   "source": [
    "### Проверка эффективности обогащения"
   ]
  },
  {
   "cell_type": "code",
   "execution_count": 4,
   "metadata": {},
   "outputs": [
    {
     "data": {
      "text/plain": [
       "<Axes: xlabel='rougher.output.recovery', ylabel='Count'>"
      ]
     },
     "execution_count": 4,
     "metadata": {},
     "output_type": "execute_result"
    },
    {
     "data": {
      "image/png": "[encoded data removed]",
      "text/plain": [
       "<Figure size 640x480 with 1 Axes>"
      ]
     },
     "metadata": {},
     "output_type": "display_data"
    }
   ],
   "source": [
    "sb.histplot(data = data_train, x = 'rougher.output.recovery',binwidth=3,kde=True)"
   ]
  },
  {
   "cell_type": "markdown",
   "metadata": {},
   "source": [
    "Если приглядеться к графику, то можно увидеть, что начиная с 50, данные распределены нормально"
   ]
  },
  {
   "cell_type": "code",
   "execution_count": 5,
   "metadata": {},
   "outputs": [
    {
     "name": "stderr",
     "output_type": "stream",
     "text": [
      "/var/folders/bq/c87ppshj4m5d_hqbqb6pv2km0000gn/T/ipykernel_82959/57553026.py:1: FutureWarning: The default dtype for empty Series will be 'object' instead of 'float64' in a future version. Specify a dtype explicitly to silence this warning.\n",
      "  new_calc = pd.Series()\n"
     ]
    }
   ],
   "source": [
    "new_calc = pd.Series()"
   ]
  },
  {
   "cell_type": "code",
   "execution_count": 6,
   "metadata": {},
   "outputs": [],
   "source": [
    "C = data_train['rougher.output.concentrate_au']\n",
    "F = data_train['rougher.input.feed_au']\n",
    "T = data_train['rougher.output.tail_au']"
   ]
  },
  {
   "cell_type": "code",
   "execution_count": 7,
   "metadata": {},
   "outputs": [],
   "source": [
    "new_calc = (C * ( F - T)/( F * (C - T)))*  100"
   ]
  },
  {
   "cell_type": "markdown",
   "metadata": {},
   "source": [
    "<font color='blue'><b>Комментарий ревьюера: </b></font> ✔️\\\n",
    "<font color='green'>Расчёт верный!</font>"
   ]
  },
  {
   "cell_type": "code",
   "execution_count": 8,
   "metadata": {},
   "outputs": [
    {
     "data": {
      "text/plain": [
       "<Axes: ylabel='Count'>"
      ]
     },
     "execution_count": 8,
     "metadata": {},
     "output_type": "execute_result"
    },
    {
     "data": {
      "image/png": "[encoded data removed]",
      "text/plain": [
       "<Figure size 640x480 with 1 Axes>"
      ]
     },
     "metadata": {},
     "output_type": "display_data"
    }
   ],
   "source": [
    "sb.histplot(x = new_calc,binwidth=3,kde=True)"
   ]
  },
  {
   "cell_type": "code",
   "execution_count": 9,
   "metadata": {},
   "outputs": [
    {
     "data": {
      "text/plain": [
       "9.862076326186705e-15"
      ]
     },
     "execution_count": 9,
     "metadata": {},
     "output_type": "execute_result"
    }
   ],
   "source": [
    "mae = mean_absolute_error(data_train['rougher.output.recovery'] , new_calc)\n",
    "mae"
   ]
  },
  {
   "cell_type": "markdown",
   "metadata": {},
   "source": [
    "Отклонение минимально, данные посчитаны правильно"
   ]
  },
  {
   "cell_type": "markdown",
   "metadata": {},
   "source": [
    "### Анализ признаков"
   ]
  },
  {
   "cell_type": "code",
   "execution_count": 10,
   "metadata": {},
   "outputs": [],
   "source": [
    "test_columns = data_test.columns\n",
    "train_columns = data_train.columns"
   ]
  },
  {
   "cell_type": "code",
   "execution_count": 11,
   "metadata": {},
   "outputs": [
    {
     "data": {
      "text/plain": [
       "53"
      ]
     },
     "execution_count": 11,
     "metadata": {},
     "output_type": "execute_result"
    }
   ],
   "source": [
    "len(test_columns)"
   ]
  },
  {
   "cell_type": "code",
   "execution_count": 12,
   "metadata": {},
   "outputs": [
    {
     "data": {
      "text/plain": [
       "53"
      ]
     },
     "execution_count": 12,
     "metadata": {},
     "output_type": "execute_result"
    }
   ],
   "source": [
    "len(test_columns.intersection(train_columns))"
   ]
  },
  {
   "cell_type": "code",
   "execution_count": 13,
   "metadata": {},
   "outputs": [
    {
     "data": {
      "text/plain": [
       "Index(['date', 'rougher.input.feed_au', 'rougher.input.feed_ag',\n",
       "       'rougher.input.feed_pb', 'rougher.input.feed_sol',\n",
       "       'rougher.input.feed_rate', 'rougher.input.feed_size',\n",
       "       'rougher.input.floatbank10_sulfate',\n",
       "       'rougher.input.floatbank10_xanthate', 'rougher.state.floatbank10_a_air',\n",
       "       'rougher.state.floatbank10_a_level', 'rougher.state.floatbank10_b_air',\n",
       "       'rougher.state.floatbank10_b_level', 'rougher.state.floatbank10_c_air',\n",
       "       'rougher.state.floatbank10_c_level', 'rougher.state.floatbank10_d_air',\n",
       "       'rougher.state.floatbank10_d_level', 'rougher.state.floatbank10_e_air',\n",
       "       'rougher.state.floatbank10_e_level', 'rougher.state.floatbank10_f_air',\n",
       "       'rougher.state.floatbank10_f_level',\n",
       "       'rougher.input.floatbank11_sulfate',\n",
       "       'rougher.input.floatbank11_xanthate', 'primary_cleaner.input.sulfate',\n",
       "       'primary_cleaner.input.depressant', 'primary_cleaner.input.feed_size',\n",
       "       'primary_cleaner.input.xanthate',\n",
       "       'primary_cleaner.state.floatbank8_a_air',\n",
       "       'primary_cleaner.state.floatbank8_a_level',\n",
       "       'primary_cleaner.state.floatbank8_b_air',\n",
       "       'primary_cleaner.state.floatbank8_b_level',\n",
       "       'primary_cleaner.state.floatbank8_c_air',\n",
       "       'primary_cleaner.state.floatbank8_c_level',\n",
       "       'primary_cleaner.state.floatbank8_d_air',\n",
       "       'primary_cleaner.state.floatbank8_d_level',\n",
       "       'secondary_cleaner.state.floatbank2_a_air',\n",
       "       'secondary_cleaner.state.floatbank2_a_level',\n",
       "       'secondary_cleaner.state.floatbank2_b_air',\n",
       "       'secondary_cleaner.state.floatbank2_b_level',\n",
       "       'secondary_cleaner.state.floatbank3_a_air',\n",
       "       'secondary_cleaner.state.floatbank3_a_level',\n",
       "       'secondary_cleaner.state.floatbank3_b_air',\n",
       "       'secondary_cleaner.state.floatbank3_b_level',\n",
       "       'secondary_cleaner.state.floatbank4_a_air',\n",
       "       'secondary_cleaner.state.floatbank4_a_level',\n",
       "       'secondary_cleaner.state.floatbank4_b_air',\n",
       "       'secondary_cleaner.state.floatbank4_b_level',\n",
       "       'secondary_cleaner.state.floatbank5_a_air',\n",
       "       'secondary_cleaner.state.floatbank5_a_level',\n",
       "       'secondary_cleaner.state.floatbank5_b_air',\n",
       "       'secondary_cleaner.state.floatbank5_b_level',\n",
       "       'secondary_cleaner.state.floatbank6_a_air',\n",
       "       'secondary_cleaner.state.floatbank6_a_level'],\n",
       "      dtype='object')"
      ]
     },
     "execution_count": 13,
     "metadata": {},
     "output_type": "execute_result"
    }
   ],
   "source": [
    "test_columns"
   ]
  },
  {
   "cell_type": "markdown",
   "metadata": {},
   "source": [
    "количество столбцов в тестовой и тренировочной выборке равны, никаких новый столбцов нет"
   ]
  },
  {
   "cell_type": "code",
   "execution_count": 14,
   "metadata": {},
   "outputs": [
    {
     "data": {
      "text/plain": [
       "Index(['rougher.calculation.sulfate_to_au_concentrate',\n",
       "       'rougher.calculation.floatbank10_sulfate_to_au_feed',\n",
       "       'rougher.calculation.floatbank11_sulfate_to_au_feed',\n",
       "       'rougher.calculation.au_pb_ratio', 'rougher.output.concentrate_au',\n",
       "       'rougher.output.concentrate_ag', 'rougher.output.concentrate_pb',\n",
       "       'rougher.output.concentrate_sol', 'rougher.output.recovery',\n",
       "       'rougher.output.tail_au', 'rougher.output.tail_ag',\n",
       "       'rougher.output.tail_pb', 'rougher.output.tail_sol',\n",
       "       'primary_cleaner.output.concentrate_au',\n",
       "       'primary_cleaner.output.concentrate_ag',\n",
       "       'primary_cleaner.output.concentrate_pb',\n",
       "       'primary_cleaner.output.concentrate_sol',\n",
       "       'primary_cleaner.output.tail_au', 'primary_cleaner.output.tail_ag',\n",
       "       'primary_cleaner.output.tail_pb', 'primary_cleaner.output.tail_sol',\n",
       "       'secondary_cleaner.output.tail_au', 'secondary_cleaner.output.tail_ag',\n",
       "       'secondary_cleaner.output.tail_pb', 'secondary_cleaner.output.tail_sol',\n",
       "       'final.output.concentrate_au', 'final.output.concentrate_ag',\n",
       "       'final.output.concentrate_pb', 'final.output.concentrate_sol',\n",
       "       'final.output.recovery', 'final.output.tail_au', 'final.output.tail_ag',\n",
       "       'final.output.tail_pb', 'final.output.tail_sol'],\n",
       "      dtype='object')"
      ]
     },
     "execution_count": 14,
     "metadata": {},
     "output_type": "execute_result"
    }
   ],
   "source": [
    "not_test_columns = data_train.drop(columns = test_columns.intersection(train_columns),axis = 1)\n",
    "not_test_columns.columns # осталось 34 колонки "
   ]
  },
  {
   "cell_type": "markdown",
   "metadata": {},
   "source": [
    "Типы призанков, отсутствующие в тестовой выборке\n",
    "\n",
    "1. final.output* - финальные характеристики, параметры продукта\n",
    "2. primary_cleaner.output* - первичная очистка, параметры продукта\n",
    "3. rougher.calculation* - флотация, расчётные характеристики\n",
    "4. rougher.output* - флотация, параметры продукта\n",
    "5. secondary_cleaner.output* - вторичная очистка, параметры продукта\n",
    "\n",
    "Эти данные отсутствуют, так как их невозможно посчитать на этом этапе"
   ]
  },
  {
   "cell_type": "markdown",
   "metadata": {},
   "source": [
    "### Предобработка данных"
   ]
  },
  {
   "cell_type": "code",
   "execution_count": 15,
   "metadata": {},
   "outputs": [
    {
     "data": {
      "text/plain": [
       "str"
      ]
     },
     "execution_count": 15,
     "metadata": {},
     "output_type": "execute_result"
    }
   ],
   "source": [
    "type(data_train['date'][1]) # для удобства стоит перевести данные даты в date time"
   ]
  },
  {
   "cell_type": "code",
   "execution_count": 16,
   "metadata": {},
   "outputs": [],
   "source": [
    "DATE = '%Y-%m-%d %H:%M:%S'\n",
    "data_train['date'] = pd.to_datetime(data_train['date'], format=DATE)\n",
    "data_test['date'] = pd.to_datetime(data_test['date'], format=DATE)\n",
    "data_full['date'] = pd.to_datetime(data_full['date'], format=DATE)"
   ]
  },
  {
   "cell_type": "markdown",
   "metadata": {},
   "source": [
    "#### Изменение индекса"
   ]
  },
  {
   "cell_type": "code",
   "execution_count": 17,
   "metadata": {},
   "outputs": [],
   "source": [
    "data_full = data_full.set_index('date')"
   ]
  },
  {
   "cell_type": "code",
   "execution_count": 18,
   "metadata": {},
   "outputs": [],
   "source": [
    "data_train = data_train.set_index('date')"
   ]
  },
  {
   "cell_type": "code",
   "execution_count": 19,
   "metadata": {},
   "outputs": [],
   "source": [
    "data_test = data_test.set_index('date')"
   ]
  },
  {
   "cell_type": "code",
   "execution_count": 20,
   "metadata": {},
   "outputs": [
    {
     "data": {
      "text/html": [
       "<div>\n",
       "<style scoped>\n",
       "    .dataframe tbody tr th:only-of-type {\n",
       "        vertical-align: middle;\n",
       "    }\n",
       "\n",
       "    .dataframe tbody tr th {\n",
       "        vertical-align: top;\n",
       "    }\n",
       "\n",
       "    .dataframe thead th {\n",
       "        text-align: right;\n",
       "    }\n",
       "</style>\n",
       "<table border=\"1\" class=\"dataframe\">\n",
       "  <thead>\n",
       "    <tr style=\"text-align: right;\">\n",
       "      <th></th>\n",
       "      <th>rougher.input.feed_au</th>\n",
       "      <th>rougher.input.feed_ag</th>\n",
       "      <th>rougher.input.feed_pb</th>\n",
       "      <th>rougher.input.feed_sol</th>\n",
       "      <th>rougher.input.feed_rate</th>\n",
       "      <th>rougher.input.feed_size</th>\n",
       "      <th>rougher.input.floatbank10_sulfate</th>\n",
       "      <th>rougher.input.floatbank10_xanthate</th>\n",
       "      <th>rougher.state.floatbank10_a_air</th>\n",
       "      <th>rougher.state.floatbank10_a_level</th>\n",
       "      <th>...</th>\n",
       "      <th>secondary_cleaner.state.floatbank4_a_air</th>\n",
       "      <th>secondary_cleaner.state.floatbank4_a_level</th>\n",
       "      <th>secondary_cleaner.state.floatbank4_b_air</th>\n",
       "      <th>secondary_cleaner.state.floatbank4_b_level</th>\n",
       "      <th>secondary_cleaner.state.floatbank5_a_air</th>\n",
       "      <th>secondary_cleaner.state.floatbank5_a_level</th>\n",
       "      <th>secondary_cleaner.state.floatbank5_b_air</th>\n",
       "      <th>secondary_cleaner.state.floatbank5_b_level</th>\n",
       "      <th>secondary_cleaner.state.floatbank6_a_air</th>\n",
       "      <th>secondary_cleaner.state.floatbank6_a_level</th>\n",
       "    </tr>\n",
       "    <tr>\n",
       "      <th>date</th>\n",
       "      <th></th>\n",
       "      <th></th>\n",
       "      <th></th>\n",
       "      <th></th>\n",
       "      <th></th>\n",
       "      <th></th>\n",
       "      <th></th>\n",
       "      <th></th>\n",
       "      <th></th>\n",
       "      <th></th>\n",
       "      <th></th>\n",
       "      <th></th>\n",
       "      <th></th>\n",
       "      <th></th>\n",
       "      <th></th>\n",
       "      <th></th>\n",
       "      <th></th>\n",
       "      <th></th>\n",
       "      <th></th>\n",
       "      <th></th>\n",
       "      <th></th>\n",
       "    </tr>\n",
       "  </thead>\n",
       "  <tbody>\n",
       "    <tr>\n",
       "      <th>2017-12-09 14:59:59</th>\n",
       "      <td>4.365491</td>\n",
       "      <td>6.158718</td>\n",
       "      <td>3.875727</td>\n",
       "      <td>39.135119</td>\n",
       "      <td>555.820208</td>\n",
       "      <td>94.544358</td>\n",
       "      <td>6.146982</td>\n",
       "      <td>9.308612</td>\n",
       "      <td>1196.238112</td>\n",
       "      <td>-299.862743</td>\n",
       "      <td>...</td>\n",
       "      <td>23.018622</td>\n",
       "      <td>-500.492702</td>\n",
       "      <td>20.020205</td>\n",
       "      <td>-500.220296</td>\n",
       "      <td>17.963512</td>\n",
       "      <td>-499.939490</td>\n",
       "      <td>12.990306</td>\n",
       "      <td>-500.080993</td>\n",
       "      <td>19.990336</td>\n",
       "      <td>-499.191575</td>\n",
       "    </tr>\n",
       "    <tr>\n",
       "      <th>2017-12-09 15:59:59</th>\n",
       "      <td>4.362781</td>\n",
       "      <td>6.048130</td>\n",
       "      <td>3.902537</td>\n",
       "      <td>39.713906</td>\n",
       "      <td>544.731687</td>\n",
       "      <td>123.742430</td>\n",
       "      <td>6.210119</td>\n",
       "      <td>9.297709</td>\n",
       "      <td>1201.904177</td>\n",
       "      <td>-299.907308</td>\n",
       "      <td>...</td>\n",
       "      <td>23.024963</td>\n",
       "      <td>-501.153409</td>\n",
       "      <td>20.054122</td>\n",
       "      <td>-500.314711</td>\n",
       "      <td>17.979515</td>\n",
       "      <td>-499.272871</td>\n",
       "      <td>12.992404</td>\n",
       "      <td>-499.976268</td>\n",
       "      <td>20.013986</td>\n",
       "      <td>-500.625471</td>\n",
       "    </tr>\n",
       "    <tr>\n",
       "      <th>2017-12-09 16:59:59</th>\n",
       "      <td>5.081681</td>\n",
       "      <td>6.082745</td>\n",
       "      <td>4.564078</td>\n",
       "      <td>37.208683</td>\n",
       "      <td>558.155110</td>\n",
       "      <td>82.610855</td>\n",
       "      <td>7.363824</td>\n",
       "      <td>9.003562</td>\n",
       "      <td>1200.826926</td>\n",
       "      <td>-300.124116</td>\n",
       "      <td>...</td>\n",
       "      <td>22.993827</td>\n",
       "      <td>-501.559663</td>\n",
       "      <td>20.029144</td>\n",
       "      <td>-500.000662</td>\n",
       "      <td>18.012723</td>\n",
       "      <td>-500.024764</td>\n",
       "      <td>13.016445</td>\n",
       "      <td>-500.058432</td>\n",
       "      <td>19.973767</td>\n",
       "      <td>-501.394155</td>\n",
       "    </tr>\n",
       "    <tr>\n",
       "      <th>2017-12-09 17:59:59</th>\n",
       "      <td>5.145949</td>\n",
       "      <td>6.084374</td>\n",
       "      <td>4.768124</td>\n",
       "      <td>36.808874</td>\n",
       "      <td>539.713765</td>\n",
       "      <td>77.984784</td>\n",
       "      <td>6.927072</td>\n",
       "      <td>8.955597</td>\n",
       "      <td>1199.292489</td>\n",
       "      <td>-299.778385</td>\n",
       "      <td>...</td>\n",
       "      <td>23.032807</td>\n",
       "      <td>-501.287889</td>\n",
       "      <td>19.977466</td>\n",
       "      <td>-500.159903</td>\n",
       "      <td>17.980463</td>\n",
       "      <td>-500.504602</td>\n",
       "      <td>12.949071</td>\n",
       "      <td>-500.009937</td>\n",
       "      <td>20.010332</td>\n",
       "      <td>-508.337973</td>\n",
       "    </tr>\n",
       "    <tr>\n",
       "      <th>2017-12-09 18:59:59</th>\n",
       "      <td>5.735249</td>\n",
       "      <td>6.165220</td>\n",
       "      <td>4.512346</td>\n",
       "      <td>37.810642</td>\n",
       "      <td>558.713584</td>\n",
       "      <td>86.434874</td>\n",
       "      <td>7.823471</td>\n",
       "      <td>7.490356</td>\n",
       "      <td>1198.005449</td>\n",
       "      <td>-300.283401</td>\n",
       "      <td>...</td>\n",
       "      <td>23.001911</td>\n",
       "      <td>-499.947838</td>\n",
       "      <td>20.023735</td>\n",
       "      <td>-499.713680</td>\n",
       "      <td>17.990955</td>\n",
       "      <td>-500.334769</td>\n",
       "      <td>13.007523</td>\n",
       "      <td>-499.968459</td>\n",
       "      <td>19.995999</td>\n",
       "      <td>-499.788805</td>\n",
       "    </tr>\n",
       "  </tbody>\n",
       "</table>\n",
       "<p>5 rows × 52 columns</p>\n",
       "</div>"
      ],
      "text/plain": [
       "                     rougher.input.feed_au  rougher.input.feed_ag  \\\n",
       "date                                                                \n",
       "2017-12-09 14:59:59               4.365491               6.158718   \n",
       "2017-12-09 15:59:59               4.362781               6.048130   \n",
       "2017-12-09 16:59:59               5.081681               6.082745   \n",
       "2017-12-09 17:59:59               5.145949               6.084374   \n",
       "2017-12-09 18:59:59               5.735249               6.165220   \n",
       "\n",
       "                     rougher.input.feed_pb  rougher.input.feed_sol  \\\n",
       "date                                                                 \n",
       "2017-12-09 14:59:59               3.875727               39.135119   \n",
       "2017-12-09 15:59:59               3.902537               39.713906   \n",
       "2017-12-09 16:59:59               4.564078               37.208683   \n",
       "2017-12-09 17:59:59               4.768124               36.808874   \n",
       "2017-12-09 18:59:59               4.512346               37.810642   \n",
       "\n",
       "                     rougher.input.feed_rate  rougher.input.feed_size  \\\n",
       "date                                                                    \n",
       "2017-12-09 14:59:59               555.820208                94.544358   \n",
       "2017-12-09 15:59:59               544.731687               123.742430   \n",
       "2017-12-09 16:59:59               558.155110                82.610855   \n",
       "2017-12-09 17:59:59               539.713765                77.984784   \n",
       "2017-12-09 18:59:59               558.713584                86.434874   \n",
       "\n",
       "                     rougher.input.floatbank10_sulfate  \\\n",
       "date                                                     \n",
       "2017-12-09 14:59:59                           6.146982   \n",
       "2017-12-09 15:59:59                           6.210119   \n",
       "2017-12-09 16:59:59                           7.363824   \n",
       "2017-12-09 17:59:59                           6.927072   \n",
       "2017-12-09 18:59:59                           7.823471   \n",
       "\n",
       "                     rougher.input.floatbank10_xanthate  \\\n",
       "date                                                      \n",
       "2017-12-09 14:59:59                            9.308612   \n",
       "2017-12-09 15:59:59                            9.297709   \n",
       "2017-12-09 16:59:59                            9.003562   \n",
       "2017-12-09 17:59:59                            8.955597   \n",
       "2017-12-09 18:59:59                            7.490356   \n",
       "\n",
       "                     rougher.state.floatbank10_a_air  \\\n",
       "date                                                   \n",
       "2017-12-09 14:59:59                      1196.238112   \n",
       "2017-12-09 15:59:59                      1201.904177   \n",
       "2017-12-09 16:59:59                      1200.826926   \n",
       "2017-12-09 17:59:59                      1199.292489   \n",
       "2017-12-09 18:59:59                      1198.005449   \n",
       "\n",
       "                     rougher.state.floatbank10_a_level  ...  \\\n",
       "date                                                    ...   \n",
       "2017-12-09 14:59:59                        -299.862743  ...   \n",
       "2017-12-09 15:59:59                        -299.907308  ...   \n",
       "2017-12-09 16:59:59                        -300.124116  ...   \n",
       "2017-12-09 17:59:59                        -299.778385  ...   \n",
       "2017-12-09 18:59:59                        -300.283401  ...   \n",
       "\n",
       "                     secondary_cleaner.state.floatbank4_a_air  \\\n",
       "date                                                            \n",
       "2017-12-09 14:59:59                                 23.018622   \n",
       "2017-12-09 15:59:59                                 23.024963   \n",
       "2017-12-09 16:59:59                                 22.993827   \n",
       "2017-12-09 17:59:59                                 23.032807   \n",
       "2017-12-09 18:59:59                                 23.001911   \n",
       "\n",
       "                     secondary_cleaner.state.floatbank4_a_level  \\\n",
       "date                                                              \n",
       "2017-12-09 14:59:59                                 -500.492702   \n",
       "2017-12-09 15:59:59                                 -501.153409   \n",
       "2017-12-09 16:59:59                                 -501.559663   \n",
       "2017-12-09 17:59:59                                 -501.287889   \n",
       "2017-12-09 18:59:59                                 -499.947838   \n",
       "\n",
       "                     secondary_cleaner.state.floatbank4_b_air  \\\n",
       "date                                                            \n",
       "2017-12-09 14:59:59                                 20.020205   \n",
       "2017-12-09 15:59:59                                 20.054122   \n",
       "2017-12-09 16:59:59                                 20.029144   \n",
       "2017-12-09 17:59:59                                 19.977466   \n",
       "2017-12-09 18:59:59                                 20.023735   \n",
       "\n",
       "                     secondary_cleaner.state.floatbank4_b_level  \\\n",
       "date                                                              \n",
       "2017-12-09 14:59:59                                 -500.220296   \n",
       "2017-12-09 15:59:59                                 -500.314711   \n",
       "2017-12-09 16:59:59                                 -500.000662   \n",
       "2017-12-09 17:59:59                                 -500.159903   \n",
       "2017-12-09 18:59:59                                 -499.713680   \n",
       "\n",
       "                     secondary_cleaner.state.floatbank5_a_air  \\\n",
       "date                                                            \n",
       "2017-12-09 14:59:59                                 17.963512   \n",
       "2017-12-09 15:59:59                                 17.979515   \n",
       "2017-12-09 16:59:59                                 18.012723   \n",
       "2017-12-09 17:59:59                                 17.980463   \n",
       "2017-12-09 18:59:59                                 17.990955   \n",
       "\n",
       "                     secondary_cleaner.state.floatbank5_a_level  \\\n",
       "date                                                              \n",
       "2017-12-09 14:59:59                                 -499.939490   \n",
       "2017-12-09 15:59:59                                 -499.272871   \n",
       "2017-12-09 16:59:59                                 -500.024764   \n",
       "2017-12-09 17:59:59                                 -500.504602   \n",
       "2017-12-09 18:59:59                                 -500.334769   \n",
       "\n",
       "                     secondary_cleaner.state.floatbank5_b_air  \\\n",
       "date                                                            \n",
       "2017-12-09 14:59:59                                 12.990306   \n",
       "2017-12-09 15:59:59                                 12.992404   \n",
       "2017-12-09 16:59:59                                 13.016445   \n",
       "2017-12-09 17:59:59                                 12.949071   \n",
       "2017-12-09 18:59:59                                 13.007523   \n",
       "\n",
       "                     secondary_cleaner.state.floatbank5_b_level  \\\n",
       "date                                                              \n",
       "2017-12-09 14:59:59                                 -500.080993   \n",
       "2017-12-09 15:59:59                                 -499.976268   \n",
       "2017-12-09 16:59:59                                 -500.058432   \n",
       "2017-12-09 17:59:59                                 -500.009937   \n",
       "2017-12-09 18:59:59                                 -499.968459   \n",
       "\n",
       "                     secondary_cleaner.state.floatbank6_a_air  \\\n",
       "date                                                            \n",
       "2017-12-09 14:59:59                                 19.990336   \n",
       "2017-12-09 15:59:59                                 20.013986   \n",
       "2017-12-09 16:59:59                                 19.973767   \n",
       "2017-12-09 17:59:59                                 20.010332   \n",
       "2017-12-09 18:59:59                                 19.995999   \n",
       "\n",
       "                     secondary_cleaner.state.floatbank6_a_level  \n",
       "date                                                             \n",
       "2017-12-09 14:59:59                                 -499.191575  \n",
       "2017-12-09 15:59:59                                 -500.625471  \n",
       "2017-12-09 16:59:59                                 -501.394155  \n",
       "2017-12-09 17:59:59                                 -508.337973  \n",
       "2017-12-09 18:59:59                                 -499.788805  \n",
       "\n",
       "[5 rows x 52 columns]"
      ]
     },
     "execution_count": 20,
     "metadata": {},
     "output_type": "execute_result"
    }
   ],
   "source": [
    "data_test.head()"
   ]
  },
  {
   "cell_type": "markdown",
   "metadata": {},
   "source": [
    "#### El duplicate"
   ]
  },
  {
   "cell_type": "code",
   "execution_count": 21,
   "metadata": {},
   "outputs": [
    {
     "data": {
      "text/plain": [
       "False    14579\n",
       "dtype: int64"
      ]
     },
     "execution_count": 21,
     "metadata": {},
     "output_type": "execute_result"
    }
   ],
   "source": [
    "data_train.duplicated().value_counts()"
   ]
  },
  {
   "cell_type": "code",
   "execution_count": 22,
   "metadata": {},
   "outputs": [
    {
     "data": {
      "text/plain": [
       "False    4860\n",
       "dtype: int64"
      ]
     },
     "execution_count": 22,
     "metadata": {},
     "output_type": "execute_result"
    }
   ],
   "source": [
    "data_test.duplicated().value_counts()"
   ]
  },
  {
   "cell_type": "code",
   "execution_count": 23,
   "metadata": {},
   "outputs": [
    {
     "data": {
      "text/plain": [
       "False    19439\n",
       "dtype: int64"
      ]
     },
     "execution_count": 23,
     "metadata": {},
     "output_type": "execute_result"
    }
   ],
   "source": [
    "data_full.duplicated().value_counts()"
   ]
  },
  {
   "cell_type": "markdown",
   "metadata": {},
   "source": [
    "Явные дубликаты отсутствуют"
   ]
  },
  {
   "cell_type": "markdown",
   "metadata": {},
   "source": [
    "#### Пропуски"
   ]
  },
  {
   "cell_type": "code",
   "execution_count": 24,
   "metadata": {},
   "outputs": [
    {
     "data": {
      "text/plain": [
       "rougher.input.feed_au       0\n",
       "rougher.input.feed_ag       0\n",
       "rougher.input.feed_pb      72\n",
       "rougher.input.feed_sol     77\n",
       "rougher.input.feed_rate     7\n",
       "                           ..\n",
       "final.output.recovery       0\n",
       "final.output.tail_au        0\n",
       "final.output.tail_ag        1\n",
       "final.output.tail_pb       75\n",
       "final.output.tail_sol       5\n",
       "Length: 86, dtype: int64"
      ]
     },
     "execution_count": 24,
     "metadata": {},
     "output_type": "execute_result"
    }
   ],
   "source": [
    "data_train.isna().sum()"
   ]
  },
  {
   "cell_type": "code",
   "execution_count": 25,
   "metadata": {},
   "outputs": [],
   "source": [
    "#data_train = data_train.fillna(0)"
   ]
  },
  {
   "cell_type": "code",
   "execution_count": 26,
   "metadata": {},
   "outputs": [],
   "source": [
    "data_train = data_train.ffill()\n",
    "data_full = data_full.ffill()\n",
    "data_test = data_test.ffill()"
   ]
  },
  {
   "cell_type": "markdown",
   "metadata": {},
   "source": [
    "## Анализ данных"
   ]
  },
  {
   "cell_type": "code",
   "execution_count": 27,
   "metadata": {},
   "outputs": [
    {
     "data": {
      "text/plain": [
       "Index(['rougher.input.feed_au', 'rougher.input.feed_ag',\n",
       "       'rougher.input.feed_pb', 'rougher.input.feed_sol',\n",
       "       'rougher.input.feed_rate', 'rougher.input.feed_size',\n",
       "       'rougher.input.floatbank10_sulfate',\n",
       "       'rougher.input.floatbank10_xanthate', 'rougher.state.floatbank10_a_air',\n",
       "       'rougher.state.floatbank10_a_level', 'rougher.state.floatbank10_b_air',\n",
       "       'rougher.state.floatbank10_b_level', 'rougher.state.floatbank10_c_air',\n",
       "       'rougher.state.floatbank10_c_level', 'rougher.state.floatbank10_d_air',\n",
       "       'rougher.state.floatbank10_d_level', 'rougher.state.floatbank10_e_air',\n",
       "       'rougher.state.floatbank10_e_level', 'rougher.state.floatbank10_f_air',\n",
       "       'rougher.state.floatbank10_f_level',\n",
       "       'rougher.input.floatbank11_sulfate',\n",
       "       'rougher.input.floatbank11_xanthate',\n",
       "       'rougher.calculation.sulfate_to_au_concentrate',\n",
       "       'rougher.calculation.floatbank10_sulfate_to_au_feed',\n",
       "       'rougher.calculation.floatbank11_sulfate_to_au_feed',\n",
       "       'rougher.calculation.au_pb_ratio', 'rougher.output.concentrate_au',\n",
       "       'rougher.output.concentrate_ag', 'rougher.output.concentrate_pb',\n",
       "       'rougher.output.concentrate_sol', 'rougher.output.recovery',\n",
       "       'rougher.output.tail_au', 'rougher.output.tail_ag',\n",
       "       'rougher.output.tail_pb', 'rougher.output.tail_sol',\n",
       "       'primary_cleaner.input.sulfate', 'primary_cleaner.input.depressant',\n",
       "       'primary_cleaner.input.feed_size', 'primary_cleaner.input.xanthate',\n",
       "       'primary_cleaner.state.floatbank8_a_air',\n",
       "       'primary_cleaner.state.floatbank8_a_level',\n",
       "       'primary_cleaner.state.floatbank8_b_air',\n",
       "       'primary_cleaner.state.floatbank8_b_level',\n",
       "       'primary_cleaner.state.floatbank8_c_air',\n",
       "       'primary_cleaner.state.floatbank8_c_level',\n",
       "       'primary_cleaner.state.floatbank8_d_air',\n",
       "       'primary_cleaner.state.floatbank8_d_level',\n",
       "       'primary_cleaner.output.concentrate_au',\n",
       "       'primary_cleaner.output.concentrate_ag',\n",
       "       'primary_cleaner.output.concentrate_pb',\n",
       "       'primary_cleaner.output.concentrate_sol',\n",
       "       'primary_cleaner.output.tail_au', 'primary_cleaner.output.tail_ag',\n",
       "       'primary_cleaner.output.tail_pb', 'primary_cleaner.output.tail_sol',\n",
       "       'secondary_cleaner.state.floatbank2_a_air',\n",
       "       'secondary_cleaner.state.floatbank2_a_level',\n",
       "       'secondary_cleaner.state.floatbank2_b_air',\n",
       "       'secondary_cleaner.state.floatbank2_b_level',\n",
       "       'secondary_cleaner.state.floatbank3_a_air',\n",
       "       'secondary_cleaner.state.floatbank3_a_level',\n",
       "       'secondary_cleaner.state.floatbank3_b_air',\n",
       "       'secondary_cleaner.state.floatbank3_b_level',\n",
       "       'secondary_cleaner.state.floatbank4_a_air',\n",
       "       'secondary_cleaner.state.floatbank4_a_level',\n",
       "       'secondary_cleaner.state.floatbank4_b_air',\n",
       "       'secondary_cleaner.state.floatbank4_b_level',\n",
       "       'secondary_cleaner.state.floatbank5_a_air',\n",
       "       'secondary_cleaner.state.floatbank5_a_level',\n",
       "       'secondary_cleaner.state.floatbank5_b_air',\n",
       "       'secondary_cleaner.state.floatbank5_b_level',\n",
       "       'secondary_cleaner.state.floatbank6_a_air',\n",
       "       'secondary_cleaner.state.floatbank6_a_level',\n",
       "       'secondary_cleaner.output.tail_au', 'secondary_cleaner.output.tail_ag',\n",
       "       'secondary_cleaner.output.tail_pb', 'secondary_cleaner.output.tail_sol',\n",
       "       'final.output.concentrate_au', 'final.output.concentrate_ag',\n",
       "       'final.output.concentrate_pb', 'final.output.concentrate_sol',\n",
       "       'final.output.recovery', 'final.output.tail_au', 'final.output.tail_ag',\n",
       "       'final.output.tail_pb', 'final.output.tail_sol'],\n",
       "      dtype='object')"
      ]
     },
     "execution_count": 27,
     "metadata": {},
     "output_type": "execute_result"
    }
   ],
   "source": [
    "data_full.columns"
   ]
  },
  {
   "cell_type": "code",
   "execution_count": 28,
   "metadata": {},
   "outputs": [],
   "source": [
    "columns_ = ['rougher.input.feed_au', 'rougher.input.feed_ag',\n",
    "       'rougher.input.feed_pb', 'rougher.output.tail_au', 'rougher.output.tail_ag',\n",
    "       'rougher.output.tail_pb','primary_cleaner.output.concentrate_au',\n",
    "       'primary_cleaner.output.concentrate_ag',\n",
    "       'primary_cleaner.output.concentrate_pb','primary_cleaner.output.tail_au', 'primary_cleaner.output.tail_ag',\n",
    "       'primary_cleaner.output.tail_pb','secondary_cleaner.output.tail_au', 'secondary_cleaner.output.tail_ag',\n",
    "       'secondary_cleaner.output.tail_pb','final.output.concentrate_au', 'final.output.concentrate_ag',\n",
    "       'final.output.concentrate_pb','final.output.tail_au', 'final.output.tail_ag',\n",
    "       'final.output.tail_pb']"
   ]
  },
  {
   "cell_type": "markdown",
   "metadata": {},
   "source": [
    "### Концнтрация металлов на этапах очистики"
   ]
  },
  {
   "cell_type": "code",
   "execution_count": 29,
   "metadata": {},
   "outputs": [],
   "source": [
    "stages = ['rougher.input.feed', 'rougher.output.concentrate', 'primary_cleaner.output.concentrate', 'final.output.concentrate']\n",
    "#stages = [ 'rougher.output.concentrate', 'primary_cleaner.output.concentrate', 'final.output.concentrate']\n",
    "\n",
    "metals = ['au','ag','pb']"
   ]
  },
  {
   "cell_type": "code",
   "execution_count": 30,
   "metadata": {},
   "outputs": [],
   "source": [
    "input_feed = data_full[['rougher.input.feed_au', 'rougher.input.feed_ag','rougher.input.feed_pb']]"
   ]
  },
  {
   "cell_type": "code",
   "execution_count": 31,
   "metadata": {},
   "outputs": [
    {
     "data": {
      "text/plain": [
       "<Axes: ylabel='Count'>"
      ]
     },
     "execution_count": 31,
     "metadata": {},
     "output_type": "execute_result"
    },
    {
     "data": {
      "image/png": "[encoded data removed]",
      "text/plain": [
       "<Figure size 640x480 with 1 Axes>"
      ]
     },
     "metadata": {},
     "output_type": "display_data"
    }
   ],
   "source": [
    "sb.histplot(data = input_feed, bins = 100)"
   ]
  },
  {
   "cell_type": "code",
   "execution_count": 32,
   "metadata": {},
   "outputs": [],
   "source": [
    "def get_hist_stage (df, stages,metal):\n",
    "    inpt_feed = []\n",
    "    for stage in stages:\n",
    "        inpt_feed.append(stage + '_' + metal)\n",
    "    inpt_df = df[inpt_feed]\n",
    "    sb.histplot(data = inpt_df, bins = 100)"
   ]
  },
  {
   "cell_type": "code",
   "execution_count": 33,
   "metadata": {},
   "outputs": [
    {
     "data": {
      "image/png": "[encoded data removed]",
      "text/plain": [
       "<Figure size 640x480 with 1 Axes>"
      ]
     },
     "metadata": {},
     "output_type": "display_data"
    }
   ],
   "source": [
    "get_hist_stage(data_full,stages,'au')"
   ]
  },
  {
   "cell_type": "markdown",
   "metadata": {},
   "source": [
    "Концентрация золота постепенно уменьшалась с каждой стадией!\n"
   ]
  },
  {
   "cell_type": "code",
   "execution_count": 34,
   "metadata": {},
   "outputs": [
    {
     "data": {
      "image/png": "[encoded data removed]",
      "text/plain": [
       "<Figure size 640x480 with 1 Axes>"
      ]
     },
     "metadata": {},
     "output_type": "display_data"
    }
   ],
   "source": [
    "get_hist_stage(data_full,stages,'ag')"
   ]
  },
  {
   "cell_type": "markdown",
   "metadata": {},
   "source": [
    "Концентрация серебра постепенно уменьшалась с каждой стадией!\n"
   ]
  },
  {
   "cell_type": "markdown",
   "metadata": {},
   "source": [
    "Концентрация свинца постепенно уменьшалась с каждой стадией!\n"
   ]
  },
  {
   "cell_type": "code",
   "execution_count": 35,
   "metadata": {},
   "outputs": [
    {
     "data": {
      "image/png": "[encoded data removed]",
      "text/plain": [
       "<Figure size 640x480 with 1 Axes>"
      ]
     },
     "metadata": {},
     "output_type": "display_data"
    }
   ],
   "source": [
    "get_hist_stage(data_full,stages,'pb')"
   ]
  },
  {
   "cell_type": "markdown",
   "metadata": {},
   "source": [
    "Концентрация свинца почти не изменилась после полного процесса\n"
   ]
  },
  {
   "cell_type": "markdown",
   "metadata": {},
   "source": [
    "### Распределение гранул сырья на тестовой и тренировочной выборке"
   ]
  },
  {
   "cell_type": "code",
   "execution_count": 36,
   "metadata": {},
   "outputs": [],
   "source": [
    "# gran_df = pd.DataFrame(index = data_full.index)\n",
    "test_gran = data_test['rougher.input.feed_size']\n",
    "train_gran = data_train['rougher.input.feed_size']"
   ]
  },
  {
   "cell_type": "code",
   "execution_count": 37,
   "metadata": {},
   "outputs": [],
   "source": [
    "# data_test['rougher.input.feed_size']"
   ]
  },
  {
   "cell_type": "code",
   "execution_count": 38,
   "metadata": {},
   "outputs": [],
   "source": [
    "# gran_df.describe()"
   ]
  },
  {
   "cell_type": "code",
   "execution_count": 39,
   "metadata": {},
   "outputs": [],
   "source": [
    "# sb.histplot(data = gran_df)"
   ]
  },
  {
   "cell_type": "code",
   "execution_count": 40,
   "metadata": {},
   "outputs": [
    {
     "data": {
      "text/plain": [
       "<Axes: xlabel='rougher.input.feed_size', ylabel='Density'>"
      ]
     },
     "execution_count": 40,
     "metadata": {},
     "output_type": "execute_result"
    },
    {
     "data": {
      "image/png": "[encoded data removed]",
      "text/plain": [
       "<Figure size 640x480 with 1 Axes>"
      ]
     },
     "metadata": {},
     "output_type": "display_data"
    }
   ],
   "source": [
    "sb.kdeplot(data = test_gran)"
   ]
  },
  {
   "cell_type": "code",
   "execution_count": 41,
   "metadata": {},
   "outputs": [
    {
     "data": {
      "text/plain": [
       "<Axes: xlabel='rougher.input.feed_size', ylabel='Density'>"
      ]
     },
     "execution_count": 41,
     "metadata": {},
     "output_type": "execute_result"
    },
    {
     "data": {
      "image/png": "[encoded data removed]",
      "text/plain": [
       "<Figure size 640x480 with 1 Axes>"
      ]
     },
     "metadata": {},
     "output_type": "display_data"
    }
   ],
   "source": [
    "sb.kdeplot(data = train_gran)"
   ]
  },
  {
   "cell_type": "markdown",
   "metadata": {},
   "source": [
    "Несмотря на немного аномальных значений, распределения почти одинаковые"
   ]
  },
  {
   "cell_type": "markdown",
   "metadata": {},
   "source": []
  },
  {
   "cell_type": "markdown",
   "metadata": {},
   "source": [
    "### Cуммарная концентрация всех металлов на всех стадиях"
   ]
  },
  {
   "cell_type": "code",
   "execution_count": 42,
   "metadata": {},
   "outputs": [],
   "source": [
    "stages = ['rougher.input.feed', 'rougher.output.concentrate','primary_cleaner.output.concentrate','final.output.concentrate']\n",
    "\n",
    "metls  = ['au', 'pb', 'ag']"
   ]
  },
  {
   "cell_type": "code",
   "execution_count": 43,
   "metadata": {},
   "outputs": [],
   "source": [
    "def get_stage_list(stage, metls):\n",
    "    return list(map(lambda item: stage + '_' + item, metls))"
   ]
  },
  {
   "cell_type": "code",
   "execution_count": 44,
   "metadata": {},
   "outputs": [
    {
     "data": {
      "text/plain": [
       "['rougher.input.feed_au', 'rougher.input.feed_pb', 'rougher.input.feed_ag']"
      ]
     },
     "execution_count": 44,
     "metadata": {},
     "output_type": "execute_result"
    }
   ],
   "source": [
    "get_stage_list('rougher.input.feed',metls)"
   ]
  },
  {
   "cell_type": "code",
   "execution_count": 45,
   "metadata": {},
   "outputs": [],
   "source": [
    "def get_metls_sum(df):\n",
    "    metls_sum = pd.DataFrame()\n",
    "\n",
    "    for stage in stages:\n",
    "        metls_sum[stage] = df[get_stage_list(stage, metls)].sum(axis=1)\n",
    "    return metls_sum"
   ]
  },
  {
   "cell_type": "code",
   "execution_count": 46,
   "metadata": {},
   "outputs": [
    {
     "data": {
      "text/html": [
       "<div>\n",
       "<style scoped>\n",
       "    .dataframe tbody tr th:only-of-type {\n",
       "        vertical-align: middle;\n",
       "    }\n",
       "\n",
       "    .dataframe tbody tr th {\n",
       "        vertical-align: top;\n",
       "    }\n",
       "\n",
       "    .dataframe thead th {\n",
       "        text-align: right;\n",
       "    }\n",
       "</style>\n",
       "<table border=\"1\" class=\"dataframe\">\n",
       "  <thead>\n",
       "    <tr style=\"text-align: right;\">\n",
       "      <th></th>\n",
       "      <th>rougher.input.feed</th>\n",
       "      <th>rougher.output.concentrate</th>\n",
       "      <th>primary_cleaner.output.concentrate</th>\n",
       "      <th>final.output.concentrate</th>\n",
       "    </tr>\n",
       "    <tr>\n",
       "      <th>date</th>\n",
       "      <th></th>\n",
       "      <th></th>\n",
       "      <th></th>\n",
       "      <th></th>\n",
       "    </tr>\n",
       "  </thead>\n",
       "  <tbody>\n",
       "    <tr>\n",
       "      <th>2016-01-15 00:00:00</th>\n",
       "      <td>14.871440</td>\n",
       "      <td>38.395653</td>\n",
       "      <td>53.111627</td>\n",
       "      <td>58.137072</td>\n",
       "    </tr>\n",
       "    <tr>\n",
       "      <th>2016-01-15 01:00:00</th>\n",
       "      <td>14.905729</td>\n",
       "      <td>38.945647</td>\n",
       "      <td>53.174338</td>\n",
       "      <td>58.699942</td>\n",
       "    </tr>\n",
       "    <tr>\n",
       "      <th>2016-01-15 02:00:00</th>\n",
       "      <td>14.638299</td>\n",
       "      <td>38.649756</td>\n",
       "      <td>52.927464</td>\n",
       "      <td>58.927421</td>\n",
       "    </tr>\n",
       "    <tr>\n",
       "      <th>2016-01-15 03:00:00</th>\n",
       "      <td>14.199305</td>\n",
       "      <td>38.411473</td>\n",
       "      <td>43.979185</td>\n",
       "      <td>58.714815</td>\n",
       "    </tr>\n",
       "    <tr>\n",
       "      <th>2016-01-15 04:00:00</th>\n",
       "      <td>13.511497</td>\n",
       "      <td>38.867359</td>\n",
       "      <td>52.121146</td>\n",
       "      <td>59.065251</td>\n",
       "    </tr>\n",
       "  </tbody>\n",
       "</table>\n",
       "</div>"
      ],
      "text/plain": [
       "                     rougher.input.feed  rougher.output.concentrate  \\\n",
       "date                                                                  \n",
       "2016-01-15 00:00:00           14.871440                   38.395653   \n",
       "2016-01-15 01:00:00           14.905729                   38.945647   \n",
       "2016-01-15 02:00:00           14.638299                   38.649756   \n",
       "2016-01-15 03:00:00           14.199305                   38.411473   \n",
       "2016-01-15 04:00:00           13.511497                   38.867359   \n",
       "\n",
       "                     primary_cleaner.output.concentrate  \\\n",
       "date                                                      \n",
       "2016-01-15 00:00:00                           53.111627   \n",
       "2016-01-15 01:00:00                           53.174338   \n",
       "2016-01-15 02:00:00                           52.927464   \n",
       "2016-01-15 03:00:00                           43.979185   \n",
       "2016-01-15 04:00:00                           52.121146   \n",
       "\n",
       "                     final.output.concentrate  \n",
       "date                                           \n",
       "2016-01-15 00:00:00                 58.137072  \n",
       "2016-01-15 01:00:00                 58.699942  \n",
       "2016-01-15 02:00:00                 58.927421  \n",
       "2016-01-15 03:00:00                 58.714815  \n",
       "2016-01-15 04:00:00                 59.065251  "
      ]
     },
     "execution_count": 46,
     "metadata": {},
     "output_type": "execute_result"
    }
   ],
   "source": [
    "summ = get_metls_sum(data_train)\n",
    "summ.head()"
   ]
  },
  {
   "cell_type": "markdown",
   "metadata": {},
   "source": [
    "dataframe с суммами всех металлов подготовлен\n"
   ]
  },
  {
   "cell_type": "code",
   "execution_count": 47,
   "metadata": {},
   "outputs": [
    {
     "data": {
      "text/plain": [
       "<Axes: ylabel='Count'>"
      ]
     },
     "execution_count": 47,
     "metadata": {},
     "output_type": "execute_result"
    },
    {
     "data": {
      "image/png": "[encoded data removed]",
      "text/plain": [
       "<Figure size 640x480 with 1 Axes>"
      ]
     },
     "metadata": {},
     "output_type": "display_data"
    }
   ],
   "source": [
    "sb.histplot(data =summ )"
   ]
  },
  {
   "cell_type": "code",
   "execution_count": 48,
   "metadata": {},
   "outputs": [
    {
     "data": {
      "text/html": [
       "<div>\n",
       "<style scoped>\n",
       "    .dataframe tbody tr th:only-of-type {\n",
       "        vertical-align: middle;\n",
       "    }\n",
       "\n",
       "    .dataframe tbody tr th {\n",
       "        vertical-align: top;\n",
       "    }\n",
       "\n",
       "    .dataframe thead th {\n",
       "        text-align: right;\n",
       "    }\n",
       "</style>\n",
       "<table border=\"1\" class=\"dataframe\">\n",
       "  <thead>\n",
       "    <tr style=\"text-align: right;\">\n",
       "      <th></th>\n",
       "      <th>rougher.input.feed</th>\n",
       "      <th>rougher.output.concentrate</th>\n",
       "      <th>primary_cleaner.output.concentrate</th>\n",
       "      <th>final.output.concentrate</th>\n",
       "    </tr>\n",
       "  </thead>\n",
       "  <tbody>\n",
       "    <tr>\n",
       "      <th>count</th>\n",
       "      <td>14579.000000</td>\n",
       "      <td>14579.000000</td>\n",
       "      <td>14579.000000</td>\n",
       "      <td>14579.000000</td>\n",
       "    </tr>\n",
       "    <tr>\n",
       "      <th>mean</th>\n",
       "      <td>20.822495</td>\n",
       "      <td>39.160677</td>\n",
       "      <td>50.207766</td>\n",
       "      <td>59.095246</td>\n",
       "    </tr>\n",
       "    <tr>\n",
       "      <th>std</th>\n",
       "      <td>4.473493</td>\n",
       "      <td>7.612800</td>\n",
       "      <td>8.083385</td>\n",
       "      <td>6.610075</td>\n",
       "    </tr>\n",
       "    <tr>\n",
       "      <th>min</th>\n",
       "      <td>0.030000</td>\n",
       "      <td>0.000000</td>\n",
       "      <td>0.000000</td>\n",
       "      <td>0.000000</td>\n",
       "    </tr>\n",
       "    <tr>\n",
       "      <th>25%</th>\n",
       "      <td>17.437178</td>\n",
       "      <td>38.408945</td>\n",
       "      <td>50.038413</td>\n",
       "      <td>59.274984</td>\n",
       "    </tr>\n",
       "    <tr>\n",
       "      <th>50%</th>\n",
       "      <td>20.391557</td>\n",
       "      <td>40.387044</td>\n",
       "      <td>51.884783</td>\n",
       "      <td>60.283034</td>\n",
       "    </tr>\n",
       "    <tr>\n",
       "      <th>75%</th>\n",
       "      <td>23.958572</td>\n",
       "      <td>42.448805</td>\n",
       "      <td>53.355726</td>\n",
       "      <td>61.068067</td>\n",
       "    </tr>\n",
       "    <tr>\n",
       "      <th>max</th>\n",
       "      <td>33.324268</td>\n",
       "      <td>55.568687</td>\n",
       "      <td>60.269003</td>\n",
       "      <td>64.968881</td>\n",
       "    </tr>\n",
       "  </tbody>\n",
       "</table>\n",
       "</div>"
      ],
      "text/plain": [
       "       rougher.input.feed  rougher.output.concentrate  \\\n",
       "count        14579.000000                14579.000000   \n",
       "mean            20.822495                   39.160677   \n",
       "std              4.473493                    7.612800   \n",
       "min              0.030000                    0.000000   \n",
       "25%             17.437178                   38.408945   \n",
       "50%             20.391557                   40.387044   \n",
       "75%             23.958572                   42.448805   \n",
       "max             33.324268                   55.568687   \n",
       "\n",
       "       primary_cleaner.output.concentrate  final.output.concentrate  \n",
       "count                        14579.000000              14579.000000  \n",
       "mean                            50.207766                 59.095246  \n",
       "std                              8.083385                  6.610075  \n",
       "min                              0.000000                  0.000000  \n",
       "25%                             50.038413                 59.274984  \n",
       "50%                             51.884783                 60.283034  \n",
       "75%                             53.355726                 61.068067  \n",
       "max                             60.269003                 64.968881  "
      ]
     },
     "execution_count": 48,
     "metadata": {},
     "output_type": "execute_result"
    }
   ],
   "source": [
    "summ.describe()"
   ]
  },
  {
   "cell_type": "code",
   "execution_count": 49,
   "metadata": {},
   "outputs": [
    {
     "data": {
      "text/plain": [
       "<Axes: xlabel='rougher.input.feed', ylabel='Count'>"
      ]
     },
     "execution_count": 49,
     "metadata": {},
     "output_type": "execute_result"
    },
    {
     "data": {
      "image/png": "[encoded data removed]",
      "text/plain": [
       "<Figure size 640x480 with 1 Axes>"
      ]
     },
     "metadata": {},
     "output_type": "display_data"
    }
   ],
   "source": [
    "sb.histplot(data = summ, x = 'rougher.input.feed') "
   ]
  },
  {
   "cell_type": "code",
   "execution_count": 50,
   "metadata": {},
   "outputs": [
    {
     "data": {
      "text/plain": [
       "<Axes: ylabel='rougher.input.feed'>"
      ]
     },
     "execution_count": 50,
     "metadata": {},
     "output_type": "execute_result"
    },
    {
     "data": {
      "image/png": "[encoded data removed]",
      "text/plain": [
       "<Figure size 640x480 with 1 Axes>"
      ]
     },
     "metadata": {},
     "output_type": "display_data"
    }
   ],
   "source": [
    "sb.boxplot(data = summ , y= 'rougher.input.feed') # по графику можно понять, что дата left-skewed"
   ]
  },
  {
   "cell_type": "code",
   "execution_count": 51,
   "metadata": {},
   "outputs": [
    {
     "data": {
      "text/plain": [
       "<Axes: xlabel='rougher.output.concentrate', ylabel='Count'>"
      ]
     },
     "execution_count": 51,
     "metadata": {},
     "output_type": "execute_result"
    },
    {
     "data": {
      "image/png": "[encoded data removed]",
      "text/plain": [
       "<Figure size 640x480 with 1 Axes>"
      ]
     },
     "metadata": {},
     "output_type": "display_data"
    }
   ],
   "source": [
    "sb.histplot(data = summ, x = 'rougher.output.concentrate') "
   ]
  },
  {
   "cell_type": "code",
   "execution_count": 52,
   "metadata": {},
   "outputs": [
    {
     "data": {
      "text/plain": [
       "<Axes: ylabel='rougher.output.concentrate'>"
      ]
     },
     "execution_count": 52,
     "metadata": {},
     "output_type": "execute_result"
    },
    {
     "data": {
      "image/png": "[encoded data removed]",
      "text/plain": [
       "<Figure size 640x480 with 1 Axes>"
      ]
     },
     "metadata": {},
     "output_type": "display_data"
    }
   ],
   "source": [
    "sb.boxplot(data = summ , y= 'rougher.output.concentrate') # по графику можно понять, что дата left-skewed вновь"
   ]
  },
  {
   "cell_type": "code",
   "execution_count": 53,
   "metadata": {},
   "outputs": [
    {
     "data": {
      "text/plain": [
       "<Axes: xlabel='final.output.concentrate', ylabel='Count'>"
      ]
     },
     "execution_count": 53,
     "metadata": {},
     "output_type": "execute_result"
    },
    {
     "data": {
      "image/png": "[encoded data removed]",
      "text/plain": [
       "<Figure size 640x480 with 1 Axes>"
      ]
     },
     "metadata": {},
     "output_type": "display_data"
    }
   ],
   "source": [
    " sb.histplot(data = summ, x = 'final.output.concentrate') # здесб тоже без изменений"
   ]
  },
  {
   "cell_type": "code",
   "execution_count": 54,
   "metadata": {},
   "outputs": [
    {
     "data": {
      "text/plain": [
       "<Axes: xlabel='primary_cleaner.output.concentrate', ylabel='Count'>"
      ]
     },
     "execution_count": 54,
     "metadata": {},
     "output_type": "execute_result"
    },
    {
     "data": {
      "image/png": "[encoded data removed]",
      "text/plain": [
       "<Figure size 640x480 with 1 Axes>"
      ]
     },
     "metadata": {},
     "output_type": "display_data"
    }
   ],
   "source": [
    "sb.histplot(data = summ, x = 'primary_cleaner.output.concentrate') "
   ]
  },
  {
   "cell_type": "code",
   "execution_count": 55,
   "metadata": {},
   "outputs": [
    {
     "data": {
      "text/plain": [
       "<Axes: ylabel='primary_cleaner.output.concentrate'>"
      ]
     },
     "execution_count": 55,
     "metadata": {},
     "output_type": "execute_result"
    },
    {
     "data": {
      "image/png": "[encoded data removed]",
      "text/plain": [
       "<Figure size 640x480 with 1 Axes>"
      ]
     },
     "metadata": {},
     "output_type": "display_data"
    }
   ],
   "source": [
    "sb.boxplot(data = summ , y= 'primary_cleaner.output.concentrate') # по графику можно понять, что дата left-skewed вновь"
   ]
  },
  {
   "cell_type": "markdown",
   "metadata": {},
   "source": [
    "По результатам исследования можно сказать, что большинство представленной информации подчиняется законну больших чисел и распределено нормально. Есть хвосты, уберем их для дальнейших моделей"
   ]
  },
  {
   "cell_type": "markdown",
   "metadata": {},
   "source": [
    "### Пропуски"
   ]
  },
  {
   "cell_type": "code",
   "execution_count": 56,
   "metadata": {},
   "outputs": [
    {
     "data": {
      "text/plain": [
       "['rougher.input.feed_au', 'rougher.input.feed_pb', 'rougher.input.feed_ag']"
      ]
     },
     "execution_count": 56,
     "metadata": {},
     "output_type": "execute_result"
    }
   ],
   "source": [
    "get_stage_list('rougher.input.feed',metls)"
   ]
  },
  {
   "cell_type": "code",
   "execution_count": 57,
   "metadata": {},
   "outputs": [],
   "source": [
    "def cleaner_v2 (df,stages,metals):\n",
    "    for stage in stages:\n",
    "        for metal in metals:\n",
    "            df.drop(df[df[stage+'_' + metal] == 0].index, inplace = True)"
   ]
  },
  {
   "cell_type": "code",
   "execution_count": 58,
   "metadata": {},
   "outputs": [],
   "source": [
    "stages = ['rougher.input.feed', 'rougher.output.concentrate', 'primary_cleaner.output.concentrate', 'final.output.concentrate']"
   ]
  },
  {
   "cell_type": "code",
   "execution_count": 59,
   "metadata": {},
   "outputs": [],
   "source": [
    "cleaner_v2(data_train,stages,metals)"
   ]
  },
  {
   "cell_type": "code",
   "execution_count": 60,
   "metadata": {},
   "outputs": [
    {
     "data": {
      "text/html": [
       "<div>\n",
       "<style scoped>\n",
       "    .dataframe tbody tr th:only-of-type {\n",
       "        vertical-align: middle;\n",
       "    }\n",
       "\n",
       "    .dataframe tbody tr th {\n",
       "        vertical-align: top;\n",
       "    }\n",
       "\n",
       "    .dataframe thead th {\n",
       "        text-align: right;\n",
       "    }\n",
       "</style>\n",
       "<table border=\"1\" class=\"dataframe\">\n",
       "  <thead>\n",
       "    <tr style=\"text-align: right;\">\n",
       "      <th></th>\n",
       "      <th>rougher.input.feed_au</th>\n",
       "      <th>rougher.input.feed_ag</th>\n",
       "      <th>rougher.input.feed_pb</th>\n",
       "      <th>rougher.input.feed_sol</th>\n",
       "      <th>rougher.input.feed_rate</th>\n",
       "      <th>rougher.input.feed_size</th>\n",
       "      <th>rougher.input.floatbank10_sulfate</th>\n",
       "      <th>rougher.input.floatbank10_xanthate</th>\n",
       "      <th>rougher.state.floatbank10_a_air</th>\n",
       "      <th>rougher.state.floatbank10_a_level</th>\n",
       "      <th>...</th>\n",
       "      <th>secondary_cleaner.output.tail_sol</th>\n",
       "      <th>final.output.concentrate_au</th>\n",
       "      <th>final.output.concentrate_ag</th>\n",
       "      <th>final.output.concentrate_pb</th>\n",
       "      <th>final.output.concentrate_sol</th>\n",
       "      <th>final.output.recovery</th>\n",
       "      <th>final.output.tail_au</th>\n",
       "      <th>final.output.tail_ag</th>\n",
       "      <th>final.output.tail_pb</th>\n",
       "      <th>final.output.tail_sol</th>\n",
       "    </tr>\n",
       "    <tr>\n",
       "      <th>date</th>\n",
       "      <th></th>\n",
       "      <th></th>\n",
       "      <th></th>\n",
       "      <th></th>\n",
       "      <th></th>\n",
       "      <th></th>\n",
       "      <th></th>\n",
       "      <th></th>\n",
       "      <th></th>\n",
       "      <th></th>\n",
       "      <th></th>\n",
       "      <th></th>\n",
       "      <th></th>\n",
       "      <th></th>\n",
       "      <th></th>\n",
       "      <th></th>\n",
       "      <th></th>\n",
       "      <th></th>\n",
       "      <th></th>\n",
       "      <th></th>\n",
       "      <th></th>\n",
       "    </tr>\n",
       "  </thead>\n",
       "  <tbody>\n",
       "  </tbody>\n",
       "</table>\n",
       "<p>0 rows × 86 columns</p>\n",
       "</div>"
      ],
      "text/plain": [
       "Empty DataFrame\n",
       "Columns: [rougher.input.feed_au, rougher.input.feed_ag, rougher.input.feed_pb, rougher.input.feed_sol, rougher.input.feed_rate, rougher.input.feed_size, rougher.input.floatbank10_sulfate, rougher.input.floatbank10_xanthate, rougher.state.floatbank10_a_air, rougher.state.floatbank10_a_level, rougher.state.floatbank10_b_air, rougher.state.floatbank10_b_level, rougher.state.floatbank10_c_air, rougher.state.floatbank10_c_level, rougher.state.floatbank10_d_air, rougher.state.floatbank10_d_level, rougher.state.floatbank10_e_air, rougher.state.floatbank10_e_level, rougher.state.floatbank10_f_air, rougher.state.floatbank10_f_level, rougher.input.floatbank11_sulfate, rougher.input.floatbank11_xanthate, rougher.calculation.sulfate_to_au_concentrate, rougher.calculation.floatbank10_sulfate_to_au_feed, rougher.calculation.floatbank11_sulfate_to_au_feed, rougher.calculation.au_pb_ratio, rougher.output.concentrate_au, rougher.output.concentrate_ag, rougher.output.concentrate_pb, rougher.output.concentrate_sol, rougher.output.recovery, rougher.output.tail_au, rougher.output.tail_ag, rougher.output.tail_pb, rougher.output.tail_sol, primary_cleaner.input.sulfate, primary_cleaner.input.depressant, primary_cleaner.input.feed_size, primary_cleaner.input.xanthate, primary_cleaner.state.floatbank8_a_air, primary_cleaner.state.floatbank8_a_level, primary_cleaner.state.floatbank8_b_air, primary_cleaner.state.floatbank8_b_level, primary_cleaner.state.floatbank8_c_air, primary_cleaner.state.floatbank8_c_level, primary_cleaner.state.floatbank8_d_air, primary_cleaner.state.floatbank8_d_level, primary_cleaner.output.concentrate_au, primary_cleaner.output.concentrate_ag, primary_cleaner.output.concentrate_pb, primary_cleaner.output.concentrate_sol, primary_cleaner.output.tail_au, primary_cleaner.output.tail_ag, primary_cleaner.output.tail_pb, primary_cleaner.output.tail_sol, secondary_cleaner.state.floatbank2_a_air, secondary_cleaner.state.floatbank2_a_level, secondary_cleaner.state.floatbank2_b_air, secondary_cleaner.state.floatbank2_b_level, secondary_cleaner.state.floatbank3_a_air, secondary_cleaner.state.floatbank3_a_level, secondary_cleaner.state.floatbank3_b_air, secondary_cleaner.state.floatbank3_b_level, secondary_cleaner.state.floatbank4_a_air, secondary_cleaner.state.floatbank4_a_level, secondary_cleaner.state.floatbank4_b_air, secondary_cleaner.state.floatbank4_b_level, secondary_cleaner.state.floatbank5_a_air, secondary_cleaner.state.floatbank5_a_level, secondary_cleaner.state.floatbank5_b_air, secondary_cleaner.state.floatbank5_b_level, secondary_cleaner.state.floatbank6_a_air, secondary_cleaner.state.floatbank6_a_level, secondary_cleaner.output.tail_au, secondary_cleaner.output.tail_ag, secondary_cleaner.output.tail_pb, secondary_cleaner.output.tail_sol, final.output.concentrate_au, final.output.concentrate_ag, final.output.concentrate_pb, final.output.concentrate_sol, final.output.recovery, final.output.tail_au, final.output.tail_ag, final.output.tail_pb, final.output.tail_sol]\n",
       "Index: []\n",
       "\n",
       "[0 rows x 86 columns]"
      ]
     },
     "execution_count": 60,
     "metadata": {},
     "output_type": "execute_result"
    }
   ],
   "source": [
    "data_train[data_train['rougher.output.concentrate_au'] == 0]"
   ]
  },
  {
   "cell_type": "markdown",
   "metadata": {},
   "source": [
    "## Модель"
   ]
  },
  {
   "cell_type": "markdown",
   "metadata": {},
   "source": [
    "### Formula"
   ]
  },
  {
   "cell_type": "code",
   "execution_count": 61,
   "metadata": {},
   "outputs": [],
   "source": [
    "def smape(target, prediction):\n",
    "    return 1 / len(target) * sum( abs(target - prediction) / ( (abs(target) + abs(prediction)) * 0.5) ) * 100"
   ]
  },
  {
   "cell_type": "code",
   "execution_count": 62,
   "metadata": {},
   "outputs": [],
   "source": [
    "def final_ (rougher, final):\n",
    "    return 0.25 * rougher + 0.75 * final"
   ]
  },
  {
   "cell_type": "markdown",
   "metadata": {},
   "source": [
    "<font color='blue'><b>Комментарий ревьюера: </b></font> ✔️\\\n",
    "<font color='green'> `smape` и `final_` расчитаны верно.</font>"
   ]
  },
  {
   "cell_type": "markdown",
   "metadata": {},
   "source": [
    "### Обучение моделей"
   ]
  },
  {
   "cell_type": "markdown",
   "metadata": {},
   "source": [
    "Так как в прошлом было замечено расхождение в количестве столбцов тестовой и тренировочной выборки, придется изменить тестовую"
   ]
  },
  {
   "cell_type": "code",
   "execution_count": 63,
   "metadata": {},
   "outputs": [
    {
     "data": {
      "text/plain": [
       "52"
      ]
     },
     "execution_count": 63,
     "metadata": {},
     "output_type": "execute_result"
    }
   ],
   "source": [
    "new_data_train = data_train.drop(columns = not_test_columns , axis = 1)\n",
    "len(new_data_train.columns)"
   ]
  },
  {
   "cell_type": "markdown",
   "metadata": {},
   "source": [
    "### Разделение на выборки"
   ]
  },
  {
   "cell_type": "code",
   "execution_count": 64,
   "metadata": {},
   "outputs": [],
   "source": [
    "data_test['rougher.output.recovery'] = data_full['rougher.output.recovery']\n",
    "data_test['final.output.recovery'] = data_full['final.output.recovery']"
   ]
  },
  {
   "cell_type": "code",
   "execution_count": 65,
   "metadata": {},
   "outputs": [
    {
     "data": {
      "text/html": [
       "<div>\n",
       "<style scoped>\n",
       "    .dataframe tbody tr th:only-of-type {\n",
       "        vertical-align: middle;\n",
       "    }\n",
       "\n",
       "    .dataframe tbody tr th {\n",
       "        vertical-align: top;\n",
       "    }\n",
       "\n",
       "    .dataframe thead th {\n",
       "        text-align: right;\n",
       "    }\n",
       "</style>\n",
       "<table border=\"1\" class=\"dataframe\">\n",
       "  <thead>\n",
       "    <tr style=\"text-align: right;\">\n",
       "      <th></th>\n",
       "      <th>rougher.input.feed_au</th>\n",
       "      <th>rougher.input.feed_ag</th>\n",
       "      <th>rougher.input.feed_pb</th>\n",
       "      <th>rougher.input.feed_sol</th>\n",
       "      <th>rougher.input.feed_rate</th>\n",
       "      <th>rougher.input.feed_size</th>\n",
       "      <th>rougher.input.floatbank10_sulfate</th>\n",
       "      <th>rougher.input.floatbank10_xanthate</th>\n",
       "      <th>rougher.state.floatbank10_a_air</th>\n",
       "      <th>rougher.state.floatbank10_a_level</th>\n",
       "      <th>...</th>\n",
       "      <th>secondary_cleaner.state.floatbank4_b_air</th>\n",
       "      <th>secondary_cleaner.state.floatbank4_b_level</th>\n",
       "      <th>secondary_cleaner.state.floatbank5_a_air</th>\n",
       "      <th>secondary_cleaner.state.floatbank5_a_level</th>\n",
       "      <th>secondary_cleaner.state.floatbank5_b_air</th>\n",
       "      <th>secondary_cleaner.state.floatbank5_b_level</th>\n",
       "      <th>secondary_cleaner.state.floatbank6_a_air</th>\n",
       "      <th>secondary_cleaner.state.floatbank6_a_level</th>\n",
       "      <th>rougher.output.recovery</th>\n",
       "      <th>final.output.recovery</th>\n",
       "    </tr>\n",
       "    <tr>\n",
       "      <th>date</th>\n",
       "      <th></th>\n",
       "      <th></th>\n",
       "      <th></th>\n",
       "      <th></th>\n",
       "      <th></th>\n",
       "      <th></th>\n",
       "      <th></th>\n",
       "      <th></th>\n",
       "      <th></th>\n",
       "      <th></th>\n",
       "      <th></th>\n",
       "      <th></th>\n",
       "      <th></th>\n",
       "      <th></th>\n",
       "      <th></th>\n",
       "      <th></th>\n",
       "      <th></th>\n",
       "      <th></th>\n",
       "      <th></th>\n",
       "      <th></th>\n",
       "      <th></th>\n",
       "    </tr>\n",
       "  </thead>\n",
       "  <tbody>\n",
       "    <tr>\n",
       "      <th>2017-12-09 14:59:59</th>\n",
       "      <td>4.365491</td>\n",
       "      <td>6.158718</td>\n",
       "      <td>3.875727</td>\n",
       "      <td>39.135119</td>\n",
       "      <td>555.820208</td>\n",
       "      <td>94.544358</td>\n",
       "      <td>6.146982</td>\n",
       "      <td>9.308612</td>\n",
       "      <td>1196.238112</td>\n",
       "      <td>-299.862743</td>\n",
       "      <td>...</td>\n",
       "      <td>20.020205</td>\n",
       "      <td>-500.220296</td>\n",
       "      <td>17.963512</td>\n",
       "      <td>-499.939490</td>\n",
       "      <td>12.990306</td>\n",
       "      <td>-500.080993</td>\n",
       "      <td>19.990336</td>\n",
       "      <td>-499.191575</td>\n",
       "      <td>89.514960</td>\n",
       "      <td>70.281454</td>\n",
       "    </tr>\n",
       "    <tr>\n",
       "      <th>2017-12-09 15:59:59</th>\n",
       "      <td>4.362781</td>\n",
       "      <td>6.048130</td>\n",
       "      <td>3.902537</td>\n",
       "      <td>39.713906</td>\n",
       "      <td>544.731687</td>\n",
       "      <td>123.742430</td>\n",
       "      <td>6.210119</td>\n",
       "      <td>9.297709</td>\n",
       "      <td>1201.904177</td>\n",
       "      <td>-299.907308</td>\n",
       "      <td>...</td>\n",
       "      <td>20.054122</td>\n",
       "      <td>-500.314711</td>\n",
       "      <td>17.979515</td>\n",
       "      <td>-499.272871</td>\n",
       "      <td>12.992404</td>\n",
       "      <td>-499.976268</td>\n",
       "      <td>20.013986</td>\n",
       "      <td>-500.625471</td>\n",
       "      <td>89.858126</td>\n",
       "      <td>65.523246</td>\n",
       "    </tr>\n",
       "    <tr>\n",
       "      <th>2017-12-09 16:59:59</th>\n",
       "      <td>5.081681</td>\n",
       "      <td>6.082745</td>\n",
       "      <td>4.564078</td>\n",
       "      <td>37.208683</td>\n",
       "      <td>558.155110</td>\n",
       "      <td>82.610855</td>\n",
       "      <td>7.363824</td>\n",
       "      <td>9.003562</td>\n",
       "      <td>1200.826926</td>\n",
       "      <td>-300.124116</td>\n",
       "      <td>...</td>\n",
       "      <td>20.029144</td>\n",
       "      <td>-500.000662</td>\n",
       "      <td>18.012723</td>\n",
       "      <td>-500.024764</td>\n",
       "      <td>13.016445</td>\n",
       "      <td>-500.058432</td>\n",
       "      <td>19.973767</td>\n",
       "      <td>-501.394155</td>\n",
       "      <td>91.816623</td>\n",
       "      <td>74.817644</td>\n",
       "    </tr>\n",
       "    <tr>\n",
       "      <th>2017-12-09 17:59:59</th>\n",
       "      <td>5.145949</td>\n",
       "      <td>6.084374</td>\n",
       "      <td>4.768124</td>\n",
       "      <td>36.808874</td>\n",
       "      <td>539.713765</td>\n",
       "      <td>77.984784</td>\n",
       "      <td>6.927072</td>\n",
       "      <td>8.955597</td>\n",
       "      <td>1199.292489</td>\n",
       "      <td>-299.778385</td>\n",
       "      <td>...</td>\n",
       "      <td>19.977466</td>\n",
       "      <td>-500.159903</td>\n",
       "      <td>17.980463</td>\n",
       "      <td>-500.504602</td>\n",
       "      <td>12.949071</td>\n",
       "      <td>-500.009937</td>\n",
       "      <td>20.010332</td>\n",
       "      <td>-508.337973</td>\n",
       "      <td>88.478959</td>\n",
       "      <td>63.082720</td>\n",
       "    </tr>\n",
       "    <tr>\n",
       "      <th>2017-12-09 18:59:59</th>\n",
       "      <td>5.735249</td>\n",
       "      <td>6.165220</td>\n",
       "      <td>4.512346</td>\n",
       "      <td>37.810642</td>\n",
       "      <td>558.713584</td>\n",
       "      <td>86.434874</td>\n",
       "      <td>7.823471</td>\n",
       "      <td>7.490356</td>\n",
       "      <td>1198.005449</td>\n",
       "      <td>-300.283401</td>\n",
       "      <td>...</td>\n",
       "      <td>20.023735</td>\n",
       "      <td>-499.713680</td>\n",
       "      <td>17.990955</td>\n",
       "      <td>-500.334769</td>\n",
       "      <td>13.007523</td>\n",
       "      <td>-499.968459</td>\n",
       "      <td>19.995999</td>\n",
       "      <td>-499.788805</td>\n",
       "      <td>89.230316</td>\n",
       "      <td>74.463380</td>\n",
       "    </tr>\n",
       "  </tbody>\n",
       "</table>\n",
       "<p>5 rows × 54 columns</p>\n",
       "</div>"
      ],
      "text/plain": [
       "                     rougher.input.feed_au  rougher.input.feed_ag  \\\n",
       "date                                                                \n",
       "2017-12-09 14:59:59               4.365491               6.158718   \n",
       "2017-12-09 15:59:59               4.362781               6.048130   \n",
       "2017-12-09 16:59:59               5.081681               6.082745   \n",
       "2017-12-09 17:59:59               5.145949               6.084374   \n",
       "2017-12-09 18:59:59               5.735249               6.165220   \n",
       "\n",
       "                     rougher.input.feed_pb  rougher.input.feed_sol  \\\n",
       "date                                                                 \n",
       "2017-12-09 14:59:59               3.875727               39.135119   \n",
       "2017-12-09 15:59:59               3.902537               39.713906   \n",
       "2017-12-09 16:59:59               4.564078               37.208683   \n",
       "2017-12-09 17:59:59               4.768124               36.808874   \n",
       "2017-12-09 18:59:59               4.512346               37.810642   \n",
       "\n",
       "                     rougher.input.feed_rate  rougher.input.feed_size  \\\n",
       "date                                                                    \n",
       "2017-12-09 14:59:59               555.820208                94.544358   \n",
       "2017-12-09 15:59:59               544.731687               123.742430   \n",
       "2017-12-09 16:59:59               558.155110                82.610855   \n",
       "2017-12-09 17:59:59               539.713765                77.984784   \n",
       "2017-12-09 18:59:59               558.713584                86.434874   \n",
       "\n",
       "                     rougher.input.floatbank10_sulfate  \\\n",
       "date                                                     \n",
       "2017-12-09 14:59:59                           6.146982   \n",
       "2017-12-09 15:59:59                           6.210119   \n",
       "2017-12-09 16:59:59                           7.363824   \n",
       "2017-12-09 17:59:59                           6.927072   \n",
       "2017-12-09 18:59:59                           7.823471   \n",
       "\n",
       "                     rougher.input.floatbank10_xanthate  \\\n",
       "date                                                      \n",
       "2017-12-09 14:59:59                            9.308612   \n",
       "2017-12-09 15:59:59                            9.297709   \n",
       "2017-12-09 16:59:59                            9.003562   \n",
       "2017-12-09 17:59:59                            8.955597   \n",
       "2017-12-09 18:59:59                            7.490356   \n",
       "\n",
       "                     rougher.state.floatbank10_a_air  \\\n",
       "date                                                   \n",
       "2017-12-09 14:59:59                      1196.238112   \n",
       "2017-12-09 15:59:59                      1201.904177   \n",
       "2017-12-09 16:59:59                      1200.826926   \n",
       "2017-12-09 17:59:59                      1199.292489   \n",
       "2017-12-09 18:59:59                      1198.005449   \n",
       "\n",
       "                     rougher.state.floatbank10_a_level  ...  \\\n",
       "date                                                    ...   \n",
       "2017-12-09 14:59:59                        -299.862743  ...   \n",
       "2017-12-09 15:59:59                        -299.907308  ...   \n",
       "2017-12-09 16:59:59                        -300.124116  ...   \n",
       "2017-12-09 17:59:59                        -299.778385  ...   \n",
       "2017-12-09 18:59:59                        -300.283401  ...   \n",
       "\n",
       "                     secondary_cleaner.state.floatbank4_b_air  \\\n",
       "date                                                            \n",
       "2017-12-09 14:59:59                                 20.020205   \n",
       "2017-12-09 15:59:59                                 20.054122   \n",
       "2017-12-09 16:59:59                                 20.029144   \n",
       "2017-12-09 17:59:59                                 19.977466   \n",
       "2017-12-09 18:59:59                                 20.023735   \n",
       "\n",
       "                     secondary_cleaner.state.floatbank4_b_level  \\\n",
       "date                                                              \n",
       "2017-12-09 14:59:59                                 -500.220296   \n",
       "2017-12-09 15:59:59                                 -500.314711   \n",
       "2017-12-09 16:59:59                                 -500.000662   \n",
       "2017-12-09 17:59:59                                 -500.159903   \n",
       "2017-12-09 18:59:59                                 -499.713680   \n",
       "\n",
       "                     secondary_cleaner.state.floatbank5_a_air  \\\n",
       "date                                                            \n",
       "2017-12-09 14:59:59                                 17.963512   \n",
       "2017-12-09 15:59:59                                 17.979515   \n",
       "2017-12-09 16:59:59                                 18.012723   \n",
       "2017-12-09 17:59:59                                 17.980463   \n",
       "2017-12-09 18:59:59                                 17.990955   \n",
       "\n",
       "                     secondary_cleaner.state.floatbank5_a_level  \\\n",
       "date                                                              \n",
       "2017-12-09 14:59:59                                 -499.939490   \n",
       "2017-12-09 15:59:59                                 -499.272871   \n",
       "2017-12-09 16:59:59                                 -500.024764   \n",
       "2017-12-09 17:59:59                                 -500.504602   \n",
       "2017-12-09 18:59:59                                 -500.334769   \n",
       "\n",
       "                     secondary_cleaner.state.floatbank5_b_air  \\\n",
       "date                                                            \n",
       "2017-12-09 14:59:59                                 12.990306   \n",
       "2017-12-09 15:59:59                                 12.992404   \n",
       "2017-12-09 16:59:59                                 13.016445   \n",
       "2017-12-09 17:59:59                                 12.949071   \n",
       "2017-12-09 18:59:59                                 13.007523   \n",
       "\n",
       "                     secondary_cleaner.state.floatbank5_b_level  \\\n",
       "date                                                              \n",
       "2017-12-09 14:59:59                                 -500.080993   \n",
       "2017-12-09 15:59:59                                 -499.976268   \n",
       "2017-12-09 16:59:59                                 -500.058432   \n",
       "2017-12-09 17:59:59                                 -500.009937   \n",
       "2017-12-09 18:59:59                                 -499.968459   \n",
       "\n",
       "                     secondary_cleaner.state.floatbank6_a_air  \\\n",
       "date                                                            \n",
       "2017-12-09 14:59:59                                 19.990336   \n",
       "2017-12-09 15:59:59                                 20.013986   \n",
       "2017-12-09 16:59:59                                 19.973767   \n",
       "2017-12-09 17:59:59                                 20.010332   \n",
       "2017-12-09 18:59:59                                 19.995999   \n",
       "\n",
       "                     secondary_cleaner.state.floatbank6_a_level  \\\n",
       "date                                                              \n",
       "2017-12-09 14:59:59                                 -499.191575   \n",
       "2017-12-09 15:59:59                                 -500.625471   \n",
       "2017-12-09 16:59:59                                 -501.394155   \n",
       "2017-12-09 17:59:59                                 -508.337973   \n",
       "2017-12-09 18:59:59                                 -499.788805   \n",
       "\n",
       "                     rougher.output.recovery  final.output.recovery  \n",
       "date                                                                 \n",
       "2017-12-09 14:59:59                89.514960              70.281454  \n",
       "2017-12-09 15:59:59                89.858126              65.523246  \n",
       "2017-12-09 16:59:59                91.816623              74.817644  \n",
       "2017-12-09 17:59:59                88.478959              63.082720  \n",
       "2017-12-09 18:59:59                89.230316              74.463380  \n",
       "\n",
       "[5 rows x 54 columns]"
      ]
     },
     "execution_count": 65,
     "metadata": {},
     "output_type": "execute_result"
    }
   ],
   "source": [
    "data_test.head()"
   ]
  },
  {
   "cell_type": "code",
   "execution_count": 66,
   "metadata": {},
   "outputs": [],
   "source": [
    "features_train_final = new_data_train\n",
    "target_train_final = data_train['final.output.recovery']"
   ]
  },
  {
   "cell_type": "code",
   "execution_count": 67,
   "metadata": {},
   "outputs": [],
   "source": [
    "features_train_rougher = new_data_train\n",
    "target_train_rougher = data_train['rougher.output.recovery']"
   ]
  },
  {
   "cell_type": "code",
   "execution_count": 68,
   "metadata": {},
   "outputs": [],
   "source": [
    "features_test_final = data_test.drop(['final.output.recovery','rougher.output.recovery'],axis = 1)\n",
    "target_test_final = data_test['final.output.recovery']"
   ]
  },
  {
   "cell_type": "code",
   "execution_count": 69,
   "metadata": {},
   "outputs": [],
   "source": [
    "features_test_rougher = data_test.drop(['final.output.recovery','rougher.output.recovery'],axis = 1)\n",
    "target_test_rougher = data_test['rougher.output.recovery']"
   ]
  },
  {
   "cell_type": "code",
   "execution_count": 70,
   "metadata": {},
   "outputs": [
    {
     "data": {
      "text/plain": [
       "((13982, 52), (4860, 52))"
      ]
     },
     "execution_count": 70,
     "metadata": {},
     "output_type": "execute_result"
    }
   ],
   "source": [
    "features_train_rougher.shape, features_test_rougher.shape"
   ]
  },
  {
   "cell_type": "markdown",
   "metadata": {},
   "source": [
    "### Обучение моделей"
   ]
  },
  {
   "cell_type": "code",
   "execution_count": 71,
   "metadata": {},
   "outputs": [],
   "source": [
    "def score_(model):\n",
    "    score = make_scorer(smape)\n",
    "    score_rougher = cross_val_score(model, features_train_rougher, target_train_rougher, scoring=score, cv=5, error_score='raise')\n",
    "    score_final = cross_val_score(model, features_train_final, target_train_final, scoring = score, cv = 5, error_score='raise')\n",
    "    return np.mean(final_(score_rougher, score_final))"
   ]
  },
  {
   "cell_type": "code",
   "execution_count": 72,
   "metadata": {},
   "outputs": [],
   "source": [
    "model = LinearRegression()"
   ]
  },
  {
   "cell_type": "code",
   "execution_count": 73,
   "metadata": {
    "scrolled": true
   },
   "outputs": [
    {
     "data": {
      "text/plain": [
       "8.866318998589046"
      ]
     },
     "execution_count": 73,
     "metadata": {},
     "output_type": "execute_result"
    }
   ],
   "source": [
    "score_(model)"
   ]
  },
  {
   "cell_type": "code",
   "execution_count": 74,
   "metadata": {},
   "outputs": [],
   "source": [
    "rnds = np.random.RandomState(12345)"
   ]
  },
  {
   "cell_type": "code",
   "execution_count": 75,
   "metadata": {},
   "outputs": [
    {
     "name": "stdout",
     "output_type": "stream",
     "text": [
      "Best smape: 8.363269721973008\n",
      "Best depth: 2\n",
      "n_estimators_best: 20\n"
     ]
    }
   ],
   "source": [
    "criterions =['mse','mae']\n",
    "n_estimaors = [10,20,30]#50,60,70,100]\n",
    "best_criterion = ''\n",
    "best_depth = 0\n",
    "n_estimators_best = 0\n",
    "best_smape = 100\n",
    "for n_estimator in n_estimaors:\n",
    "    for depth in range(1,6):\n",
    "        model = RandomForestRegressor( max_depth = depth, n_estimators =n_estimator,\n",
    "                                        random_state = rnds)\n",
    "        smape_score = score_(model)\n",
    "\n",
    "        if smape_score < best_smape:\n",
    "            best_smape = smape_score\n",
    "            n_estimators_best = n_estimator\n",
    "            best_depth = depth\n",
    "print(\"Best smape:\",best_smape)\n",
    "# print(\"Best criterion:\" ,best_criterion)\n",
    "print(\"Best depth:\", best_depth)\n",
    "print(\"n_estimators_best:\",n_estimators_best)\n",
    "            "
   ]
  },
  {
   "cell_type": "code",
   "execution_count": 76,
   "metadata": {},
   "outputs": [
    {
     "name": "stdout",
     "output_type": "stream",
     "text": [
      "Depth: 1\n",
      "min_samples_leaf: 1\n",
      "Final SMAPE: 8.86084781156236\n"
     ]
    }
   ],
   "source": [
    "best_smape = 100\n",
    "best_depth = 0\n",
    "best_leaf = 0\n",
    "for depth in range(1, 60, 5):\n",
    "    for leaf in range(1,10):\n",
    "        model = DecisionTreeRegressor(random_state=rnds, max_depth = depth, min_samples_leaf = leaf)\n",
    "\n",
    "        smape_ = score_(model)\n",
    "        if smape_ < best_smape:\n",
    "            best_smape = smape_ \n",
    "            best_depth = depth\n",
    "            best_leaf = leaf\n",
    "#             print(best_smape)\n",
    "print('Depth:',best_depth)\n",
    "print('min_samples_leaf:', best_leaf)\n",
    "print('Final SMAPE:', best_smape)"
   ]
  },
  {
   "cell_type": "code",
   "execution_count": 77,
   "metadata": {},
   "outputs": [
    {
     "name": "stdout",
     "output_type": "stream",
     "text": [
      "(4860, 52)\n",
      "(13982, 52)\n",
      "(4860, 52)\n",
      "(13982, 52)\n"
     ]
    },
    {
     "data": {
      "text/plain": [
       "(13982, 52)"
      ]
     },
     "execution_count": 77,
     "metadata": {},
     "output_type": "execute_result"
    }
   ],
   "source": [
    "features = [features_test_rougher, features_train_rougher, features_test_final, features_train_final]\n",
    "\n",
    "for feature in features:\n",
    "#     feature = feature.drop('date', axis = 1 )\n",
    "    print(feature.shape)\n",
    "\n",
    "\n",
    "features_train_final.shape"
   ]
  },
  {
   "cell_type": "code",
   "execution_count": 79,
   "metadata": {
    "scrolled": true
   },
   "outputs": [],
   "source": [
    "estimator = 0 \n",
    "for estimator in range(1,101,10):\n",
    "            model = GradientBoostingRegressor(n_estimators=estimator, learning_rate=1, random_state = rnds)\n",
    "\n",
    "            \n",
    "            smape_ = score_(model)\n",
    "            if smape_ < best_smape:\n",
    "                best_smape = smape_\n",
    "                best_estimator = estimator\n",
    "print(\"Best gradient boost:\",best_smape)                \n",
    "print(\"n_estimators:\",estimator)"
   ]
  },
  {
   "cell_type": "markdown",
   "metadata": {},
   "source": [
    "Best gradient boost: 8.652958121317981\n",
    "n_estimators: 91"
   ]
  },
  {
   "cell_type": "markdown",
   "metadata": {},
   "source": [
    "Лучший smape вышел на линейной модели"
   ]
  },
  {
   "cell_type": "markdown",
   "metadata": {},
   "source": [
    "### Тест лучшей модели на тестовой выборке"
   ]
  },
  {
   "cell_type": "code",
   "execution_count": null,
   "metadata": {
    "scrolled": true
   },
   "outputs": [],
   "source": [
    "model = GradientBoostingRegressor(n_estimators=91, learning_rate=1, random_state = rnds)\n",
    "\n",
    "model.fit(features_train_final, target_train_final)\n",
    "predictions_final = model.predict(features_test_final)\n",
    "\n",
    "model.fit(features_train_rougher, target_train_rougher)\n",
    "predictions_rougher = model.predict(features_test_rougher)\n",
    "\n",
    "smape_rougher = smape(target_test_rougher, predictions_rougher)\n",
    "smape_final = smape(target_test_final, predictions_final)\n",
    "\n",
    "Final_SMAPE = np.mean(final_(smape_rougher, smape_final))\n",
    "print('Final smape for GradientBoostingRegressor  ', Final_SMAPE)\n",
    "smape_rougher, smape_final"
   ]
  },
  {
   "cell_type": "markdown",
   "metadata": {},
   "source": [
    "Final smape for GradientBoostingRegressor   6.546414696530018\n",
    "(3.684456928687517, 7.500400619144186)"
   ]
  },
  {
   "cell_type": "code",
   "execution_count": null,
   "metadata": {
    "scrolled": false
   },
   "outputs": [],
   "source": [
    "target_test_final.isna().sum().sum()"
   ]
  },
  {
   "cell_type": "markdown",
   "metadata": {},
   "source": [
    "### DUmmy - test"
   ]
  },
  {
   "cell_type": "code",
   "execution_count": null,
   "metadata": {
    "scrolled": true
   },
   "outputs": [],
   "source": [
    "model = DummyRegressor(strategy = 'median')\n",
    "\n",
    "model.fit(features_train_final, target_train_final)\n",
    "predictions_final = model.predict(features_test_final)\n",
    "\n",
    "model.fit(features_train_rougher, target_train_rougher)\n",
    "predictions_rougher = model.predict(features_test_rougher)\n",
    "\n",
    "smape_rougher = smape(target_test_rougher, predictions_rougher)\n",
    "smape_final = smape(target_test_final, predictions_final)\n",
    "\n",
    "final_smape = np.mean(final_(smape_rougher, smape_final))\n",
    "print('Final SMAPE for Dummy Regressor is ', final_smape)\n",
    "smape_rougher, smape_final"
   ]
  },
  {
   "cell_type": "markdown",
   "metadata": {},
   "source": [
    "Final SMAPE for Dummy Regressor is  8.294984028887812\n",
    "(5.835896473324573, 9.114679880742226)"
   ]
  },
  {
   "cell_type": "markdown",
   "metadata": {},
   "source": [
    "# Вывод\n",
    "1. Открыли и изучили данные\n",
    "2. Проверили,что эффективность обогащения рассчитана правильно\n",
    "3. Проанализировали признаки, недоступные в тестовой выборке\n",
    "4. Провели предобработку данных\n",
    "5. Посмотрели, как меняется концентрация металлов (Au, Ag, Pb) на различных этапах. Изучил суммарные распределения концентраций металлов. На гистограммах обнаружились,которые были удалены. Распределения походят на нормальные\n",
    "6. Сравнили распределения чернового концентрата в тренировочной и тестовой выборках. Распределения примерно одинаковые\n",
    "7. Обучили три модели: GradientBoostingRegressor, LinearRegression, DecisionTreeRegressor. Лучшей моделью оказалась линейная регрессия\n",
    "8. Протестировали модель GradientBoostingRegressor на тестовой выборке и сравнили с дамми моделью для проверки адекватности. "
   ]
  }
 ],
 "metadata": {
  "ExecuteTimeLog": [
   {
    "duration": 569,
    "start_time": "2023-07-06T10:37:03.980Z"
   },
   {
    "duration": 16679,
    "start_time": "2023-07-06T10:37:16.904Z"
   },
   {
    "duration": 1892,
    "start_time": "2023-07-06T10:38:05.946Z"
   },
   {
    "duration": 36,
    "start_time": "2023-07-06T10:38:09.564Z"
   },
   {
    "duration": 380,
    "start_time": "2023-07-06T10:39:08.458Z"
   },
   {
    "duration": 284,
    "start_time": "2023-07-06T10:39:18.337Z"
   },
   {
    "duration": 3310,
    "start_time": "2023-07-06T10:39:40.438Z"
   },
   {
    "duration": 3,
    "start_time": "2023-07-06T10:40:00.917Z"
   },
   {
    "duration": 575,
    "start_time": "2023-07-06T10:41:18.709Z"
   },
   {
    "duration": 4,
    "start_time": "2023-07-06T10:41:48.187Z"
   },
   {
    "duration": 3,
    "start_time": "2023-07-06T10:41:57.114Z"
   },
   {
    "duration": 6,
    "start_time": "2023-07-06T10:42:03.652Z"
   },
   {
    "duration": 390,
    "start_time": "2023-07-06T10:42:14.813Z"
   },
   {
    "duration": 14,
    "start_time": "2023-07-06T10:42:25.221Z"
   },
   {
    "duration": 6,
    "start_time": "2023-07-06T10:42:55.118Z"
   },
   {
    "duration": 3,
    "start_time": "2023-07-06T10:43:34.065Z"
   },
   {
    "duration": 2,
    "start_time": "2023-07-06T10:43:47.321Z"
   },
   {
    "duration": 6,
    "start_time": "2023-07-06T11:05:23.952Z"
   },
   {
    "duration": 5,
    "start_time": "2023-07-06T11:05:40.991Z"
   },
   {
    "duration": 4,
    "start_time": "2023-07-06T11:05:54.875Z"
   },
   {
    "duration": 4,
    "start_time": "2023-07-06T11:05:59.913Z"
   },
   {
    "duration": 13,
    "start_time": "2023-07-06T11:07:31.989Z"
   },
   {
    "duration": 13,
    "start_time": "2023-07-06T11:07:56.389Z"
   },
   {
    "duration": 10,
    "start_time": "2023-07-06T11:09:36.018Z"
   },
   {
    "duration": 35,
    "start_time": "2023-07-06T11:09:42.449Z"
   },
   {
    "duration": 32,
    "start_time": "2023-07-06T11:10:04.889Z"
   },
   {
    "duration": 11,
    "start_time": "2023-07-06T11:12:22.753Z"
   },
   {
    "duration": 3,
    "start_time": "2023-07-06T11:14:21.744Z"
   },
   {
    "duration": 1082,
    "start_time": "2023-07-06T11:14:58.768Z"
   },
   {
    "duration": 4,
    "start_time": "2023-07-06T11:15:03.686Z"
   },
   {
    "duration": 5,
    "start_time": "2023-07-06T11:15:09.053Z"
   },
   {
    "duration": 4,
    "start_time": "2023-07-06T11:15:39.776Z"
   },
   {
    "duration": 67,
    "start_time": "2023-07-06T15:18:45.562Z"
   },
   {
    "duration": 21020,
    "start_time": "2023-07-06T15:18:51.021Z"
   },
   {
    "duration": 2881,
    "start_time": "2023-07-06T15:19:12.043Z"
   },
   {
    "duration": 59,
    "start_time": "2023-07-06T15:19:14.926Z"
   },
   {
    "duration": 5889,
    "start_time": "2023-07-06T15:19:14.987Z"
   },
   {
    "duration": 10,
    "start_time": "2023-07-06T15:19:20.883Z"
   },
   {
    "duration": 12,
    "start_time": "2023-07-06T15:19:20.897Z"
   },
   {
    "duration": 11,
    "start_time": "2023-07-06T15:19:20.911Z"
   },
   {
    "duration": 597,
    "start_time": "2023-07-06T15:19:20.924Z"
   },
   {
    "duration": 5,
    "start_time": "2023-07-06T15:19:21.523Z"
   },
   {
    "duration": 5,
    "start_time": "2023-07-06T15:19:21.530Z"
   },
   {
    "duration": 6,
    "start_time": "2023-07-06T15:19:21.536Z"
   },
   {
    "duration": 559,
    "start_time": "2023-07-06T15:19:21.556Z"
   },
   {
    "duration": 5,
    "start_time": "2023-07-06T15:19:22.117Z"
   },
   {
    "duration": 3,
    "start_time": "2023-07-06T15:19:22.125Z"
   },
   {
    "duration": 6,
    "start_time": "2023-07-06T15:19:22.130Z"
   },
   {
    "duration": 10,
    "start_time": "2023-07-06T15:19:22.158Z"
   },
   {
    "duration": 15,
    "start_time": "2023-07-06T15:19:22.176Z"
   },
   {
    "duration": 9,
    "start_time": "2023-07-06T15:19:22.195Z"
   },
   {
    "duration": 15,
    "start_time": "2023-07-06T15:19:22.206Z"
   },
   {
    "duration": 167,
    "start_time": "2023-07-06T15:20:25.393Z"
   },
   {
    "duration": 180,
    "start_time": "2023-07-06T15:20:36.233Z"
   },
   {
    "duration": 144,
    "start_time": "2023-07-06T15:20:58.131Z"
   },
   {
    "duration": 47,
    "start_time": "2023-07-06T15:21:00.036Z"
   },
   {
    "duration": 3,
    "start_time": "2023-07-06T15:22:24.002Z"
   },
   {
    "duration": 25,
    "start_time": "2023-07-06T15:23:09.708Z"
   },
   {
    "duration": 135,
    "start_time": "2023-07-06T15:23:24.682Z"
   },
   {
    "duration": 9,
    "start_time": "2023-07-06T15:23:39.802Z"
   },
   {
    "duration": 63,
    "start_time": "2023-07-06T15:24:16.679Z"
   },
   {
    "duration": 9,
    "start_time": "2023-07-06T15:24:25.736Z"
   },
   {
    "duration": 13,
    "start_time": "2023-07-06T15:24:34.446Z"
   },
   {
    "duration": 10,
    "start_time": "2023-07-06T15:24:36.117Z"
   },
   {
    "duration": 7,
    "start_time": "2023-07-06T15:24:47.705Z"
   },
   {
    "duration": 7,
    "start_time": "2023-07-06T15:25:14.391Z"
   },
   {
    "duration": 8,
    "start_time": "2023-07-06T15:25:21.607Z"
   },
   {
    "duration": 10,
    "start_time": "2023-07-06T15:25:41.038Z"
   },
   {
    "duration": 18,
    "start_time": "2023-07-06T15:25:55.077Z"
   },
   {
    "duration": 13,
    "start_time": "2023-07-06T15:26:00.396Z"
   },
   {
    "duration": 236,
    "start_time": "2023-07-06T15:31:48.200Z"
   },
   {
    "duration": 6,
    "start_time": "2023-07-06T15:31:51.972Z"
   },
   {
    "duration": 3,
    "start_time": "2023-07-06T15:38:19.176Z"
   },
   {
    "duration": 3,
    "start_time": "2023-07-06T15:39:06.418Z"
   },
   {
    "duration": 6,
    "start_time": "2023-07-06T15:41:57.637Z"
   },
   {
    "duration": 18,
    "start_time": "2023-07-06T15:42:30.112Z"
   },
   {
    "duration": 24,
    "start_time": "2023-07-06T15:42:34.806Z"
   },
   {
    "duration": 869,
    "start_time": "2023-07-06T15:42:43.208Z"
   },
   {
    "duration": 928,
    "start_time": "2023-07-06T15:45:03.471Z"
   },
   {
    "duration": 43,
    "start_time": "2023-07-06T15:51:59.655Z"
   },
   {
    "duration": 1203,
    "start_time": "2023-07-06T15:52:06.443Z"
   },
   {
    "duration": 5,
    "start_time": "2023-07-06T15:52:22.948Z"
   },
   {
    "duration": 9,
    "start_time": "2023-07-06T15:52:41.979Z"
   },
   {
    "duration": 14,
    "start_time": "2023-07-06T15:53:15.105Z"
   },
   {
    "duration": 4,
    "start_time": "2023-07-06T15:53:21.522Z"
   },
   {
    "duration": 3609,
    "start_time": "2023-07-06T15:53:24.348Z"
   },
   {
    "duration": 18,
    "start_time": "2023-07-06T16:32:48.042Z"
   },
   {
    "duration": 3,
    "start_time": "2023-07-06T16:33:02.130Z"
   },
   {
    "duration": 3027,
    "start_time": "2023-07-06T16:33:03.863Z"
   },
   {
    "duration": 12,
    "start_time": "2023-07-06T16:33:47.135Z"
   },
   {
    "duration": 24,
    "start_time": "2023-07-06T16:33:50.326Z"
   },
   {
    "duration": 1246,
    "start_time": "2023-07-06T16:34:04.530Z"
   },
   {
    "duration": 992,
    "start_time": "2023-07-06T16:34:20.154Z"
   },
   {
    "duration": 1242,
    "start_time": "2023-07-06T16:34:29.264Z"
   },
   {
    "duration": 4,
    "start_time": "2023-07-06T16:35:35.014Z"
   },
   {
    "duration": 804,
    "start_time": "2023-07-06T16:35:37.813Z"
   },
   {
    "duration": 968,
    "start_time": "2023-07-06T16:35:40.521Z"
   },
   {
    "duration": 761,
    "start_time": "2023-07-06T16:35:43.561Z"
   },
   {
    "duration": 72,
    "start_time": "2023-07-06T16:36:18.293Z"
   },
   {
    "duration": 75,
    "start_time": "2023-07-06T16:36:56.848Z"
   },
   {
    "duration": 66,
    "start_time": "2023-07-06T16:37:14.705Z"
   },
   {
    "duration": 16042,
    "start_time": "2023-07-07T08:23:02.374Z"
   },
   {
    "duration": 2430,
    "start_time": "2023-07-07T08:23:18.419Z"
   },
   {
    "duration": 35,
    "start_time": "2023-07-07T08:23:20.851Z"
   },
   {
    "duration": 3175,
    "start_time": "2023-07-07T08:23:20.888Z"
   },
   {
    "duration": 2,
    "start_time": "2023-07-07T08:23:24.066Z"
   },
   {
    "duration": 15,
    "start_time": "2023-07-07T08:23:24.070Z"
   },
   {
    "duration": 8,
    "start_time": "2023-07-07T08:23:24.087Z"
   },
   {
    "duration": 621,
    "start_time": "2023-07-07T08:23:24.097Z"
   },
   {
    "duration": 4,
    "start_time": "2023-07-07T08:23:24.720Z"
   },
   {
    "duration": 7,
    "start_time": "2023-07-07T08:23:24.727Z"
   },
   {
    "duration": 8,
    "start_time": "2023-07-07T08:23:24.736Z"
   },
   {
    "duration": 460,
    "start_time": "2023-07-07T08:23:24.746Z"
   },
   {
    "duration": 10,
    "start_time": "2023-07-07T08:23:25.208Z"
   },
   {
    "duration": 3,
    "start_time": "2023-07-07T08:23:25.222Z"
   },
   {
    "duration": 7,
    "start_time": "2023-07-07T08:23:25.226Z"
   },
   {
    "duration": 11,
    "start_time": "2023-07-07T08:23:25.235Z"
   },
   {
    "duration": 9,
    "start_time": "2023-07-07T08:23:25.248Z"
   },
   {
    "duration": 11,
    "start_time": "2023-07-07T08:23:25.258Z"
   },
   {
    "duration": 25,
    "start_time": "2023-07-07T08:23:25.272Z"
   },
   {
    "duration": 163,
    "start_time": "2023-07-07T08:23:25.298Z"
   },
   {
    "duration": 26,
    "start_time": "2023-07-07T08:23:25.463Z"
   },
   {
    "duration": 128,
    "start_time": "2023-07-07T08:23:25.490Z"
   },
   {
    "duration": 10,
    "start_time": "2023-07-07T08:23:25.620Z"
   },
   {
    "duration": 10,
    "start_time": "2023-07-07T08:23:25.633Z"
   },
   {
    "duration": 13,
    "start_time": "2023-07-07T08:23:25.644Z"
   },
   {
    "duration": 9,
    "start_time": "2023-07-07T08:23:25.659Z"
   },
   {
    "duration": 13,
    "start_time": "2023-07-07T08:23:25.670Z"
   },
   {
    "duration": 8,
    "start_time": "2023-07-07T08:23:25.714Z"
   },
   {
    "duration": 11,
    "start_time": "2023-07-07T08:23:25.724Z"
   },
   {
    "duration": 15,
    "start_time": "2023-07-07T08:23:25.736Z"
   },
   {
    "duration": 11,
    "start_time": "2023-07-07T08:23:25.753Z"
   },
   {
    "duration": 4,
    "start_time": "2023-07-07T08:23:25.766Z"
   },
   {
    "duration": 4,
    "start_time": "2023-07-07T08:23:25.813Z"
   },
   {
    "duration": 6,
    "start_time": "2023-07-07T08:23:25.818Z"
   },
   {
    "duration": 7,
    "start_time": "2023-07-07T08:23:25.826Z"
   },
   {
    "duration": 754,
    "start_time": "2023-07-07T08:23:25.835Z"
   },
   {
    "duration": 4,
    "start_time": "2023-07-07T08:23:26.591Z"
   },
   {
    "duration": 937,
    "start_time": "2023-07-07T08:23:26.597Z"
   },
   {
    "duration": 770,
    "start_time": "2023-07-07T08:23:27.536Z"
   },
   {
    "duration": 832,
    "start_time": "2023-07-07T08:23:28.312Z"
   },
   {
    "duration": 6,
    "start_time": "2023-07-07T08:23:29.152Z"
   },
   {
    "duration": 3,
    "start_time": "2023-07-07T08:24:03.176Z"
   },
   {
    "duration": 6,
    "start_time": "2023-07-07T08:24:55.067Z"
   },
   {
    "duration": 10,
    "start_time": "2023-07-07T08:25:08.509Z"
   },
   {
    "duration": 15,
    "start_time": "2023-07-07T08:25:18.323Z"
   },
   {
    "duration": 1208,
    "start_time": "2023-07-07T08:26:20.736Z"
   },
   {
    "duration": 3,
    "start_time": "2023-07-07T08:29:16.134Z"
   },
   {
    "duration": 3,
    "start_time": "2023-07-07T08:34:13.535Z"
   },
   {
    "duration": 3,
    "start_time": "2023-07-07T08:34:30.705Z"
   },
   {
    "duration": 169,
    "start_time": "2023-07-07T08:34:46.426Z"
   },
   {
    "duration": 3,
    "start_time": "2023-07-07T08:34:52.100Z"
   },
   {
    "duration": 23,
    "start_time": "2023-07-07T08:34:54.144Z"
   },
   {
    "duration": 4,
    "start_time": "2023-07-07T08:35:09.520Z"
   },
   {
    "duration": 22,
    "start_time": "2023-07-07T08:35:11.261Z"
   },
   {
    "duration": 4,
    "start_time": "2023-07-07T08:35:16.614Z"
   },
   {
    "duration": 188,
    "start_time": "2023-07-07T08:35:18.158Z"
   },
   {
    "duration": 12,
    "start_time": "2023-07-07T08:47:36.017Z"
   },
   {
    "duration": 4,
    "start_time": "2023-07-07T08:47:39.729Z"
   },
   {
    "duration": 17,
    "start_time": "2023-07-07T08:47:41.482Z"
   },
   {
    "duration": 19,
    "start_time": "2023-07-07T08:47:47.942Z"
   },
   {
    "duration": 3,
    "start_time": "2023-07-07T08:47:53.191Z"
   },
   {
    "duration": 4,
    "start_time": "2023-07-07T08:47:54.834Z"
   },
   {
    "duration": 17,
    "start_time": "2023-07-07T08:49:16.209Z"
   },
   {
    "duration": 4,
    "start_time": "2023-07-07T08:49:21.192Z"
   },
   {
    "duration": 5,
    "start_time": "2023-07-07T08:49:29.201Z"
   },
   {
    "duration": 3,
    "start_time": "2023-07-07T08:49:31.080Z"
   },
   {
    "duration": 18,
    "start_time": "2023-07-07T08:49:32.834Z"
   },
   {
    "duration": 15,
    "start_time": "2023-07-07T08:49:53.084Z"
   },
   {
    "duration": 16,
    "start_time": "2023-07-07T08:51:03.836Z"
   },
   {
    "duration": 13,
    "start_time": "2023-07-07T08:51:05.694Z"
   },
   {
    "duration": 852,
    "start_time": "2023-07-07T08:51:09.938Z"
   },
   {
    "duration": 12,
    "start_time": "2023-07-07T08:52:12.982Z"
   },
   {
    "duration": 12,
    "start_time": "2023-07-07T08:52:17.874Z"
   },
   {
    "duration": 12,
    "start_time": "2023-07-07T08:52:26.248Z"
   },
   {
    "duration": 21,
    "start_time": "2023-07-07T08:52:49.277Z"
   },
   {
    "duration": 307,
    "start_time": "2023-07-07T08:55:03.398Z"
   },
   {
    "duration": 136,
    "start_time": "2023-07-07T08:56:07.523Z"
   },
   {
    "duration": 113,
    "start_time": "2023-07-07T08:56:13.403Z"
   },
   {
    "duration": 134,
    "start_time": "2023-07-07T08:57:47.795Z"
   },
   {
    "duration": 516,
    "start_time": "2023-07-07T08:58:09.811Z"
   },
   {
    "duration": 100,
    "start_time": "2023-07-07T08:58:56.989Z"
   },
   {
    "duration": 545,
    "start_time": "2023-07-07T08:59:24.012Z"
   },
   {
    "duration": 80,
    "start_time": "2023-07-07T09:01:15.476Z"
   },
   {
    "duration": 257,
    "start_time": "2023-07-07T09:20:04.624Z"
   },
   {
    "duration": 6,
    "start_time": "2023-07-07T09:23:52.647Z"
   },
   {
    "duration": 4,
    "start_time": "2023-07-07T09:25:28.693Z"
   },
   {
    "duration": 5,
    "start_time": "2023-07-07T09:26:17.677Z"
   },
   {
    "duration": 19,
    "start_time": "2023-07-07T09:26:31.170Z"
   },
   {
    "duration": 14,
    "start_time": "2023-07-07T09:26:42.259Z"
   },
   {
    "duration": 16,
    "start_time": "2023-07-07T09:26:46.497Z"
   },
   {
    "duration": 18,
    "start_time": "2023-07-07T09:27:08.726Z"
   },
   {
    "duration": 25,
    "start_time": "2023-07-07T09:27:13.012Z"
   },
   {
    "duration": 38,
    "start_time": "2023-07-07T09:27:26.500Z"
   },
   {
    "duration": 25,
    "start_time": "2023-07-07T09:27:43.938Z"
   },
   {
    "duration": 28,
    "start_time": "2023-07-07T09:28:03.810Z"
   },
   {
    "duration": 6,
    "start_time": "2023-07-07T09:28:37.931Z"
   },
   {
    "duration": 4,
    "start_time": "2023-07-07T09:29:40.097Z"
   },
   {
    "duration": 99,
    "start_time": "2023-07-07T09:31:17.906Z"
   },
   {
    "duration": 7,
    "start_time": "2023-07-07T09:36:31.640Z"
   },
   {
    "duration": 23,
    "start_time": "2023-07-07T09:37:48.822Z"
   },
   {
    "duration": 6,
    "start_time": "2023-07-07T09:37:57.094Z"
   },
   {
    "duration": 32,
    "start_time": "2023-07-07T09:38:16.312Z"
   },
   {
    "duration": 68,
    "start_time": "2023-07-07T09:38:26.995Z"
   },
   {
    "duration": 24,
    "start_time": "2023-07-07T09:38:29.885Z"
   },
   {
    "duration": 23,
    "start_time": "2023-07-07T09:39:16.572Z"
   },
   {
    "duration": 23,
    "start_time": "2023-07-07T09:39:23.395Z"
   },
   {
    "duration": 14,
    "start_time": "2023-07-07T09:39:31.522Z"
   },
   {
    "duration": 4,
    "start_time": "2023-07-07T09:39:54.934Z"
   },
   {
    "duration": 6,
    "start_time": "2023-07-07T09:39:57.072Z"
   },
   {
    "duration": 2326,
    "start_time": "2023-07-07T09:40:02.985Z"
   },
   {
    "duration": 2793,
    "start_time": "2023-07-07T09:40:10.269Z"
   },
   {
    "duration": 2377,
    "start_time": "2023-07-07T09:40:13.064Z"
   },
   {
    "duration": 38,
    "start_time": "2023-07-07T09:40:15.443Z"
   },
   {
    "duration": 969,
    "start_time": "2023-07-07T09:40:15.484Z"
   },
   {
    "duration": 3,
    "start_time": "2023-07-07T09:40:16.457Z"
   },
   {
    "duration": 35,
    "start_time": "2023-07-07T09:40:16.463Z"
   },
   {
    "duration": 27,
    "start_time": "2023-07-07T09:40:16.501Z"
   },
   {
    "duration": 588,
    "start_time": "2023-07-07T09:40:16.530Z"
   },
   {
    "duration": 12,
    "start_time": "2023-07-07T09:40:17.126Z"
   },
   {
    "duration": 6,
    "start_time": "2023-07-07T09:40:17.141Z"
   },
   {
    "duration": 25,
    "start_time": "2023-07-07T09:40:17.149Z"
   },
   {
    "duration": 577,
    "start_time": "2023-07-07T09:40:17.176Z"
   },
   {
    "duration": 7,
    "start_time": "2023-07-07T09:40:17.756Z"
   },
   {
    "duration": 11,
    "start_time": "2023-07-07T09:40:17.766Z"
   },
   {
    "duration": 14,
    "start_time": "2023-07-07T09:40:17.779Z"
   },
   {
    "duration": 21,
    "start_time": "2023-07-07T09:40:17.796Z"
   },
   {
    "duration": 14,
    "start_time": "2023-07-07T09:40:17.823Z"
   },
   {
    "duration": 15,
    "start_time": "2023-07-07T09:40:17.839Z"
   },
   {
    "duration": 162,
    "start_time": "2023-07-07T09:40:17.856Z"
   },
   {
    "duration": 193,
    "start_time": "2023-07-07T09:40:18.027Z"
   },
   {
    "duration": 41,
    "start_time": "2023-07-07T09:40:18.223Z"
   },
   {
    "duration": 139,
    "start_time": "2023-07-07T09:40:18.265Z"
   },
   {
    "duration": 22,
    "start_time": "2023-07-07T09:40:18.406Z"
   },
   {
    "duration": 11,
    "start_time": "2023-07-07T09:40:18.432Z"
   },
   {
    "duration": 18,
    "start_time": "2023-07-07T09:40:18.445Z"
   },
   {
    "duration": 22,
    "start_time": "2023-07-07T09:40:18.465Z"
   },
   {
    "duration": 4,
    "start_time": "2023-07-07T09:40:18.489Z"
   },
   {
    "duration": 16,
    "start_time": "2023-07-07T09:40:18.512Z"
   },
   {
    "duration": 22,
    "start_time": "2023-07-07T09:40:18.530Z"
   },
   {
    "duration": 19,
    "start_time": "2023-07-07T09:40:18.554Z"
   },
   {
    "duration": 13,
    "start_time": "2023-07-07T09:40:18.576Z"
   },
   {
    "duration": 13,
    "start_time": "2023-07-07T09:40:18.612Z"
   },
   {
    "duration": 27,
    "start_time": "2023-07-07T09:40:18.628Z"
   },
   {
    "duration": 27,
    "start_time": "2023-07-07T09:40:18.658Z"
   },
   {
    "duration": 17,
    "start_time": "2023-07-07T09:40:18.687Z"
   },
   {
    "duration": 882,
    "start_time": "2023-07-07T09:40:18.706Z"
   },
   {
    "duration": 4,
    "start_time": "2023-07-07T09:40:19.590Z"
   },
   {
    "duration": 1158,
    "start_time": "2023-07-07T09:40:19.596Z"
   },
   {
    "duration": 1106,
    "start_time": "2023-07-07T09:40:20.756Z"
   },
   {
    "duration": 1240,
    "start_time": "2023-07-07T09:40:21.865Z"
   },
   {
    "duration": 16,
    "start_time": "2023-07-07T09:40:23.123Z"
   },
   {
    "duration": 20,
    "start_time": "2023-07-07T09:40:23.142Z"
   },
   {
    "duration": 22,
    "start_time": "2023-07-07T09:40:23.166Z"
   },
   {
    "duration": 1646,
    "start_time": "2023-07-07T09:40:23.191Z"
   },
   {
    "duration": 362,
    "start_time": "2023-07-07T09:40:24.847Z"
   },
   {
    "duration": 3,
    "start_time": "2023-07-07T09:40:25.214Z"
   },
   {
    "duration": 34,
    "start_time": "2023-07-07T09:40:25.220Z"
   },
   {
    "duration": 28,
    "start_time": "2023-07-07T09:40:25.256Z"
   },
   {
    "duration": 14,
    "start_time": "2023-07-07T09:40:25.286Z"
   },
   {
    "duration": 58,
    "start_time": "2023-07-07T09:40:25.303Z"
   },
   {
    "duration": 1537,
    "start_time": "2023-07-07T09:40:25.363Z"
   },
   {
    "duration": 42,
    "start_time": "2023-07-07T09:40:26.903Z"
   },
   {
    "duration": 405,
    "start_time": "2023-07-07T09:40:26.950Z"
   },
   {
    "duration": 138,
    "start_time": "2023-07-07T09:40:27.357Z"
   },
   {
    "duration": 378,
    "start_time": "2023-07-07T09:40:27.498Z"
   },
   {
    "duration": 128,
    "start_time": "2023-07-07T09:40:27.878Z"
   },
   {
    "duration": 714,
    "start_time": "2023-07-07T09:40:28.009Z"
   },
   {
    "duration": 16,
    "start_time": "2023-07-07T09:40:28.731Z"
   },
   {
    "duration": 11,
    "start_time": "2023-07-07T09:40:28.749Z"
   },
   {
    "duration": 11,
    "start_time": "2023-07-07T09:40:28.762Z"
   },
   {
    "duration": 9,
    "start_time": "2023-07-07T09:40:28.775Z"
   },
   {
    "duration": 83,
    "start_time": "2023-07-07T09:40:28.786Z"
   },
   {
    "duration": 5,
    "start_time": "2023-07-07T09:40:28.871Z"
   },
   {
    "duration": 13,
    "start_time": "2023-07-07T09:40:28.879Z"
   },
   {
    "duration": 35,
    "start_time": "2023-07-07T09:40:28.894Z"
   },
   {
    "duration": 9,
    "start_time": "2023-07-07T09:40:38.042Z"
   },
   {
    "duration": 3259,
    "start_time": "2023-07-07T09:40:46.009Z"
   },
   {
    "duration": 2554,
    "start_time": "2023-07-07T09:40:49.271Z"
   },
   {
    "duration": 51,
    "start_time": "2023-07-07T09:40:51.828Z"
   },
   {
    "duration": 1031,
    "start_time": "2023-07-07T09:40:51.881Z"
   },
   {
    "duration": 2,
    "start_time": "2023-07-07T09:40:52.916Z"
   },
   {
    "duration": 2,
    "start_time": "2023-07-07T09:40:52.920Z"
   },
   {
    "duration": 25,
    "start_time": "2023-07-07T09:40:52.923Z"
   },
   {
    "duration": 634,
    "start_time": "2023-07-07T09:40:52.950Z"
   },
   {
    "duration": 4,
    "start_time": "2023-07-07T09:40:53.586Z"
   },
   {
    "duration": 48,
    "start_time": "2023-07-07T09:40:53.592Z"
   },
   {
    "duration": 13,
    "start_time": "2023-07-07T09:40:53.643Z"
   },
   {
    "duration": 603,
    "start_time": "2023-07-07T09:40:53.659Z"
   },
   {
    "duration": 8,
    "start_time": "2023-07-07T09:40:54.264Z"
   },
   {
    "duration": 4,
    "start_time": "2023-07-07T09:40:54.279Z"
   },
   {
    "duration": 31,
    "start_time": "2023-07-07T09:40:54.286Z"
   },
   {
    "duration": 14,
    "start_time": "2023-07-07T09:40:54.319Z"
   },
   {
    "duration": 14,
    "start_time": "2023-07-07T09:40:54.340Z"
   },
   {
    "duration": 13,
    "start_time": "2023-07-07T09:40:54.356Z"
   },
   {
    "duration": 164,
    "start_time": "2023-07-07T09:40:54.371Z"
   },
   {
    "duration": 189,
    "start_time": "2023-07-07T09:40:54.538Z"
   },
   {
    "duration": 45,
    "start_time": "2023-07-07T09:40:54.730Z"
   },
   {
    "duration": 176,
    "start_time": "2023-07-07T09:40:54.777Z"
   },
   {
    "duration": 10,
    "start_time": "2023-07-07T09:40:54.954Z"
   },
   {
    "duration": 17,
    "start_time": "2023-07-07T09:40:54.965Z"
   },
   {
    "duration": 20,
    "start_time": "2023-07-07T09:40:54.985Z"
   },
   {
    "duration": 32,
    "start_time": "2023-07-07T09:40:55.014Z"
   },
   {
    "duration": 28,
    "start_time": "2023-07-07T09:40:55.048Z"
   },
   {
    "duration": 44,
    "start_time": "2023-07-07T09:40:55.079Z"
   },
   {
    "duration": 16,
    "start_time": "2023-07-07T09:40:55.129Z"
   },
   {
    "duration": 23,
    "start_time": "2023-07-07T09:40:55.147Z"
   },
   {
    "duration": 18,
    "start_time": "2023-07-07T09:40:55.173Z"
   },
   {
    "duration": 6,
    "start_time": "2023-07-07T09:40:55.194Z"
   },
   {
    "duration": 19,
    "start_time": "2023-07-07T09:40:55.202Z"
   },
   {
    "duration": 16,
    "start_time": "2023-07-07T09:40:55.224Z"
   },
   {
    "duration": 11,
    "start_time": "2023-07-07T09:40:55.243Z"
   },
   {
    "duration": 902,
    "start_time": "2023-07-07T09:40:55.255Z"
   },
   {
    "duration": 4,
    "start_time": "2023-07-07T09:40:56.159Z"
   },
   {
    "duration": 953,
    "start_time": "2023-07-07T09:40:56.165Z"
   },
   {
    "duration": 1063,
    "start_time": "2023-07-07T09:40:57.124Z"
   },
   {
    "duration": 913,
    "start_time": "2023-07-07T09:40:58.190Z"
   },
   {
    "duration": 18,
    "start_time": "2023-07-07T09:40:59.107Z"
   },
   {
    "duration": 20,
    "start_time": "2023-07-07T09:40:59.128Z"
   },
   {
    "duration": 27,
    "start_time": "2023-07-07T09:40:59.150Z"
   },
   {
    "duration": 1635,
    "start_time": "2023-07-07T09:40:59.179Z"
   },
   {
    "duration": 285,
    "start_time": "2023-07-07T09:41:00.817Z"
   },
   {
    "duration": 17,
    "start_time": "2023-07-07T09:41:01.104Z"
   },
   {
    "duration": 26,
    "start_time": "2023-07-07T09:41:01.128Z"
   },
   {
    "duration": 38,
    "start_time": "2023-07-07T09:41:01.156Z"
   },
   {
    "duration": 41,
    "start_time": "2023-07-07T09:41:01.197Z"
   },
   {
    "duration": 40,
    "start_time": "2023-07-07T09:41:01.241Z"
   },
   {
    "duration": 1267,
    "start_time": "2023-07-07T09:41:01.283Z"
   },
   {
    "duration": 34,
    "start_time": "2023-07-07T09:41:02.556Z"
   },
   {
    "duration": 481,
    "start_time": "2023-07-07T09:41:02.592Z"
   },
   {
    "duration": 146,
    "start_time": "2023-07-07T09:41:03.075Z"
   },
   {
    "duration": 369,
    "start_time": "2023-07-07T09:41:03.229Z"
   },
   {
    "duration": 157,
    "start_time": "2023-07-07T09:41:03.601Z"
   },
   {
    "duration": 666,
    "start_time": "2023-07-07T09:41:03.761Z"
   },
   {
    "duration": 14,
    "start_time": "2023-07-07T09:41:04.429Z"
   },
   {
    "duration": 25,
    "start_time": "2023-07-07T09:41:04.446Z"
   },
   {
    "duration": 28,
    "start_time": "2023-07-07T09:41:04.474Z"
   },
   {
    "duration": 53,
    "start_time": "2023-07-07T09:41:04.506Z"
   },
   {
    "duration": 87,
    "start_time": "2023-07-07T09:41:04.562Z"
   },
   {
    "duration": 4,
    "start_time": "2023-07-07T09:41:04.651Z"
   },
   {
    "duration": 30,
    "start_time": "2023-07-07T09:41:04.657Z"
   },
   {
    "duration": 51,
    "start_time": "2023-07-07T09:41:04.689Z"
   },
   {
    "duration": 211,
    "start_time": "2023-07-07T09:41:16.202Z"
   },
   {
    "duration": 8,
    "start_time": "2023-07-07T09:41:21.151Z"
   },
   {
    "duration": 8,
    "start_time": "2023-07-07T10:12:02.864Z"
   },
   {
    "duration": 211,
    "start_time": "2023-07-07T10:13:24.662Z"
   },
   {
    "duration": 7,
    "start_time": "2023-07-07T10:18:07.402Z"
   },
   {
    "duration": 17,
    "start_time": "2023-07-07T10:18:33.749Z"
   },
   {
    "duration": 7,
    "start_time": "2023-07-07T10:18:37.946Z"
   },
   {
    "duration": 6,
    "start_time": "2023-07-07T10:18:55.808Z"
   },
   {
    "duration": 1121,
    "start_time": "2023-07-07T10:21:00.311Z"
   },
   {
    "duration": 1378,
    "start_time": "2023-07-07T10:21:40.308Z"
   },
   {
    "duration": 1098,
    "start_time": "2023-07-07T10:22:02.315Z"
   },
   {
    "duration": 19,
    "start_time": "2023-07-07T10:22:15.429Z"
   },
   {
    "duration": 1061,
    "start_time": "2023-07-07T10:39:56.377Z"
   },
   {
    "duration": 7,
    "start_time": "2023-07-07T10:40:39.261Z"
   },
   {
    "duration": 5,
    "start_time": "2023-07-07T10:41:14.574Z"
   },
   {
    "duration": 6,
    "start_time": "2023-07-07T10:41:34.210Z"
   },
   {
    "duration": 15,
    "start_time": "2023-07-07T10:42:11.700Z"
   },
   {
    "duration": 5,
    "start_time": "2023-07-07T10:42:40.377Z"
   },
   {
    "duration": 3,
    "start_time": "2023-07-07T10:43:08.658Z"
   },
   {
    "duration": 4,
    "start_time": "2023-07-07T10:43:35.613Z"
   },
   {
    "duration": 3,
    "start_time": "2023-07-07T10:44:00.068Z"
   },
   {
    "duration": 4,
    "start_time": "2023-07-07T10:45:06.957Z"
   },
   {
    "duration": 13,
    "start_time": "2023-07-07T10:45:14.734Z"
   },
   {
    "duration": 7,
    "start_time": "2023-07-07T10:45:31.229Z"
   },
   {
    "duration": 5916,
    "start_time": "2023-07-07T10:45:33.711Z"
   },
   {
    "duration": 8,
    "start_time": "2023-07-07T10:45:49.541Z"
   },
   {
    "duration": 5725,
    "start_time": "2023-07-07T10:46:03.107Z"
   },
   {
    "duration": 3,
    "start_time": "2023-07-07T10:46:27.765Z"
   },
   {
    "duration": 4911,
    "start_time": "2023-07-07T10:46:30.428Z"
   },
   {
    "duration": 5,
    "start_time": "2023-07-07T11:15:59.435Z"
   },
   {
    "duration": 26,
    "start_time": "2023-07-07T11:18:17.706Z"
   },
   {
    "duration": 14,
    "start_time": "2023-07-07T11:20:16.572Z"
   },
   {
    "duration": 3,
    "start_time": "2023-07-07T11:20:19.398Z"
   },
   {
    "duration": 5,
    "start_time": "2023-07-07T11:20:28.171Z"
   },
   {
    "duration": 18,
    "start_time": "2023-07-07T11:23:01.647Z"
   },
   {
    "duration": 13,
    "start_time": "2023-07-07T11:23:05.459Z"
   },
   {
    "duration": 4,
    "start_time": "2023-07-07T11:23:35.899Z"
   },
   {
    "duration": 10794,
    "start_time": "2023-07-07T11:23:40.753Z"
   },
   {
    "duration": 3,
    "start_time": "2023-07-07T11:24:17.278Z"
   },
   {
    "duration": 99,
    "start_time": "2023-07-07T11:27:34.483Z"
   },
   {
    "duration": 34390,
    "start_time": "2023-07-07T11:28:16.973Z"
   },
   {
    "duration": 12,
    "start_time": "2023-07-07T11:29:24.866Z"
   },
   {
    "duration": 10,
    "start_time": "2023-07-07T11:29:29.634Z"
   },
   {
    "duration": 14,
    "start_time": "2023-07-07T11:29:49.913Z"
   },
   {
    "duration": 5,
    "start_time": "2023-07-07T11:30:18.775Z"
   },
   {
    "duration": 2986,
    "start_time": "2023-07-07T11:30:42.574Z"
   },
   {
    "duration": 2387,
    "start_time": "2023-07-07T11:30:45.563Z"
   },
   {
    "duration": 42,
    "start_time": "2023-07-07T11:30:47.952Z"
   },
   {
    "duration": 943,
    "start_time": "2023-07-07T11:30:47.996Z"
   },
   {
    "duration": 3,
    "start_time": "2023-07-07T11:30:48.947Z"
   },
   {
    "duration": 8,
    "start_time": "2023-07-07T11:30:48.952Z"
   },
   {
    "duration": 21,
    "start_time": "2023-07-07T11:30:48.962Z"
   },
   {
    "duration": 571,
    "start_time": "2023-07-07T11:30:48.985Z"
   },
   {
    "duration": 4,
    "start_time": "2023-07-07T11:30:49.565Z"
   },
   {
    "duration": 11,
    "start_time": "2023-07-07T11:30:49.572Z"
   },
   {
    "duration": 7,
    "start_time": "2023-07-07T11:30:49.585Z"
   },
   {
    "duration": 470,
    "start_time": "2023-07-07T11:30:49.594Z"
   },
   {
    "duration": 11,
    "start_time": "2023-07-07T11:30:50.066Z"
   },
   {
    "duration": 21,
    "start_time": "2023-07-07T11:30:50.080Z"
   },
   {
    "duration": 26,
    "start_time": "2023-07-07T11:30:50.104Z"
   },
   {
    "duration": 12,
    "start_time": "2023-07-07T11:30:50.139Z"
   },
   {
    "duration": 10,
    "start_time": "2023-07-07T11:30:50.157Z"
   },
   {
    "duration": 19,
    "start_time": "2023-07-07T11:30:50.169Z"
   },
   {
    "duration": 19,
    "start_time": "2023-07-07T11:30:50.190Z"
   },
   {
    "duration": 338,
    "start_time": "2023-07-07T11:30:50.211Z"
   },
   {
    "duration": 40,
    "start_time": "2023-07-07T11:30:50.550Z"
   },
   {
    "duration": 152,
    "start_time": "2023-07-07T11:30:50.592Z"
   },
   {
    "duration": 14,
    "start_time": "2023-07-07T11:30:50.745Z"
   },
   {
    "duration": 24,
    "start_time": "2023-07-07T11:30:50.761Z"
   },
   {
    "duration": 35,
    "start_time": "2023-07-07T11:30:50.786Z"
   },
   {
    "duration": 30,
    "start_time": "2023-07-07T11:30:50.827Z"
   },
   {
    "duration": 4,
    "start_time": "2023-07-07T11:30:50.860Z"
   },
   {
    "duration": 10,
    "start_time": "2023-07-07T11:30:50.870Z"
   },
   {
    "duration": 14,
    "start_time": "2023-07-07T11:30:50.882Z"
   },
   {
    "duration": 30,
    "start_time": "2023-07-07T11:30:50.898Z"
   },
   {
    "duration": 21,
    "start_time": "2023-07-07T11:30:50.931Z"
   },
   {
    "duration": 5,
    "start_time": "2023-07-07T11:30:50.954Z"
   },
   {
    "duration": 22,
    "start_time": "2023-07-07T11:30:50.960Z"
   },
   {
    "duration": 14,
    "start_time": "2023-07-07T11:30:50.984Z"
   },
   {
    "duration": 49,
    "start_time": "2023-07-07T11:30:51.000Z"
   },
   {
    "duration": 933,
    "start_time": "2023-07-07T11:30:51.051Z"
   },
   {
    "duration": 3,
    "start_time": "2023-07-07T11:30:51.987Z"
   },
   {
    "duration": 1014,
    "start_time": "2023-07-07T11:30:51.992Z"
   },
   {
    "duration": 1108,
    "start_time": "2023-07-07T11:30:53.008Z"
   },
   {
    "duration": 1139,
    "start_time": "2023-07-07T11:30:54.118Z"
   },
   {
    "duration": 8,
    "start_time": "2023-07-07T11:30:55.259Z"
   },
   {
    "duration": 16,
    "start_time": "2023-07-07T11:30:55.269Z"
   },
   {
    "duration": 52,
    "start_time": "2023-07-07T11:30:55.287Z"
   },
   {
    "duration": 1461,
    "start_time": "2023-07-07T11:30:55.346Z"
   },
   {
    "duration": 291,
    "start_time": "2023-07-07T11:30:56.814Z"
   },
   {
    "duration": 7,
    "start_time": "2023-07-07T11:30:57.132Z"
   },
   {
    "duration": 19,
    "start_time": "2023-07-07T11:30:57.141Z"
   },
   {
    "duration": 20,
    "start_time": "2023-07-07T11:30:57.163Z"
   },
   {
    "duration": 8,
    "start_time": "2023-07-07T11:30:57.185Z"
   },
   {
    "duration": 40,
    "start_time": "2023-07-07T11:30:57.197Z"
   },
   {
    "duration": 1267,
    "start_time": "2023-07-07T11:30:57.249Z"
   },
   {
    "duration": 28,
    "start_time": "2023-07-07T11:30:58.531Z"
   },
   {
    "duration": 346,
    "start_time": "2023-07-07T11:30:58.561Z"
   },
   {
    "duration": 143,
    "start_time": "2023-07-07T11:30:58.920Z"
   },
   {
    "duration": 392,
    "start_time": "2023-07-07T11:30:59.065Z"
   },
   {
    "duration": 163,
    "start_time": "2023-07-07T11:30:59.459Z"
   },
   {
    "duration": 738,
    "start_time": "2023-07-07T11:30:59.624Z"
   },
   {
    "duration": 5,
    "start_time": "2023-07-07T11:31:00.364Z"
   },
   {
    "duration": 17,
    "start_time": "2023-07-07T11:31:00.371Z"
   },
   {
    "duration": 34,
    "start_time": "2023-07-07T11:31:00.389Z"
   },
   {
    "duration": 28,
    "start_time": "2023-07-07T11:31:00.426Z"
   },
   {
    "duration": 95,
    "start_time": "2023-07-07T11:31:00.456Z"
   },
   {
    "duration": 4,
    "start_time": "2023-07-07T11:31:00.553Z"
   },
   {
    "duration": 44,
    "start_time": "2023-07-07T11:31:00.568Z"
   },
   {
    "duration": 37,
    "start_time": "2023-07-07T11:31:00.615Z"
   },
   {
    "duration": 22,
    "start_time": "2023-07-07T11:31:00.654Z"
   },
   {
    "duration": 71,
    "start_time": "2023-07-07T11:31:00.678Z"
   },
   {
    "duration": 189,
    "start_time": "2023-07-07T11:31:00.751Z"
   },
   {
    "duration": 147,
    "start_time": "2023-07-07T11:31:00.943Z"
   },
   {
    "duration": 93,
    "start_time": "2023-07-07T11:31:01.092Z"
   },
   {
    "duration": 251,
    "start_time": "2023-07-07T11:31:01.187Z"
   },
   {
    "duration": 80,
    "start_time": "2023-07-07T11:31:01.439Z"
   },
   {
    "duration": 8199,
    "start_time": "2023-07-07T11:31:01.521Z"
   },
   {
    "duration": 83,
    "start_time": "2023-07-07T11:31:09.730Z"
   },
   {
    "duration": 3922,
    "start_time": "2023-07-07T11:31:09.827Z"
   },
   {
    "duration": 4,
    "start_time": "2023-07-07T11:32:36.852Z"
   },
   {
    "duration": 4,
    "start_time": "2023-07-07T11:33:57.104Z"
   },
   {
    "duration": 5,
    "start_time": "2023-07-07T11:34:09.471Z"
   },
   {
    "duration": 29,
    "start_time": "2023-07-07T11:35:19.234Z"
   },
   {
    "duration": 30,
    "start_time": "2023-07-07T11:36:50.721Z"
   },
   {
    "duration": 6,
    "start_time": "2023-07-07T11:37:11.034Z"
   },
   {
    "duration": 1367,
    "start_time": "2023-07-07T11:37:17.886Z"
   },
   {
    "duration": 839162,
    "start_time": "2023-07-07T11:37:45.251Z"
   },
   {
    "duration": 44467,
    "start_time": "2023-07-07T11:51:44.422Z"
   },
   {
    "duration": 14,
    "start_time": "2023-07-07T11:52:28.890Z"
   },
   {
    "duration": 0,
    "start_time": "2023-07-07T11:52:28.918Z"
   },
   {
    "duration": 4,
    "start_time": "2023-07-07T11:56:18.595Z"
   },
   {
    "duration": 797000,
    "start_time": "2023-07-07T11:56:24.662Z"
   },
   {
    "duration": 22,
    "start_time": "2023-07-07T12:20:25.041Z"
   },
   {
    "duration": 5,
    "start_time": "2023-07-07T12:20:34.931Z"
   },
   {
    "duration": 8414,
    "start_time": "2023-07-07T12:20:42.588Z"
   },
   {
    "duration": 0,
    "start_time": "2023-07-07T12:20:51.004Z"
   },
   {
    "duration": 6282,
    "start_time": "2023-07-07T12:20:53.157Z"
   },
   {
    "duration": 3771,
    "start_time": "2023-07-07T12:21:05.592Z"
   },
   {
    "duration": 5835,
    "start_time": "2023-07-07T12:21:32.053Z"
   },
   {
    "duration": 16,
    "start_time": "2023-07-07T12:22:18.678Z"
   },
   {
    "duration": 18438,
    "start_time": "2023-07-07T12:23:35.136Z"
   },
   {
    "duration": 15612,
    "start_time": "2023-07-07T12:24:04.602Z"
   },
   {
    "duration": 3871,
    "start_time": "2023-07-07T12:24:44.016Z"
   },
   {
    "duration": 15869,
    "start_time": "2023-07-07T12:24:55.005Z"
   },
   {
    "duration": 27,
    "start_time": "2023-07-07T12:25:28.456Z"
   },
   {
    "duration": 27,
    "start_time": "2023-07-07T12:28:04.846Z"
   },
   {
    "duration": 26,
    "start_time": "2023-07-07T12:28:56.009Z"
   },
   {
    "duration": 25,
    "start_time": "2023-07-07T12:29:21.946Z"
   },
   {
    "duration": 12,
    "start_time": "2023-07-07T12:29:42.200Z"
   },
   {
    "duration": 4,
    "start_time": "2023-07-07T12:29:44.928Z"
   },
   {
    "duration": 4,
    "start_time": "2023-07-07T12:29:57.852Z"
   },
   {
    "duration": 18,
    "start_time": "2023-07-07T12:34:14.313Z"
   },
   {
    "duration": 0,
    "start_time": "2023-07-07T12:34:28.118Z"
   },
   {
    "duration": 9291,
    "start_time": "2023-07-07T12:34:33.921Z"
   },
   {
    "duration": 6,
    "start_time": "2023-07-07T12:36:09.462Z"
   },
   {
    "duration": 5,
    "start_time": "2023-07-07T12:38:00.980Z"
   },
   {
    "duration": 7,
    "start_time": "2023-07-07T12:44:32.684Z"
   },
   {
    "duration": 5,
    "start_time": "2023-07-07T12:45:23.068Z"
   },
   {
    "duration": 12908,
    "start_time": "2023-07-07T12:45:27.353Z"
   },
   {
    "duration": 5,
    "start_time": "2023-07-07T12:47:04.292Z"
   },
   {
    "duration": 16,
    "start_time": "2023-07-07T12:49:03.973Z"
   },
   {
    "duration": 6,
    "start_time": "2023-07-07T12:49:44.256Z"
   },
   {
    "duration": 8,
    "start_time": "2023-07-07T12:50:53.571Z"
   },
   {
    "duration": 19,
    "start_time": "2023-07-07T12:50:56.434Z"
   },
   {
    "duration": 10017,
    "start_time": "2023-07-07T12:51:08.543Z"
   },
   {
    "duration": 14,
    "start_time": "2023-07-07T12:52:04.397Z"
   },
   {
    "duration": 34,
    "start_time": "2023-07-07T12:52:07.024Z"
   },
   {
    "duration": 1551,
    "start_time": "2023-07-07T12:52:32.191Z"
   },
   {
    "duration": 1959,
    "start_time": "2023-07-07T12:52:52.706Z"
   },
   {
    "duration": 2,
    "start_time": "2023-07-07T12:53:02.142Z"
   },
   {
    "duration": 11984,
    "start_time": "2023-07-07T12:53:05.179Z"
   },
   {
    "duration": 3,
    "start_time": "2023-07-07T12:53:52.602Z"
   },
   {
    "duration": 22,
    "start_time": "2023-07-07T12:54:20.980Z"
   },
   {
    "duration": 11,
    "start_time": "2023-07-07T12:54:28.748Z"
   },
   {
    "duration": 2720,
    "start_time": "2023-07-07T12:54:51.444Z"
   },
   {
    "duration": 2358,
    "start_time": "2023-07-07T12:54:54.167Z"
   },
   {
    "duration": 65,
    "start_time": "2023-07-07T12:54:56.527Z"
   },
   {
    "duration": 858,
    "start_time": "2023-07-07T12:54:56.595Z"
   },
   {
    "duration": 3,
    "start_time": "2023-07-07T12:54:57.455Z"
   },
   {
    "duration": 11,
    "start_time": "2023-07-07T12:54:57.459Z"
   },
   {
    "duration": 5,
    "start_time": "2023-07-07T12:54:57.471Z"
   },
   {
    "duration": 466,
    "start_time": "2023-07-07T12:54:57.478Z"
   },
   {
    "duration": 6,
    "start_time": "2023-07-07T12:54:57.946Z"
   },
   {
    "duration": 6,
    "start_time": "2023-07-07T12:54:57.956Z"
   },
   {
    "duration": 21,
    "start_time": "2023-07-07T12:54:57.963Z"
   },
   {
    "duration": 453,
    "start_time": "2023-07-07T12:54:57.985Z"
   },
   {
    "duration": 10,
    "start_time": "2023-07-07T12:54:58.440Z"
   },
   {
    "duration": 28,
    "start_time": "2023-07-07T12:54:58.457Z"
   },
   {
    "duration": 29,
    "start_time": "2023-07-07T12:54:58.487Z"
   },
   {
    "duration": 6,
    "start_time": "2023-07-07T12:54:58.518Z"
   },
   {
    "duration": 35,
    "start_time": "2023-07-07T12:54:58.525Z"
   },
   {
    "duration": 20,
    "start_time": "2023-07-07T12:54:58.562Z"
   },
   {
    "duration": 53,
    "start_time": "2023-07-07T12:54:58.583Z"
   },
   {
    "duration": 307,
    "start_time": "2023-07-07T12:54:58.637Z"
   },
   {
    "duration": 27,
    "start_time": "2023-07-07T12:54:58.948Z"
   },
   {
    "duration": 122,
    "start_time": "2023-07-07T12:54:58.977Z"
   },
   {
    "duration": 13,
    "start_time": "2023-07-07T12:54:59.101Z"
   },
   {
    "duration": 23,
    "start_time": "2023-07-07T12:54:59.120Z"
   },
   {
    "duration": 11,
    "start_time": "2023-07-07T12:54:59.151Z"
   },
   {
    "duration": 10,
    "start_time": "2023-07-07T12:54:59.164Z"
   },
   {
    "duration": 10,
    "start_time": "2023-07-07T12:54:59.176Z"
   },
   {
    "duration": 21,
    "start_time": "2023-07-07T12:54:59.190Z"
   },
   {
    "duration": 46,
    "start_time": "2023-07-07T12:54:59.213Z"
   },
   {
    "duration": 27,
    "start_time": "2023-07-07T12:54:59.261Z"
   },
   {
    "duration": 13,
    "start_time": "2023-07-07T12:54:59.290Z"
   },
   {
    "duration": 5,
    "start_time": "2023-07-07T12:54:59.304Z"
   },
   {
    "duration": 17,
    "start_time": "2023-07-07T12:54:59.311Z"
   },
   {
    "duration": 19,
    "start_time": "2023-07-07T12:54:59.330Z"
   },
   {
    "duration": 16,
    "start_time": "2023-07-07T12:54:59.351Z"
   },
   {
    "duration": 970,
    "start_time": "2023-07-07T12:54:59.368Z"
   },
   {
    "duration": 3,
    "start_time": "2023-07-07T12:55:00.340Z"
   },
   {
    "duration": 885,
    "start_time": "2023-07-07T12:55:00.345Z"
   },
   {
    "duration": 955,
    "start_time": "2023-07-07T12:55:01.232Z"
   },
   {
    "duration": 935,
    "start_time": "2023-07-07T12:55:02.189Z"
   },
   {
    "duration": 17,
    "start_time": "2023-07-07T12:55:03.126Z"
   },
   {
    "duration": 10,
    "start_time": "2023-07-07T12:55:03.149Z"
   },
   {
    "duration": 31,
    "start_time": "2023-07-07T12:55:03.161Z"
   },
   {
    "duration": 1425,
    "start_time": "2023-07-07T12:55:03.194Z"
   },
   {
    "duration": 253,
    "start_time": "2023-07-07T12:55:04.621Z"
   },
   {
    "duration": 3,
    "start_time": "2023-07-07T12:55:04.876Z"
   },
   {
    "duration": 17,
    "start_time": "2023-07-07T12:55:04.882Z"
   },
   {
    "duration": 28,
    "start_time": "2023-07-07T12:55:04.901Z"
   },
   {
    "duration": 13,
    "start_time": "2023-07-07T12:55:04.931Z"
   },
   {
    "duration": 29,
    "start_time": "2023-07-07T12:55:04.946Z"
   },
   {
    "duration": 1167,
    "start_time": "2023-07-07T12:55:04.977Z"
   },
   {
    "duration": 24,
    "start_time": "2023-07-07T12:55:06.146Z"
   },
   {
    "duration": 355,
    "start_time": "2023-07-07T12:55:06.172Z"
   },
   {
    "duration": 142,
    "start_time": "2023-07-07T12:55:06.529Z"
   },
   {
    "duration": 348,
    "start_time": "2023-07-07T12:55:06.672Z"
   },
   {
    "duration": 129,
    "start_time": "2023-07-07T12:55:07.022Z"
   },
   {
    "duration": 592,
    "start_time": "2023-07-07T12:55:07.153Z"
   },
   {
    "duration": 5,
    "start_time": "2023-07-07T12:55:07.750Z"
   },
   {
    "duration": 9,
    "start_time": "2023-07-07T12:55:07.756Z"
   },
   {
    "duration": 9,
    "start_time": "2023-07-07T12:55:07.767Z"
   },
   {
    "duration": 5,
    "start_time": "2023-07-07T12:55:07.778Z"
   },
   {
    "duration": 58,
    "start_time": "2023-07-07T12:55:07.785Z"
   },
   {
    "duration": 4,
    "start_time": "2023-07-07T12:55:07.852Z"
   },
   {
    "duration": 10,
    "start_time": "2023-07-07T12:55:07.859Z"
   },
   {
    "duration": 18,
    "start_time": "2023-07-07T12:55:07.871Z"
   },
   {
    "duration": 7,
    "start_time": "2023-07-07T12:55:07.891Z"
   },
   {
    "duration": 12,
    "start_time": "2023-07-07T12:55:07.900Z"
   },
   {
    "duration": 14,
    "start_time": "2023-07-07T12:55:07.918Z"
   },
   {
    "duration": 192,
    "start_time": "2023-07-07T12:55:07.937Z"
   },
   {
    "duration": 19,
    "start_time": "2023-07-07T12:55:08.132Z"
   },
   {
    "duration": 17,
    "start_time": "2023-07-07T12:55:08.154Z"
   },
   {
    "duration": 14,
    "start_time": "2023-07-07T12:55:08.173Z"
   },
   {
    "duration": 17,
    "start_time": "2023-07-07T12:55:08.189Z"
   },
   {
    "duration": 12739,
    "start_time": "2023-07-07T12:55:08.208Z"
   },
   {
    "duration": 12,
    "start_time": "2023-07-07T12:55:20.956Z"
   },
   {
    "duration": 42,
    "start_time": "2023-07-07T12:55:20.973Z"
   },
   {
    "duration": 861847,
    "start_time": "2023-07-07T12:55:21.020Z"
   },
   {
    "duration": 3,
    "start_time": "2023-07-07T13:09:42.869Z"
   },
   {
    "duration": 12,
    "start_time": "2023-07-07T13:09:42.875Z"
   },
   {
    "duration": 878070,
    "start_time": "2023-07-07T13:09:42.889Z"
   },
   {
    "duration": 2151,
    "start_time": "2023-07-07T13:24:20.962Z"
   },
   {
    "duration": 81,
    "start_time": "2023-07-07T13:24:23.136Z"
   },
   {
    "duration": 158,
    "start_time": "2023-07-07T13:24:23.219Z"
   },
   {
    "duration": 6184,
    "start_time": "2023-07-07T19:48:02.797Z"
   },
   {
    "duration": 4700,
    "start_time": "2023-07-07T19:48:08.985Z"
   },
   {
    "duration": 65,
    "start_time": "2023-07-07T19:48:13.687Z"
   },
   {
    "duration": 872,
    "start_time": "2023-07-07T19:48:13.754Z"
   },
   {
    "duration": 363924,
    "start_time": "2023-07-07T19:48:14.629Z"
   },
   {
    "duration": 0,
    "start_time": "2023-07-07T19:54:18.557Z"
   },
   {
    "duration": 0,
    "start_time": "2023-07-07T19:54:18.565Z"
   },
   {
    "duration": 1,
    "start_time": "2023-07-07T19:54:18.568Z"
   },
   {
    "duration": 0,
    "start_time": "2023-07-07T19:54:18.569Z"
   },
   {
    "duration": 0,
    "start_time": "2023-07-07T19:54:18.571Z"
   },
   {
    "duration": 0,
    "start_time": "2023-07-07T19:54:18.572Z"
   },
   {
    "duration": 0,
    "start_time": "2023-07-07T19:54:18.572Z"
   },
   {
    "duration": 0,
    "start_time": "2023-07-07T19:54:18.573Z"
   },
   {
    "duration": 0,
    "start_time": "2023-07-07T19:54:18.574Z"
   },
   {
    "duration": 0,
    "start_time": "2023-07-07T19:54:18.575Z"
   },
   {
    "duration": 0,
    "start_time": "2023-07-07T19:54:18.576Z"
   },
   {
    "duration": 0,
    "start_time": "2023-07-07T19:54:18.579Z"
   },
   {
    "duration": 0,
    "start_time": "2023-07-07T19:54:18.580Z"
   },
   {
    "duration": 0,
    "start_time": "2023-07-07T19:54:18.583Z"
   },
   {
    "duration": 0,
    "start_time": "2023-07-07T19:54:18.584Z"
   },
   {
    "duration": 0,
    "start_time": "2023-07-07T19:54:18.585Z"
   },
   {
    "duration": 0,
    "start_time": "2023-07-07T19:54:18.590Z"
   },
   {
    "duration": 0,
    "start_time": "2023-07-07T19:54:18.591Z"
   },
   {
    "duration": 0,
    "start_time": "2023-07-07T19:54:18.593Z"
   },
   {
    "duration": 0,
    "start_time": "2023-07-07T19:54:18.594Z"
   },
   {
    "duration": 0,
    "start_time": "2023-07-07T19:54:18.595Z"
   },
   {
    "duration": 0,
    "start_time": "2023-07-07T19:54:18.596Z"
   },
   {
    "duration": 1,
    "start_time": "2023-07-07T19:54:18.597Z"
   },
   {
    "duration": 0,
    "start_time": "2023-07-07T19:54:18.599Z"
   },
   {
    "duration": 0,
    "start_time": "2023-07-07T19:54:18.601Z"
   },
   {
    "duration": 0,
    "start_time": "2023-07-07T19:54:18.604Z"
   },
   {
    "duration": 0,
    "start_time": "2023-07-07T19:54:18.606Z"
   },
   {
    "duration": 0,
    "start_time": "2023-07-07T19:54:18.608Z"
   },
   {
    "duration": 0,
    "start_time": "2023-07-07T19:54:18.609Z"
   },
   {
    "duration": 0,
    "start_time": "2023-07-07T19:54:18.611Z"
   },
   {
    "duration": 0,
    "start_time": "2023-07-07T19:54:18.613Z"
   },
   {
    "duration": 0,
    "start_time": "2023-07-07T19:54:18.614Z"
   },
   {
    "duration": 0,
    "start_time": "2023-07-07T19:54:18.616Z"
   },
   {
    "duration": 0,
    "start_time": "2023-07-07T19:54:18.623Z"
   },
   {
    "duration": 0,
    "start_time": "2023-07-07T19:54:18.624Z"
   },
   {
    "duration": 0,
    "start_time": "2023-07-07T19:54:18.626Z"
   },
   {
    "duration": 0,
    "start_time": "2023-07-07T19:54:18.627Z"
   },
   {
    "duration": 0,
    "start_time": "2023-07-07T19:54:18.661Z"
   },
   {
    "duration": 0,
    "start_time": "2023-07-07T19:54:18.663Z"
   },
   {
    "duration": 0,
    "start_time": "2023-07-07T19:54:18.664Z"
   },
   {
    "duration": 0,
    "start_time": "2023-07-07T19:54:18.665Z"
   },
   {
    "duration": 3556,
    "start_time": "2023-07-07T19:56:03.485Z"
   },
   {
    "duration": 91,
    "start_time": "2023-07-07T19:56:07.043Z"
   },
   {
    "duration": 5512,
    "start_time": "2023-07-07T19:56:07.137Z"
   },
   {
    "duration": 766,
    "start_time": "2023-07-07T19:56:12.652Z"
   },
   {
    "duration": 8,
    "start_time": "2023-07-07T19:56:13.427Z"
   },
   {
    "duration": 11,
    "start_time": "2023-07-07T19:56:13.438Z"
   },
   {
    "duration": 18,
    "start_time": "2023-07-07T19:56:13.460Z"
   },
   {
    "duration": 477,
    "start_time": "2023-07-07T19:56:13.483Z"
   },
   {
    "duration": 8,
    "start_time": "2023-07-07T19:56:13.961Z"
   },
   {
    "duration": 3,
    "start_time": "2023-07-07T19:56:13.971Z"
   },
   {
    "duration": 13,
    "start_time": "2023-07-07T19:56:13.976Z"
   },
   {
    "duration": 11,
    "start_time": "2023-07-07T19:56:13.997Z"
   },
   {
    "duration": 14,
    "start_time": "2023-07-07T19:56:14.012Z"
   },
   {
    "duration": 19,
    "start_time": "2023-07-07T19:56:14.034Z"
   },
   {
    "duration": 38,
    "start_time": "2023-07-07T19:56:14.056Z"
   },
   {
    "duration": 236,
    "start_time": "2023-07-07T19:56:14.102Z"
   },
   {
    "duration": 40,
    "start_time": "2023-07-07T19:56:14.340Z"
   },
   {
    "duration": 178,
    "start_time": "2023-07-07T19:56:14.382Z"
   },
   {
    "duration": 33,
    "start_time": "2023-07-07T19:56:14.562Z"
   },
   {
    "duration": 23,
    "start_time": "2023-07-07T19:56:14.601Z"
   },
   {
    "duration": 17,
    "start_time": "2023-07-07T19:56:14.627Z"
   },
   {
    "duration": 30,
    "start_time": "2023-07-07T19:56:14.649Z"
   },
   {
    "duration": 19,
    "start_time": "2023-07-07T19:56:14.692Z"
   },
   {
    "duration": 13,
    "start_time": "2023-07-07T19:56:14.717Z"
   },
   {
    "duration": 16,
    "start_time": "2023-07-07T19:56:14.733Z"
   },
   {
    "duration": 24,
    "start_time": "2023-07-07T19:56:14.752Z"
   },
   {
    "duration": 25,
    "start_time": "2023-07-07T19:56:14.778Z"
   },
   {
    "duration": 12,
    "start_time": "2023-07-07T19:56:14.805Z"
   },
   {
    "duration": 9,
    "start_time": "2023-07-07T19:56:14.820Z"
   },
   {
    "duration": 4,
    "start_time": "2023-07-07T19:56:14.837Z"
   },
   {
    "duration": 13,
    "start_time": "2023-07-07T19:56:14.843Z"
   },
   {
    "duration": 1205,
    "start_time": "2023-07-07T19:56:14.860Z"
   },
   {
    "duration": 5,
    "start_time": "2023-07-07T19:56:16.068Z"
   },
   {
    "duration": 1132,
    "start_time": "2023-07-07T19:56:16.075Z"
   },
   {
    "duration": 1345,
    "start_time": "2023-07-07T19:56:17.209Z"
   },
   {
    "duration": 1220,
    "start_time": "2023-07-07T19:56:18.570Z"
   },
   {
    "duration": 11,
    "start_time": "2023-07-07T19:56:19.796Z"
   },
   {
    "duration": 20,
    "start_time": "2023-07-07T19:56:19.816Z"
   },
   {
    "duration": 28,
    "start_time": "2023-07-07T19:56:19.843Z"
   },
   {
    "duration": 1868,
    "start_time": "2023-07-07T19:56:19.875Z"
   },
   {
    "duration": 308,
    "start_time": "2023-07-07T19:56:21.750Z"
   },
   {
    "duration": 10,
    "start_time": "2023-07-07T19:56:22.063Z"
   },
   {
    "duration": 17,
    "start_time": "2023-07-07T19:56:22.075Z"
   },
   {
    "duration": 26,
    "start_time": "2023-07-07T19:56:22.094Z"
   },
   {
    "duration": 13,
    "start_time": "2023-07-07T19:56:22.123Z"
   },
   {
    "duration": 15,
    "start_time": "2023-07-07T19:56:22.139Z"
   },
   {
    "duration": 37,
    "start_time": "2023-07-07T19:56:22.156Z"
   },
   {
    "duration": 1218,
    "start_time": "2023-07-07T19:56:22.199Z"
   },
   {
    "duration": 29,
    "start_time": "2023-07-07T19:56:23.419Z"
   },
   {
    "duration": 728,
    "start_time": "2023-07-07T19:56:23.458Z"
   },
   {
    "duration": 162,
    "start_time": "2023-07-07T19:56:24.200Z"
   },
   {
    "duration": 471,
    "start_time": "2023-07-07T19:56:24.368Z"
   },
   {
    "duration": 204,
    "start_time": "2023-07-07T19:56:24.843Z"
   },
   {
    "duration": 1065,
    "start_time": "2023-07-07T19:56:25.055Z"
   },
   {
    "duration": 5,
    "start_time": "2023-07-07T19:56:26.127Z"
   },
   {
    "duration": 18,
    "start_time": "2023-07-07T19:56:26.134Z"
   },
   {
    "duration": 26,
    "start_time": "2023-07-07T19:56:26.155Z"
   },
   {
    "duration": 9,
    "start_time": "2023-07-07T19:56:26.184Z"
   },
   {
    "duration": 99,
    "start_time": "2023-07-07T19:56:26.199Z"
   },
   {
    "duration": 12,
    "start_time": "2023-07-07T19:56:26.301Z"
   },
   {
    "duration": 4,
    "start_time": "2023-07-07T19:56:26.319Z"
   },
   {
    "duration": 10,
    "start_time": "2023-07-07T19:56:26.326Z"
   },
   {
    "duration": 12,
    "start_time": "2023-07-07T19:56:26.339Z"
   },
   {
    "duration": 14,
    "start_time": "2023-07-07T19:56:26.363Z"
   },
   {
    "duration": 21,
    "start_time": "2023-07-07T19:56:26.379Z"
   },
   {
    "duration": 12,
    "start_time": "2023-07-07T19:56:26.404Z"
   },
   {
    "duration": 6,
    "start_time": "2023-07-07T19:56:26.420Z"
   },
   {
    "duration": 8,
    "start_time": "2023-07-07T19:56:26.429Z"
   },
   {
    "duration": 17,
    "start_time": "2023-07-07T19:57:03.333Z"
   },
   {
    "duration": 16,
    "start_time": "2023-07-07T19:58:31.230Z"
   },
   {
    "duration": 8,
    "start_time": "2023-07-07T20:01:27.083Z"
   },
   {
    "duration": 14,
    "start_time": "2023-07-07T20:06:52.023Z"
   },
   {
    "duration": 215,
    "start_time": "2023-07-07T20:07:24.201Z"
   },
   {
    "duration": 16,
    "start_time": "2023-07-07T20:07:54.277Z"
   },
   {
    "duration": 234,
    "start_time": "2023-07-07T20:07:55.309Z"
   },
   {
    "duration": 29,
    "start_time": "2023-07-07T20:10:04.449Z"
   },
   {
    "duration": 6,
    "start_time": "2023-07-07T20:10:12.715Z"
   },
   {
    "duration": 9,
    "start_time": "2023-07-07T20:11:34.414Z"
   },
   {
    "duration": 13,
    "start_time": "2023-07-07T20:12:07.979Z"
   },
   {
    "duration": 6,
    "start_time": "2023-07-07T20:13:29.321Z"
   },
   {
    "duration": 11,
    "start_time": "2023-07-07T20:16:29.147Z"
   },
   {
    "duration": 17,
    "start_time": "2023-07-07T20:16:43.215Z"
   },
   {
    "duration": 209,
    "start_time": "2023-07-07T20:17:47.103Z"
   },
   {
    "duration": 186,
    "start_time": "2023-07-07T20:17:57.877Z"
   },
   {
    "duration": 551,
    "start_time": "2023-07-07T20:18:07.354Z"
   },
   {
    "duration": 12,
    "start_time": "2023-07-07T20:20:43.411Z"
   },
   {
    "duration": 2159,
    "start_time": "2023-07-07T20:29:17.981Z"
   },
   {
    "duration": 25,
    "start_time": "2023-07-07T20:29:29.545Z"
   },
   {
    "duration": 7,
    "start_time": "2023-07-07T20:30:00.442Z"
   },
   {
    "duration": 6,
    "start_time": "2023-07-07T20:31:20.226Z"
   },
   {
    "duration": 9,
    "start_time": "2023-07-07T20:31:32.906Z"
   },
   {
    "duration": 9,
    "start_time": "2023-07-07T20:32:55.543Z"
   },
   {
    "duration": 17,
    "start_time": "2023-07-07T20:33:14.198Z"
   },
   {
    "duration": 1551,
    "start_time": "2023-07-07T20:33:52.480Z"
   },
   {
    "duration": 7,
    "start_time": "2023-07-07T20:35:21.025Z"
   },
   {
    "duration": 29,
    "start_time": "2023-07-07T20:38:13.799Z"
   },
   {
    "duration": 42,
    "start_time": "2023-07-08T17:42:03.630Z"
   },
   {
    "duration": 1588,
    "start_time": "2023-07-08T17:42:06.206Z"
   },
   {
    "duration": 1898,
    "start_time": "2023-07-08T17:42:12.320Z"
   },
   {
    "duration": 2,
    "start_time": "2023-07-08T17:42:52.609Z"
   },
   {
    "duration": 3,
    "start_time": "2023-07-08T17:42:55.044Z"
   },
   {
    "duration": 834,
    "start_time": "2023-07-08T17:42:57.155Z"
   },
   {
    "duration": 752,
    "start_time": "2023-07-08T17:43:06.289Z"
   },
   {
    "duration": 845,
    "start_time": "2023-07-08T17:43:09.036Z"
   },
   {
    "duration": 3,
    "start_time": "2023-07-08T17:43:57.493Z"
   },
   {
    "duration": 3,
    "start_time": "2023-07-08T17:45:17.372Z"
   },
   {
    "duration": 71,
    "start_time": "2023-07-08T17:46:05.123Z"
   },
   {
    "duration": 3,
    "start_time": "2023-07-08T17:46:07.155Z"
   },
   {
    "duration": 3,
    "start_time": "2023-07-08T17:46:08.852Z"
   },
   {
    "duration": 3,
    "start_time": "2023-07-08T17:46:15.946Z"
   },
   {
    "duration": 4,
    "start_time": "2023-07-08T17:46:18.108Z"
   },
   {
    "duration": 8,
    "start_time": "2023-07-08T17:46:58.848Z"
   },
   {
    "duration": 3,
    "start_time": "2023-07-08T17:47:04.734Z"
   },
   {
    "duration": 18,
    "start_time": "2023-07-08T17:47:06.520Z"
   },
   {
    "duration": 337,
    "start_time": "2023-07-08T17:47:15.013Z"
   },
   {
    "duration": 85,
    "start_time": "2023-07-08T17:47:30.136Z"
   },
   {
    "duration": 2,
    "start_time": "2023-07-08T17:47:53.397Z"
   },
   {
    "duration": 3,
    "start_time": "2023-07-08T17:47:55.362Z"
   },
   {
    "duration": 28,
    "start_time": "2023-07-08T17:47:57.013Z"
   },
   {
    "duration": 18,
    "start_time": "2023-07-08T17:48:08.444Z"
   },
   {
    "duration": 332,
    "start_time": "2023-07-08T17:48:27.198Z"
   },
   {
    "duration": 3,
    "start_time": "2023-07-08T17:49:22.809Z"
   },
   {
    "duration": 4,
    "start_time": "2023-07-08T17:49:26.592Z"
   },
   {
    "duration": 15,
    "start_time": "2023-07-08T17:49:28.197Z"
   },
   {
    "duration": 3,
    "start_time": "2023-07-08T17:49:41.899Z"
   },
   {
    "duration": 15,
    "start_time": "2023-07-08T17:49:44.025Z"
   },
   {
    "duration": 3,
    "start_time": "2023-07-08T17:49:50.550Z"
   },
   {
    "duration": 814,
    "start_time": "2023-07-08T17:49:52.250Z"
   },
   {
    "duration": 428,
    "start_time": "2023-07-08T17:49:53.802Z"
   },
   {
    "duration": 776,
    "start_time": "2023-07-08T18:08:24.381Z"
   },
   {
    "duration": 8,
    "start_time": "2023-07-08T18:08:43.268Z"
   },
   {
    "duration": 10,
    "start_time": "2023-07-08T18:08:49.584Z"
   },
   {
    "duration": 7,
    "start_time": "2023-07-08T18:08:58.385Z"
   },
   {
    "duration": 18,
    "start_time": "2023-07-08T18:09:12.543Z"
   },
   {
    "duration": 18,
    "start_time": "2023-07-08T18:09:25.483Z"
   },
   {
    "duration": 8,
    "start_time": "2023-07-08T18:10:26.082Z"
   },
   {
    "duration": 3,
    "start_time": "2023-07-08T18:10:29.783Z"
   },
   {
    "duration": 809,
    "start_time": "2023-07-08T18:10:31.465Z"
   },
   {
    "duration": 101,
    "start_time": "2023-07-08T18:11:03.534Z"
   },
   {
    "duration": 439,
    "start_time": "2023-07-08T18:11:07.047Z"
   },
   {
    "duration": 26,
    "start_time": "2023-07-08T18:11:15.383Z"
   },
   {
    "duration": 355,
    "start_time": "2023-07-08T18:11:18.884Z"
   },
   {
    "duration": 473,
    "start_time": "2023-07-08T18:12:17.617Z"
   },
   {
    "duration": 3,
    "start_time": "2023-07-08T18:12:36.388Z"
   },
   {
    "duration": 30,
    "start_time": "2023-07-08T18:12:55.891Z"
   },
   {
    "duration": 370,
    "start_time": "2023-07-08T18:12:58.284Z"
   },
   {
    "duration": 787,
    "start_time": "2023-07-08T18:13:03.350Z"
   },
   {
    "duration": 44,
    "start_time": "2023-07-08T18:13:06.518Z"
   },
   {
    "duration": 478,
    "start_time": "2023-07-08T18:13:08.631Z"
   },
   {
    "duration": 13,
    "start_time": "2023-07-08T18:13:41.342Z"
   },
   {
    "duration": 21,
    "start_time": "2023-07-08T18:13:44.352Z"
   },
   {
    "duration": 12,
    "start_time": "2023-07-08T18:13:45.855Z"
   },
   {
    "duration": 804,
    "start_time": "2023-07-08T18:13:49.782Z"
   },
   {
    "duration": 8,
    "start_time": "2023-07-08T18:14:02.687Z"
   },
   {
    "duration": 18,
    "start_time": "2023-07-08T18:14:06.246Z"
   },
   {
    "duration": 8,
    "start_time": "2023-07-08T18:14:08.367Z"
   },
   {
    "duration": 24,
    "start_time": "2023-07-08T18:14:11.993Z"
   },
   {
    "duration": 944,
    "start_time": "2023-07-08T18:14:18.149Z"
   },
   {
    "duration": 3,
    "start_time": "2023-07-08T18:21:10.857Z"
   },
   {
    "duration": 3,
    "start_time": "2023-07-08T18:21:36.879Z"
   },
   {
    "duration": 5,
    "start_time": "2023-07-08T18:22:11.245Z"
   },
   {
    "duration": 62,
    "start_time": "2023-07-08T18:22:13.633Z"
   },
   {
    "duration": 24,
    "start_time": "2023-07-08T18:22:55.624Z"
   },
   {
    "duration": 8,
    "start_time": "2023-07-08T18:23:28.327Z"
   },
   {
    "duration": 6,
    "start_time": "2023-07-08T18:29:05.183Z"
   },
   {
    "duration": 209,
    "start_time": "2023-07-08T18:29:23.626Z"
   },
   {
    "duration": 9,
    "start_time": "2023-07-08T18:29:29.834Z"
   },
   {
    "duration": 4,
    "start_time": "2023-07-08T18:29:46.990Z"
   },
   {
    "duration": 196,
    "start_time": "2023-07-08T18:29:58.535Z"
   },
   {
    "duration": 11,
    "start_time": "2023-07-08T18:30:59.161Z"
   },
   {
    "duration": 3,
    "start_time": "2023-07-08T18:31:02.946Z"
   },
   {
    "duration": 12,
    "start_time": "2023-07-08T18:31:07.332Z"
   },
   {
    "duration": 3,
    "start_time": "2023-07-08T18:31:09.857Z"
   },
   {
    "duration": 3,
    "start_time": "2023-07-08T18:31:11.549Z"
   },
   {
    "duration": 36,
    "start_time": "2023-07-08T18:31:23.292Z"
   },
   {
    "duration": 4,
    "start_time": "2023-07-08T18:31:26.133Z"
   },
   {
    "duration": 11,
    "start_time": "2023-07-08T18:31:28.728Z"
   },
   {
    "duration": 2,
    "start_time": "2023-07-08T18:31:34.351Z"
   },
   {
    "duration": 2,
    "start_time": "2023-07-08T18:31:35.779Z"
   },
   {
    "duration": 6,
    "start_time": "2023-07-08T18:31:38.050Z"
   },
   {
    "duration": 6,
    "start_time": "2023-07-08T18:31:44.989Z"
   },
   {
    "duration": 4,
    "start_time": "2023-07-08T18:31:49.761Z"
   },
   {
    "duration": 12,
    "start_time": "2023-07-08T18:31:51.422Z"
   },
   {
    "duration": 6,
    "start_time": "2023-07-08T18:31:53.285Z"
   },
   {
    "duration": 4,
    "start_time": "2023-07-08T18:31:54.763Z"
   },
   {
    "duration": 9,
    "start_time": "2023-07-08T18:31:56.494Z"
   },
   {
    "duration": 3,
    "start_time": "2023-07-08T18:32:02.131Z"
   },
   {
    "duration": 3,
    "start_time": "2023-07-08T18:32:04.577Z"
   },
   {
    "duration": 8026,
    "start_time": "2023-07-08T18:32:06.177Z"
   },
   {
    "duration": 11,
    "start_time": "2023-07-08T18:32:14.214Z"
   },
   {
    "duration": 82,
    "start_time": "2023-07-08T18:32:14.657Z"
   },
   {
    "duration": 75,
    "start_time": "2023-07-08T18:32:26.555Z"
   },
   {
    "duration": 65036,
    "start_time": "2023-07-08T18:33:03.652Z"
   },
   {
    "duration": 628364,
    "start_time": "2023-07-08T18:35:40.262Z"
   },
   {
    "duration": 1074058,
    "start_time": "2023-07-08T18:46:08.633Z"
   },
   {
    "duration": 2344,
    "start_time": "2023-07-08T19:05:43.394Z"
   },
   {
    "duration": 1641,
    "start_time": "2023-07-09T16:27:42.998Z"
   },
   {
    "duration": 40,
    "start_time": "2023-07-09T16:27:44.968Z"
   },
   {
    "duration": 3933,
    "start_time": "2023-07-09T16:27:46.890Z"
   },
   {
    "duration": 120,
    "start_time": "2023-07-09T16:27:51.466Z"
   },
   {
    "duration": 3,
    "start_time": "2023-07-09T16:27:57.649Z"
   },
   {
    "duration": 8,
    "start_time": "2023-07-09T16:27:59.447Z"
   },
   {
    "duration": 25,
    "start_time": "2023-07-09T16:28:03.851Z"
   },
   {
    "duration": 26,
    "start_time": "2023-07-09T16:28:57.837Z"
   },
   {
    "duration": 3,
    "start_time": "2023-07-09T16:29:05.338Z"
   },
   {
    "duration": 4,
    "start_time": "2023-07-09T16:29:07.209Z"
   },
   {
    "duration": 921,
    "start_time": "2023-07-09T16:29:08.908Z"
   },
   {
    "duration": 8,
    "start_time": "2023-07-09T16:29:39.993Z"
   },
   {
    "duration": 12,
    "start_time": "2023-07-09T16:30:03.507Z"
   },
   {
    "duration": 9,
    "start_time": "2023-07-09T16:30:06.098Z"
   },
   {
    "duration": 16,
    "start_time": "2023-07-09T16:30:11.352Z"
   },
   {
    "duration": 1510,
    "start_time": "2023-07-09T16:30:57.747Z"
   },
   {
    "duration": 36,
    "start_time": "2023-07-09T16:30:59.259Z"
   },
   {
    "duration": 848,
    "start_time": "2023-07-09T16:30:59.297Z"
   },
   {
    "duration": 421,
    "start_time": "2023-07-09T16:31:00.147Z"
   },
   {
    "duration": 4,
    "start_time": "2023-07-09T16:31:00.571Z"
   },
   {
    "duration": 39,
    "start_time": "2023-07-09T16:31:00.576Z"
   },
   {
    "duration": 31,
    "start_time": "2023-07-09T16:31:00.617Z"
   },
   {
    "duration": 418,
    "start_time": "2023-07-09T16:31:00.650Z"
   },
   {
    "duration": 6,
    "start_time": "2023-07-09T16:31:01.070Z"
   },
   {
    "duration": 25,
    "start_time": "2023-07-09T16:31:01.078Z"
   },
   {
    "duration": 39,
    "start_time": "2023-07-09T16:31:01.106Z"
   },
   {
    "duration": 41,
    "start_time": "2023-07-09T16:31:01.147Z"
   },
   {
    "duration": 68,
    "start_time": "2023-07-09T16:31:01.190Z"
   },
   {
    "duration": 133,
    "start_time": "2023-07-09T16:31:01.262Z"
   },
   {
    "duration": 130,
    "start_time": "2023-07-09T16:31:01.396Z"
   },
   {
    "duration": 340,
    "start_time": "2023-07-09T16:31:01.528Z"
   },
   {
    "duration": 35,
    "start_time": "2023-07-09T16:31:01.870Z"
   },
   {
    "duration": 279,
    "start_time": "2023-07-09T16:31:01.907Z"
   },
   {
    "duration": 8,
    "start_time": "2023-07-09T16:31:02.188Z"
   },
   {
    "duration": 57,
    "start_time": "2023-07-09T16:31:02.198Z"
   },
   {
    "duration": 132,
    "start_time": "2023-07-09T16:31:02.262Z"
   },
   {
    "duration": 9,
    "start_time": "2023-07-09T16:31:02.396Z"
   },
   {
    "duration": 58,
    "start_time": "2023-07-09T16:31:02.407Z"
   },
   {
    "duration": 6,
    "start_time": "2023-07-09T16:31:02.468Z"
   },
   {
    "duration": 6,
    "start_time": "2023-07-09T16:31:02.476Z"
   },
   {
    "duration": 9,
    "start_time": "2023-07-09T16:31:02.484Z"
   },
   {
    "duration": 70,
    "start_time": "2023-07-09T16:31:02.495Z"
   },
   {
    "duration": 12,
    "start_time": "2023-07-09T16:31:02.568Z"
   },
   {
    "duration": 5,
    "start_time": "2023-07-09T16:31:02.582Z"
   },
   {
    "duration": 9,
    "start_time": "2023-07-09T16:31:02.589Z"
   },
   {
    "duration": 6,
    "start_time": "2023-07-09T16:31:02.600Z"
   },
   {
    "duration": 8,
    "start_time": "2023-07-09T16:31:02.655Z"
   },
   {
    "duration": 1008,
    "start_time": "2023-07-09T16:31:02.670Z"
   },
   {
    "duration": 3,
    "start_time": "2023-07-09T16:31:03.680Z"
   },
   {
    "duration": 1044,
    "start_time": "2023-07-09T16:31:03.685Z"
   },
   {
    "duration": 1139,
    "start_time": "2023-07-09T16:31:04.731Z"
   },
   {
    "duration": 1077,
    "start_time": "2023-07-09T16:31:05.872Z"
   },
   {
    "duration": 10,
    "start_time": "2023-07-09T16:31:06.958Z"
   },
   {
    "duration": 12,
    "start_time": "2023-07-09T16:31:06.970Z"
   },
   {
    "duration": 19,
    "start_time": "2023-07-09T16:31:06.984Z"
   },
   {
    "duration": 1308,
    "start_time": "2023-07-09T16:31:07.008Z"
   },
   {
    "duration": 227,
    "start_time": "2023-07-09T16:31:08.317Z"
   },
   {
    "duration": 22,
    "start_time": "2023-07-09T16:31:08.545Z"
   },
   {
    "duration": 3,
    "start_time": "2023-07-09T16:31:08.569Z"
   },
   {
    "duration": 4,
    "start_time": "2023-07-09T16:31:08.573Z"
   },
   {
    "duration": 6,
    "start_time": "2023-07-09T16:31:08.579Z"
   },
   {
    "duration": 7,
    "start_time": "2023-07-09T16:31:08.586Z"
   },
   {
    "duration": 38,
    "start_time": "2023-07-09T16:31:08.595Z"
   },
   {
    "duration": 584,
    "start_time": "2023-07-09T16:31:08.634Z"
   },
   {
    "duration": 21,
    "start_time": "2023-07-09T16:31:09.220Z"
   },
   {
    "duration": 358,
    "start_time": "2023-07-09T16:31:09.243Z"
   },
   {
    "duration": 112,
    "start_time": "2023-07-09T16:31:09.603Z"
   },
   {
    "duration": 376,
    "start_time": "2023-07-09T16:31:09.717Z"
   },
   {
    "duration": 108,
    "start_time": "2023-07-09T16:31:10.095Z"
   },
   {
    "duration": 891,
    "start_time": "2023-07-09T16:31:10.205Z"
   },
   {
    "duration": 460,
    "start_time": "2023-07-09T16:31:11.097Z"
   },
   {
    "duration": 114,
    "start_time": "2023-07-09T16:31:11.567Z"
   },
   {
    "duration": 4,
    "start_time": "2023-07-09T16:31:11.683Z"
   },
   {
    "duration": 3,
    "start_time": "2023-07-09T16:31:11.689Z"
   },
   {
    "duration": 4,
    "start_time": "2023-07-09T16:31:11.693Z"
   },
   {
    "duration": 3,
    "start_time": "2023-07-09T16:31:11.699Z"
   },
   {
    "duration": 4,
    "start_time": "2023-07-09T16:31:11.704Z"
   },
   {
    "duration": 4,
    "start_time": "2023-07-09T16:31:11.709Z"
   },
   {
    "duration": 4,
    "start_time": "2023-07-09T16:31:11.714Z"
   },
   {
    "duration": 5,
    "start_time": "2023-07-09T16:31:11.719Z"
   },
   {
    "duration": 4,
    "start_time": "2023-07-09T16:31:11.765Z"
   },
   {
    "duration": 4,
    "start_time": "2023-07-09T16:31:11.771Z"
   },
   {
    "duration": 8,
    "start_time": "2023-07-09T16:31:11.776Z"
   },
   {
    "duration": 5,
    "start_time": "2023-07-09T16:31:11.786Z"
   },
   {
    "duration": 5,
    "start_time": "2023-07-09T16:31:11.793Z"
   },
   {
    "duration": 7,
    "start_time": "2023-07-09T16:31:11.800Z"
   },
   {
    "duration": 8,
    "start_time": "2023-07-09T16:31:11.808Z"
   },
   {
    "duration": 9,
    "start_time": "2023-07-09T16:31:11.817Z"
   },
   {
    "duration": 30,
    "start_time": "2023-07-09T16:31:11.828Z"
   },
   {
    "duration": 4,
    "start_time": "2023-07-09T16:31:11.873Z"
   },
   {
    "duration": 4,
    "start_time": "2023-07-09T16:31:11.878Z"
   },
   {
    "duration": 3,
    "start_time": "2023-07-09T16:31:11.883Z"
   },
   {
    "duration": 3677,
    "start_time": "2023-07-09T16:31:11.888Z"
   },
   {
    "duration": 8,
    "start_time": "2023-07-09T16:31:15.568Z"
   },
   {
    "duration": 103,
    "start_time": "2023-07-09T16:31:15.658Z"
   },
   {
    "duration": 4604,
    "start_time": "2023-07-09T16:31:15.763Z"
   },
   {
    "duration": 0,
    "start_time": "2023-07-09T16:31:20.369Z"
   },
   {
    "duration": 0,
    "start_time": "2023-07-09T16:31:20.370Z"
   },
   {
    "duration": 0,
    "start_time": "2023-07-09T16:31:20.371Z"
   },
   {
    "duration": 0,
    "start_time": "2023-07-09T16:31:20.372Z"
   },
   {
    "duration": 0,
    "start_time": "2023-07-09T16:31:20.373Z"
   },
   {
    "duration": 0,
    "start_time": "2023-07-09T16:31:20.374Z"
   },
   {
    "duration": 1648,
    "start_time": "2023-07-09T16:31:36.630Z"
   },
   {
    "duration": 37,
    "start_time": "2023-07-09T16:31:38.280Z"
   },
   {
    "duration": 964,
    "start_time": "2023-07-09T16:31:38.319Z"
   },
   {
    "duration": 678,
    "start_time": "2023-07-09T16:31:39.285Z"
   },
   {
    "duration": 6,
    "start_time": "2023-07-09T16:31:39.965Z"
   },
   {
    "duration": 4,
    "start_time": "2023-07-09T16:31:39.972Z"
   },
   {
    "duration": 6,
    "start_time": "2023-07-09T16:31:39.977Z"
   },
   {
    "duration": 690,
    "start_time": "2023-07-09T16:31:39.984Z"
   },
   {
    "duration": 5,
    "start_time": "2023-07-09T16:31:40.676Z"
   },
   {
    "duration": 6,
    "start_time": "2023-07-09T16:31:40.682Z"
   },
   {
    "duration": 8,
    "start_time": "2023-07-09T16:31:40.690Z"
   },
   {
    "duration": 60,
    "start_time": "2023-07-09T16:31:40.699Z"
   },
   {
    "duration": 7,
    "start_time": "2023-07-09T16:31:40.771Z"
   },
   {
    "duration": 5,
    "start_time": "2023-07-09T16:31:40.781Z"
   },
   {
    "duration": 15,
    "start_time": "2023-07-09T16:31:40.787Z"
   },
   {
    "duration": 297,
    "start_time": "2023-07-09T16:31:40.803Z"
   },
   {
    "duration": 37,
    "start_time": "2023-07-09T16:31:41.154Z"
   },
   {
    "duration": 284,
    "start_time": "2023-07-09T16:31:41.193Z"
   },
   {
    "duration": 9,
    "start_time": "2023-07-09T16:31:41.478Z"
   },
   {
    "duration": 2,
    "start_time": "2023-07-09T16:31:41.489Z"
   },
   {
    "duration": 76,
    "start_time": "2023-07-09T16:31:41.492Z"
   },
   {
    "duration": 10,
    "start_time": "2023-07-09T16:31:41.570Z"
   },
   {
    "duration": 7,
    "start_time": "2023-07-09T16:31:41.581Z"
   },
   {
    "duration": 4,
    "start_time": "2023-07-09T16:31:41.589Z"
   },
   {
    "duration": 14,
    "start_time": "2023-07-09T16:31:41.594Z"
   },
   {
    "duration": 8,
    "start_time": "2023-07-09T16:31:41.610Z"
   },
   {
    "duration": 52,
    "start_time": "2023-07-09T16:31:41.620Z"
   },
   {
    "duration": 9,
    "start_time": "2023-07-09T16:31:41.674Z"
   },
   {
    "duration": 5,
    "start_time": "2023-07-09T16:31:41.684Z"
   },
   {
    "duration": 3,
    "start_time": "2023-07-09T16:31:41.691Z"
   },
   {
    "duration": 6,
    "start_time": "2023-07-09T16:31:41.695Z"
   },
   {
    "duration": 8,
    "start_time": "2023-07-09T16:31:41.703Z"
   },
   {
    "duration": 836,
    "start_time": "2023-07-09T16:31:41.713Z"
   },
   {
    "duration": 12,
    "start_time": "2023-07-09T16:31:42.551Z"
   },
   {
    "duration": 1035,
    "start_time": "2023-07-09T16:31:42.565Z"
   },
   {
    "duration": 1145,
    "start_time": "2023-07-09T16:31:43.602Z"
   },
   {
    "duration": 1063,
    "start_time": "2023-07-09T16:31:44.757Z"
   },
   {
    "duration": 7,
    "start_time": "2023-07-09T16:31:45.822Z"
   },
   {
    "duration": 37,
    "start_time": "2023-07-09T16:31:45.831Z"
   },
   {
    "duration": 16,
    "start_time": "2023-07-09T16:31:45.870Z"
   },
   {
    "duration": 1286,
    "start_time": "2023-07-09T16:31:45.891Z"
   },
   {
    "duration": 241,
    "start_time": "2023-07-09T16:31:47.179Z"
   },
   {
    "duration": 10,
    "start_time": "2023-07-09T16:31:47.422Z"
   },
   {
    "duration": 4,
    "start_time": "2023-07-09T16:31:47.434Z"
   },
   {
    "duration": 15,
    "start_time": "2023-07-09T16:31:47.456Z"
   },
   {
    "duration": 5,
    "start_time": "2023-07-09T16:31:47.474Z"
   },
   {
    "duration": 10,
    "start_time": "2023-07-09T16:31:47.481Z"
   },
   {
    "duration": 21,
    "start_time": "2023-07-09T16:31:47.493Z"
   },
   {
    "duration": 609,
    "start_time": "2023-07-09T16:31:47.516Z"
   },
   {
    "duration": 42,
    "start_time": "2023-07-09T16:31:48.127Z"
   },
   {
    "duration": 342,
    "start_time": "2023-07-09T16:31:48.171Z"
   },
   {
    "duration": 108,
    "start_time": "2023-07-09T16:31:48.515Z"
   },
   {
    "duration": 377,
    "start_time": "2023-07-09T16:31:48.625Z"
   },
   {
    "duration": 110,
    "start_time": "2023-07-09T16:31:49.004Z"
   },
   {
    "duration": 881,
    "start_time": "2023-07-09T16:31:49.116Z"
   },
   {
    "duration": 452,
    "start_time": "2023-07-09T16:31:49.999Z"
   },
   {
    "duration": 116,
    "start_time": "2023-07-09T16:31:50.456Z"
   },
   {
    "duration": 4,
    "start_time": "2023-07-09T16:31:50.574Z"
   },
   {
    "duration": 4,
    "start_time": "2023-07-09T16:31:50.580Z"
   },
   {
    "duration": 5,
    "start_time": "2023-07-09T16:31:50.585Z"
   },
   {
    "duration": 5,
    "start_time": "2023-07-09T16:31:50.591Z"
   },
   {
    "duration": 7,
    "start_time": "2023-07-09T16:31:50.598Z"
   },
   {
    "duration": 4,
    "start_time": "2023-07-09T16:31:50.606Z"
   },
   {
    "duration": 3,
    "start_time": "2023-07-09T16:31:50.612Z"
   },
   {
    "duration": 8,
    "start_time": "2023-07-09T16:31:50.617Z"
   },
   {
    "duration": 6,
    "start_time": "2023-07-09T16:31:50.626Z"
   },
   {
    "duration": 33,
    "start_time": "2023-07-09T16:31:50.633Z"
   },
   {
    "duration": 9,
    "start_time": "2023-07-09T16:31:50.668Z"
   },
   {
    "duration": 16,
    "start_time": "2023-07-09T16:31:50.679Z"
   },
   {
    "duration": 5,
    "start_time": "2023-07-09T16:31:50.697Z"
   },
   {
    "duration": 6,
    "start_time": "2023-07-09T16:31:50.704Z"
   },
   {
    "duration": 12,
    "start_time": "2023-07-09T16:31:50.712Z"
   },
   {
    "duration": 8,
    "start_time": "2023-07-09T16:31:50.726Z"
   },
   {
    "duration": 4,
    "start_time": "2023-07-09T16:31:50.736Z"
   },
   {
    "duration": 20,
    "start_time": "2023-07-09T16:31:50.741Z"
   },
   {
    "duration": 6,
    "start_time": "2023-07-09T16:31:50.763Z"
   },
   {
    "duration": 4,
    "start_time": "2023-07-09T16:31:50.771Z"
   },
   {
    "duration": 3880,
    "start_time": "2023-07-09T16:31:50.776Z"
   },
   {
    "duration": 3,
    "start_time": "2023-07-09T16:31:54.658Z"
   },
   {
    "duration": 8,
    "start_time": "2023-07-09T16:31:54.663Z"
   },
   {
    "duration": 5636,
    "start_time": "2023-07-09T16:31:54.673Z"
   },
   {
    "duration": 0,
    "start_time": "2023-07-09T16:32:00.310Z"
   },
   {
    "duration": 0,
    "start_time": "2023-07-09T16:32:00.312Z"
   },
   {
    "duration": 0,
    "start_time": "2023-07-09T16:32:00.313Z"
   },
   {
    "duration": 0,
    "start_time": "2023-07-09T16:32:00.314Z"
   },
   {
    "duration": 0,
    "start_time": "2023-07-09T16:32:00.315Z"
   },
   {
    "duration": 0,
    "start_time": "2023-07-09T16:32:00.317Z"
   },
   {
    "duration": 1506,
    "start_time": "2023-07-09T16:32:19.054Z"
   },
   {
    "duration": 9,
    "start_time": "2023-07-09T16:32:25.844Z"
   },
   {
    "duration": 62252,
    "start_time": "2023-07-09T16:32:51.365Z"
   },
   {
    "duration": 1573,
    "start_time": "2023-07-09T16:34:33.615Z"
   },
   {
    "duration": 35,
    "start_time": "2023-07-09T16:34:35.190Z"
   },
   {
    "duration": 859,
    "start_time": "2023-07-09T16:34:35.227Z"
   },
   {
    "duration": 504,
    "start_time": "2023-07-09T16:34:36.088Z"
   },
   {
    "duration": 3,
    "start_time": "2023-07-09T16:34:36.594Z"
   },
   {
    "duration": 19,
    "start_time": "2023-07-09T16:34:36.599Z"
   },
   {
    "duration": 20,
    "start_time": "2023-07-09T16:34:36.620Z"
   },
   {
    "duration": 497,
    "start_time": "2023-07-09T16:34:36.642Z"
   },
   {
    "duration": 26,
    "start_time": "2023-07-09T16:34:37.140Z"
   },
   {
    "duration": 18,
    "start_time": "2023-07-09T16:34:37.170Z"
   },
   {
    "duration": 8,
    "start_time": "2023-07-09T16:34:37.190Z"
   },
   {
    "duration": 23,
    "start_time": "2023-07-09T16:34:37.199Z"
   },
   {
    "duration": 27,
    "start_time": "2023-07-09T16:34:37.224Z"
   },
   {
    "duration": 18,
    "start_time": "2023-07-09T16:34:37.252Z"
   },
   {
    "duration": 29,
    "start_time": "2023-07-09T16:34:37.272Z"
   },
   {
    "duration": 171,
    "start_time": "2023-07-09T16:34:37.303Z"
   },
   {
    "duration": 33,
    "start_time": "2023-07-09T16:34:37.476Z"
   },
   {
    "duration": 154,
    "start_time": "2023-07-09T16:34:37.511Z"
   },
   {
    "duration": 10,
    "start_time": "2023-07-09T16:34:37.667Z"
   },
   {
    "duration": 12,
    "start_time": "2023-07-09T16:34:37.679Z"
   },
   {
    "duration": 36,
    "start_time": "2023-07-09T16:34:37.692Z"
   },
   {
    "duration": 8,
    "start_time": "2023-07-09T16:34:37.729Z"
   },
   {
    "duration": 12,
    "start_time": "2023-07-09T16:34:37.739Z"
   },
   {
    "duration": 5,
    "start_time": "2023-07-09T16:34:37.755Z"
   },
   {
    "duration": 20,
    "start_time": "2023-07-09T16:34:37.762Z"
   },
   {
    "duration": 18,
    "start_time": "2023-07-09T16:34:37.784Z"
   },
   {
    "duration": 13,
    "start_time": "2023-07-09T16:34:37.803Z"
   },
   {
    "duration": 9,
    "start_time": "2023-07-09T16:34:37.821Z"
   },
   {
    "duration": 5,
    "start_time": "2023-07-09T16:34:37.832Z"
   },
   {
    "duration": 24,
    "start_time": "2023-07-09T16:34:37.839Z"
   },
   {
    "duration": 18,
    "start_time": "2023-07-09T16:34:37.865Z"
   },
   {
    "duration": 36,
    "start_time": "2023-07-09T16:34:37.884Z"
   },
   {
    "duration": 858,
    "start_time": "2023-07-09T16:34:37.922Z"
   },
   {
    "duration": 4,
    "start_time": "2023-07-09T16:34:38.781Z"
   },
   {
    "duration": 1019,
    "start_time": "2023-07-09T16:34:38.787Z"
   },
   {
    "duration": 1134,
    "start_time": "2023-07-09T16:34:39.808Z"
   },
   {
    "duration": 1071,
    "start_time": "2023-07-09T16:34:40.944Z"
   },
   {
    "duration": 7,
    "start_time": "2023-07-09T16:34:42.017Z"
   },
   {
    "duration": 21,
    "start_time": "2023-07-09T16:34:42.026Z"
   },
   {
    "duration": 20,
    "start_time": "2023-07-09T16:34:42.054Z"
   },
   {
    "duration": 1231,
    "start_time": "2023-07-09T16:34:42.076Z"
   },
   {
    "duration": 223,
    "start_time": "2023-07-09T16:34:43.309Z"
   },
   {
    "duration": 7,
    "start_time": "2023-07-09T16:34:43.534Z"
   },
   {
    "duration": 6,
    "start_time": "2023-07-09T16:34:43.561Z"
   },
   {
    "duration": 6,
    "start_time": "2023-07-09T16:34:43.569Z"
   },
   {
    "duration": 6,
    "start_time": "2023-07-09T16:34:43.576Z"
   },
   {
    "duration": 4,
    "start_time": "2023-07-09T16:34:43.583Z"
   },
   {
    "duration": 20,
    "start_time": "2023-07-09T16:34:43.589Z"
   },
   {
    "duration": 609,
    "start_time": "2023-07-09T16:34:43.610Z"
   },
   {
    "duration": 25,
    "start_time": "2023-07-09T16:34:44.220Z"
   },
   {
    "duration": 381,
    "start_time": "2023-07-09T16:34:44.254Z"
   },
   {
    "duration": 123,
    "start_time": "2023-07-09T16:34:44.637Z"
   },
   {
    "duration": 376,
    "start_time": "2023-07-09T16:34:44.761Z"
   },
   {
    "duration": 128,
    "start_time": "2023-07-09T16:34:45.139Z"
   },
   {
    "duration": 897,
    "start_time": "2023-07-09T16:34:45.269Z"
   },
   {
    "duration": 468,
    "start_time": "2023-07-09T16:34:46.168Z"
   },
   {
    "duration": 142,
    "start_time": "2023-07-09T16:34:46.637Z"
   },
   {
    "duration": 4,
    "start_time": "2023-07-09T16:34:46.781Z"
   },
   {
    "duration": 4,
    "start_time": "2023-07-09T16:34:46.787Z"
   },
   {
    "duration": 5,
    "start_time": "2023-07-09T16:34:46.793Z"
   },
   {
    "duration": 4,
    "start_time": "2023-07-09T16:34:46.800Z"
   },
   {
    "duration": 4,
    "start_time": "2023-07-09T16:34:46.806Z"
   },
   {
    "duration": 4,
    "start_time": "2023-07-09T16:34:46.811Z"
   },
   {
    "duration": 4,
    "start_time": "2023-07-09T16:34:46.816Z"
   },
   {
    "duration": 44,
    "start_time": "2023-07-09T16:34:46.822Z"
   },
   {
    "duration": 4,
    "start_time": "2023-07-09T16:34:46.868Z"
   },
   {
    "duration": 5,
    "start_time": "2023-07-09T16:34:46.873Z"
   },
   {
    "duration": 11,
    "start_time": "2023-07-09T16:34:46.879Z"
   },
   {
    "duration": 6,
    "start_time": "2023-07-09T16:34:46.891Z"
   },
   {
    "duration": 6,
    "start_time": "2023-07-09T16:34:46.899Z"
   },
   {
    "duration": 7,
    "start_time": "2023-07-09T16:34:46.907Z"
   },
   {
    "duration": 7,
    "start_time": "2023-07-09T16:34:46.916Z"
   },
   {
    "duration": 41,
    "start_time": "2023-07-09T16:34:46.925Z"
   },
   {
    "duration": 5,
    "start_time": "2023-07-09T16:34:46.968Z"
   },
   {
    "duration": 5,
    "start_time": "2023-07-09T16:34:46.975Z"
   },
   {
    "duration": 4,
    "start_time": "2023-07-09T16:34:46.981Z"
   },
   {
    "duration": 7,
    "start_time": "2023-07-09T16:34:46.986Z"
   },
   {
    "duration": 4467,
    "start_time": "2023-07-09T16:34:46.994Z"
   },
   {
    "duration": 7,
    "start_time": "2023-07-09T16:34:51.463Z"
   },
   {
    "duration": 98,
    "start_time": "2023-07-09T16:34:51.472Z"
   },
   {
    "duration": 372835,
    "start_time": "2023-07-09T16:34:51.572Z"
   },
   {
    "duration": 7,
    "start_time": "2023-07-09T16:41:04.413Z"
   },
   {
    "duration": 872349,
    "start_time": "2023-07-09T16:41:04.422Z"
   },
   {
    "duration": 7,
    "start_time": "2023-07-09T16:55:36.774Z"
   },
   {
    "duration": 936598,
    "start_time": "2023-07-09T16:55:36.782Z"
   },
   {
    "duration": 2391,
    "start_time": "2023-07-09T17:11:13.382Z"
   },
   {
    "duration": 15,
    "start_time": "2023-07-09T17:11:15.854Z"
   },
   {
    "duration": 2658,
    "start_time": "2023-07-10T08:34:48.288Z"
   },
   {
    "duration": 76,
    "start_time": "2023-07-10T08:34:50.949Z"
   },
   {
    "duration": 2321,
    "start_time": "2023-07-10T08:34:51.027Z"
   },
   {
    "duration": 360,
    "start_time": "2023-07-10T08:34:53.350Z"
   },
   {
    "duration": 4,
    "start_time": "2023-07-10T08:34:53.711Z"
   },
   {
    "duration": 44,
    "start_time": "2023-07-10T08:34:53.717Z"
   },
   {
    "duration": 25,
    "start_time": "2023-07-10T08:34:53.762Z"
   },
   {
    "duration": 397,
    "start_time": "2023-07-10T08:34:53.789Z"
   },
   {
    "duration": 5,
    "start_time": "2023-07-10T08:34:54.188Z"
   },
   {
    "duration": 4,
    "start_time": "2023-07-10T08:34:54.195Z"
   },
   {
    "duration": 7,
    "start_time": "2023-07-10T08:34:54.200Z"
   },
   {
    "duration": 13,
    "start_time": "2023-07-10T08:34:54.208Z"
   },
   {
    "duration": 14,
    "start_time": "2023-07-10T08:34:54.222Z"
   },
   {
    "duration": 15,
    "start_time": "2023-07-10T08:34:54.237Z"
   },
   {
    "duration": 22,
    "start_time": "2023-07-10T08:34:54.254Z"
   },
   {
    "duration": 133,
    "start_time": "2023-07-10T08:34:54.278Z"
   },
   {
    "duration": 24,
    "start_time": "2023-07-10T08:34:54.413Z"
   },
   {
    "duration": 131,
    "start_time": "2023-07-10T08:34:54.439Z"
   },
   {
    "duration": 10,
    "start_time": "2023-07-10T08:34:54.572Z"
   },
   {
    "duration": 14,
    "start_time": "2023-07-10T08:34:54.584Z"
   },
   {
    "duration": 52,
    "start_time": "2023-07-10T08:34:54.600Z"
   },
   {
    "duration": 16,
    "start_time": "2023-07-10T08:34:54.654Z"
   },
   {
    "duration": 26,
    "start_time": "2023-07-10T08:34:54.672Z"
   },
   {
    "duration": 32,
    "start_time": "2023-07-10T08:34:54.700Z"
   },
   {
    "duration": 24,
    "start_time": "2023-07-10T08:34:54.734Z"
   },
   {
    "duration": 9,
    "start_time": "2023-07-10T08:34:54.759Z"
   },
   {
    "duration": 14,
    "start_time": "2023-07-10T08:34:54.770Z"
   },
   {
    "duration": 9,
    "start_time": "2023-07-10T08:34:54.787Z"
   },
   {
    "duration": 4,
    "start_time": "2023-07-10T08:34:54.797Z"
   },
   {
    "duration": 11,
    "start_time": "2023-07-10T08:34:54.803Z"
   },
   {
    "duration": 23,
    "start_time": "2023-07-10T08:34:54.816Z"
   },
   {
    "duration": 26,
    "start_time": "2023-07-10T08:34:54.841Z"
   },
   {
    "duration": 726,
    "start_time": "2023-07-10T08:34:54.869Z"
   },
   {
    "duration": 4,
    "start_time": "2023-07-10T08:34:55.596Z"
   },
   {
    "duration": 899,
    "start_time": "2023-07-10T08:34:55.601Z"
   },
   {
    "duration": 975,
    "start_time": "2023-07-10T08:34:56.501Z"
   },
   {
    "duration": 868,
    "start_time": "2023-07-10T08:34:57.478Z"
   },
   {
    "duration": 5,
    "start_time": "2023-07-10T08:34:58.348Z"
   },
   {
    "duration": 26,
    "start_time": "2023-07-10T08:34:58.355Z"
   },
   {
    "duration": 134,
    "start_time": "2023-07-10T08:34:58.383Z"
   },
   {
    "duration": 926,
    "start_time": "2023-07-10T08:34:58.518Z"
   },
   {
    "duration": 203,
    "start_time": "2023-07-10T08:34:59.446Z"
   },
   {
    "duration": 6,
    "start_time": "2023-07-10T08:34:59.650Z"
   },
   {
    "duration": 17,
    "start_time": "2023-07-10T08:34:59.658Z"
   },
   {
    "duration": 6,
    "start_time": "2023-07-10T08:34:59.677Z"
   },
   {
    "duration": 8,
    "start_time": "2023-07-10T08:34:59.685Z"
   },
   {
    "duration": 6,
    "start_time": "2023-07-10T08:34:59.694Z"
   },
   {
    "duration": 18,
    "start_time": "2023-07-10T08:34:59.701Z"
   },
   {
    "duration": 593,
    "start_time": "2023-07-10T08:34:59.720Z"
   },
   {
    "duration": 22,
    "start_time": "2023-07-10T08:35:00.315Z"
   },
   {
    "duration": 250,
    "start_time": "2023-07-10T08:35:00.339Z"
   },
   {
    "duration": 92,
    "start_time": "2023-07-10T08:35:00.590Z"
   },
   {
    "duration": 315,
    "start_time": "2023-07-10T08:35:00.684Z"
   },
   {
    "duration": 109,
    "start_time": "2023-07-10T08:35:01.001Z"
   },
   {
    "duration": 824,
    "start_time": "2023-07-10T08:35:01.112Z"
   },
   {
    "duration": 394,
    "start_time": "2023-07-10T08:35:01.938Z"
   },
   {
    "duration": 104,
    "start_time": "2023-07-10T08:35:02.333Z"
   },
   {
    "duration": 3,
    "start_time": "2023-07-10T08:35:02.438Z"
   },
   {
    "duration": 45,
    "start_time": "2023-07-10T08:35:02.443Z"
   },
   {
    "duration": 58,
    "start_time": "2023-07-10T08:35:02.490Z"
   },
   {
    "duration": 14,
    "start_time": "2023-07-10T08:35:02.549Z"
   },
   {
    "duration": 20,
    "start_time": "2023-07-10T08:35:02.564Z"
   },
   {
    "duration": 24,
    "start_time": "2023-07-10T08:35:02.585Z"
   },
   {
    "duration": 22,
    "start_time": "2023-07-10T08:35:02.611Z"
   },
   {
    "duration": 25,
    "start_time": "2023-07-10T08:35:02.634Z"
   },
   {
    "duration": 24,
    "start_time": "2023-07-10T08:35:02.661Z"
   },
   {
    "duration": 7,
    "start_time": "2023-07-10T08:35:02.687Z"
   },
   {
    "duration": 13,
    "start_time": "2023-07-10T08:35:02.696Z"
   },
   {
    "duration": 23,
    "start_time": "2023-07-10T08:35:02.711Z"
   },
   {
    "duration": 20,
    "start_time": "2023-07-10T08:35:02.736Z"
   },
   {
    "duration": 142,
    "start_time": "2023-07-10T08:35:02.757Z"
   },
   {
    "duration": 6,
    "start_time": "2023-07-10T08:36:04.927Z"
   },
   {
    "duration": 5,
    "start_time": "2023-07-10T08:36:23.634Z"
   },
   {
    "duration": 7,
    "start_time": "2023-07-10T08:37:32.461Z"
   },
   {
    "duration": 1978,
    "start_time": "2023-07-10T10:29:06.001Z"
   },
   {
    "duration": 70,
    "start_time": "2023-07-10T10:29:07.982Z"
   },
   {
    "duration": 3684,
    "start_time": "2023-07-10T10:29:08.053Z"
   },
   {
    "duration": 550,
    "start_time": "2023-07-10T10:29:11.741Z"
   },
   {
    "duration": 6,
    "start_time": "2023-07-10T10:29:12.297Z"
   },
   {
    "duration": 7,
    "start_time": "2023-07-10T10:29:12.305Z"
   },
   {
    "duration": 6,
    "start_time": "2023-07-10T10:29:12.315Z"
   },
   {
    "duration": 583,
    "start_time": "2023-07-10T10:29:12.323Z"
   },
   {
    "duration": 12,
    "start_time": "2023-07-10T10:29:12.908Z"
   },
   {
    "duration": 18,
    "start_time": "2023-07-10T10:29:12.922Z"
   },
   {
    "duration": 30,
    "start_time": "2023-07-10T10:29:12.942Z"
   },
   {
    "duration": 23,
    "start_time": "2023-07-10T10:29:12.974Z"
   },
   {
    "duration": 34,
    "start_time": "2023-07-10T10:29:13.000Z"
   },
   {
    "duration": 20,
    "start_time": "2023-07-10T10:29:13.037Z"
   },
   {
    "duration": 51,
    "start_time": "2023-07-10T10:29:13.060Z"
   },
   {
    "duration": 199,
    "start_time": "2023-07-10T10:29:13.114Z"
   },
   {
    "duration": 34,
    "start_time": "2023-07-10T10:29:13.315Z"
   },
   {
    "duration": 148,
    "start_time": "2023-07-10T10:29:13.351Z"
   },
   {
    "duration": 11,
    "start_time": "2023-07-10T10:29:13.500Z"
   },
   {
    "duration": 3,
    "start_time": "2023-07-10T10:29:13.513Z"
   },
   {
    "duration": 43,
    "start_time": "2023-07-10T10:29:13.518Z"
   },
   {
    "duration": 10,
    "start_time": "2023-07-10T10:29:13.570Z"
   },
   {
    "duration": 11,
    "start_time": "2023-07-10T10:29:13.586Z"
   },
   {
    "duration": 6,
    "start_time": "2023-07-10T10:29:13.598Z"
   },
   {
    "duration": 11,
    "start_time": "2023-07-10T10:29:13.607Z"
   },
   {
    "duration": 10,
    "start_time": "2023-07-10T10:29:13.620Z"
   },
   {
    "duration": 51,
    "start_time": "2023-07-10T10:29:13.631Z"
   },
   {
    "duration": 12,
    "start_time": "2023-07-10T10:29:13.687Z"
   },
   {
    "duration": 5,
    "start_time": "2023-07-10T10:29:13.701Z"
   },
   {
    "duration": 11,
    "start_time": "2023-07-10T10:29:13.707Z"
   },
   {
    "duration": 12,
    "start_time": "2023-07-10T10:29:13.720Z"
   },
   {
    "duration": 43,
    "start_time": "2023-07-10T10:29:13.734Z"
   },
   {
    "duration": 1100,
    "start_time": "2023-07-10T10:29:13.779Z"
   },
   {
    "duration": 5,
    "start_time": "2023-07-10T10:29:14.881Z"
   },
   {
    "duration": 1135,
    "start_time": "2023-07-10T10:29:14.888Z"
   },
   {
    "duration": 1272,
    "start_time": "2023-07-10T10:29:16.026Z"
   },
   {
    "duration": 1219,
    "start_time": "2023-07-10T10:29:17.301Z"
   },
   {
    "duration": 7,
    "start_time": "2023-07-10T10:29:18.522Z"
   },
   {
    "duration": 28,
    "start_time": "2023-07-10T10:29:18.531Z"
   },
   {
    "duration": 227,
    "start_time": "2023-07-10T10:29:18.561Z"
   },
   {
    "duration": 1222,
    "start_time": "2023-07-10T10:29:18.790Z"
   },
   {
    "duration": 298,
    "start_time": "2023-07-10T10:29:20.014Z"
   },
   {
    "duration": 9,
    "start_time": "2023-07-10T10:29:20.314Z"
   },
   {
    "duration": 30,
    "start_time": "2023-07-10T10:29:20.325Z"
   },
   {
    "duration": 23,
    "start_time": "2023-07-10T10:29:20.358Z"
   },
   {
    "duration": 13,
    "start_time": "2023-07-10T10:29:20.394Z"
   },
   {
    "duration": 4,
    "start_time": "2023-07-10T10:29:20.409Z"
   },
   {
    "duration": 31,
    "start_time": "2023-07-10T10:29:20.416Z"
   },
   {
    "duration": 801,
    "start_time": "2023-07-10T10:29:20.449Z"
   },
   {
    "duration": 42,
    "start_time": "2023-07-10T10:29:21.252Z"
   },
   {
    "duration": 284,
    "start_time": "2023-07-10T10:29:21.297Z"
   },
   {
    "duration": 128,
    "start_time": "2023-07-10T10:29:21.587Z"
   },
   {
    "duration": 414,
    "start_time": "2023-07-10T10:29:21.719Z"
   },
   {
    "duration": 132,
    "start_time": "2023-07-10T10:29:22.136Z"
   },
   {
    "duration": 1093,
    "start_time": "2023-07-10T10:29:22.270Z"
   },
   {
    "duration": 650,
    "start_time": "2023-07-10T10:29:23.370Z"
   },
   {
    "duration": 172,
    "start_time": "2023-07-10T10:29:24.022Z"
   },
   {
    "duration": 9,
    "start_time": "2023-07-10T10:29:24.196Z"
   },
   {
    "duration": 27,
    "start_time": "2023-07-10T10:29:24.207Z"
   },
   {
    "duration": 56,
    "start_time": "2023-07-10T10:29:24.238Z"
   },
   {
    "duration": 11,
    "start_time": "2023-07-10T10:29:24.298Z"
   },
   {
    "duration": 17,
    "start_time": "2023-07-10T10:29:24.311Z"
   },
   {
    "duration": 24,
    "start_time": "2023-07-10T10:29:24.331Z"
   },
   {
    "duration": 36,
    "start_time": "2023-07-10T10:29:24.358Z"
   },
   {
    "duration": 11,
    "start_time": "2023-07-10T10:29:24.397Z"
   },
   {
    "duration": 17,
    "start_time": "2023-07-10T10:29:24.410Z"
   },
   {
    "duration": 9,
    "start_time": "2023-07-10T10:29:24.429Z"
   },
   {
    "duration": 35,
    "start_time": "2023-07-10T10:29:24.440Z"
   },
   {
    "duration": 21,
    "start_time": "2023-07-10T10:29:24.480Z"
   },
   {
    "duration": 24,
    "start_time": "2023-07-10T10:29:24.503Z"
   },
   {
    "duration": 20,
    "start_time": "2023-07-10T10:29:24.529Z"
   },
   {
    "duration": 10,
    "start_time": "2023-07-10T10:29:24.551Z"
   },
   {
    "duration": 18,
    "start_time": "2023-07-10T10:29:24.563Z"
   },
   {
    "duration": 26,
    "start_time": "2023-07-10T10:29:24.590Z"
   },
   {
    "duration": 6,
    "start_time": "2023-07-10T10:29:24.619Z"
   },
   {
    "duration": 9,
    "start_time": "2023-07-10T10:29:24.628Z"
   },
   {
    "duration": 9,
    "start_time": "2023-07-10T10:29:24.639Z"
   },
   {
    "duration": 23,
    "start_time": "2023-07-10T10:29:24.651Z"
   },
   {
    "duration": 9692,
    "start_time": "2023-07-10T10:29:24.676Z"
   },
   {
    "duration": 5,
    "start_time": "2023-07-10T10:29:34.371Z"
   },
   {
    "duration": 11,
    "start_time": "2023-07-10T10:29:34.378Z"
   },
   {
    "duration": 245219,
    "start_time": "2023-07-10T10:29:34.408Z"
   },
   {
    "duration": 0,
    "start_time": "2023-07-10T10:33:39.630Z"
   },
   {
    "duration": 0,
    "start_time": "2023-07-10T10:33:39.631Z"
   },
   {
    "duration": 0,
    "start_time": "2023-07-10T10:33:39.632Z"
   },
   {
    "duration": 0,
    "start_time": "2023-07-10T10:33:39.634Z"
   },
   {
    "duration": 0,
    "start_time": "2023-07-10T10:33:39.635Z"
   },
   {
    "duration": 0,
    "start_time": "2023-07-10T10:33:39.636Z"
   },
   {
    "duration": 0,
    "start_time": "2023-07-10T10:33:39.637Z"
   },
   {
    "duration": 23,
    "start_time": "2023-07-10T10:33:42.165Z"
   },
   {
    "duration": 8,
    "start_time": "2023-07-10T10:34:01.515Z"
   },
   {
    "duration": 198,
    "start_time": "2023-07-10T10:35:28.614Z"
   },
   {
    "duration": 17,
    "start_time": "2023-07-10T10:35:36.623Z"
   },
   {
    "duration": 5,
    "start_time": "2023-07-10T10:39:57.856Z"
   },
   {
    "duration": 3,
    "start_time": "2023-07-10T10:40:43.624Z"
   },
   {
    "duration": 75,
    "start_time": "2023-07-10T10:41:05.433Z"
   },
   {
    "duration": 1756,
    "start_time": "2023-07-10T10:41:24.468Z"
   },
   {
    "duration": 6,
    "start_time": "2023-07-10T10:42:16.293Z"
   },
   {
    "duration": 4,
    "start_time": "2023-07-10T10:42:48.065Z"
   },
   {
    "duration": 122,
    "start_time": "2023-07-10T10:42:58.102Z"
   },
   {
    "duration": 21,
    "start_time": "2023-07-10T10:43:07.598Z"
   },
   {
    "duration": 628,
    "start_time": "2023-07-10T10:43:09.535Z"
   },
   {
    "duration": 49,
    "start_time": "2023-07-10T10:43:59.574Z"
   },
   {
    "duration": 5,
    "start_time": "2023-07-10T10:45:33.544Z"
   },
   {
    "duration": 580,
    "start_time": "2023-07-10T10:45:35.050Z"
   },
   {
    "duration": 38,
    "start_time": "2023-07-10T10:45:52.154Z"
   },
   {
    "duration": 3,
    "start_time": "2023-07-10T10:46:38.205Z"
   },
   {
    "duration": 33,
    "start_time": "2023-07-10T10:47:21.317Z"
   },
   {
    "duration": 4,
    "start_time": "2023-07-10T10:48:13.118Z"
   },
   {
    "duration": 43,
    "start_time": "2023-07-10T10:48:43.968Z"
   },
   {
    "duration": 4,
    "start_time": "2023-07-10T10:50:15.430Z"
   },
   {
    "duration": 3,
    "start_time": "2023-07-10T10:50:17.697Z"
   },
   {
    "duration": 113,
    "start_time": "2023-07-10T10:50:19.482Z"
   },
   {
    "duration": 16,
    "start_time": "2023-07-10T10:50:21.758Z"
   },
   {
    "duration": 15,
    "start_time": "2023-07-10T10:50:24.743Z"
   },
   {
    "duration": 407,
    "start_time": "2023-07-10T10:50:36.837Z"
   },
   {
    "duration": 17,
    "start_time": "2023-07-10T10:50:40.798Z"
   },
   {
    "duration": 606,
    "start_time": "2023-07-10T10:50:43.082Z"
   },
   {
    "duration": 402,
    "start_time": "2023-07-10T10:50:51.201Z"
   },
   {
    "duration": 102,
    "start_time": "2023-07-10T10:50:53.597Z"
   },
   {
    "duration": 2,
    "start_time": "2023-07-10T10:51:05.433Z"
   },
   {
    "duration": 131,
    "start_time": "2023-07-10T10:51:07.115Z"
   },
   {
    "duration": 171,
    "start_time": "2023-07-10T10:51:26.142Z"
   },
   {
    "duration": 44,
    "start_time": "2023-07-10T11:09:27.240Z"
   },
   {
    "duration": 36,
    "start_time": "2023-07-10T11:09:42.794Z"
   },
   {
    "duration": 28,
    "start_time": "2023-07-10T11:09:52.520Z"
   },
   {
    "duration": 5,
    "start_time": "2023-07-10T11:10:34.278Z"
   },
   {
    "duration": 16,
    "start_time": "2023-07-10T11:10:37.744Z"
   },
   {
    "duration": 10,
    "start_time": "2023-07-10T11:10:58.736Z"
   },
   {
    "duration": 3,
    "start_time": "2023-07-10T11:28:41.027Z"
   },
   {
    "duration": 1673,
    "start_time": "2023-07-10T11:29:09.100Z"
   },
   {
    "duration": 33,
    "start_time": "2023-07-10T11:29:10.775Z"
   },
   {
    "duration": 788,
    "start_time": "2023-07-10T11:29:10.811Z"
   },
   {
    "duration": 467,
    "start_time": "2023-07-10T11:29:11.603Z"
   },
   {
    "duration": 5,
    "start_time": "2023-07-10T11:29:12.072Z"
   },
   {
    "duration": 5,
    "start_time": "2023-07-10T11:29:12.080Z"
   },
   {
    "duration": 7,
    "start_time": "2023-07-10T11:29:12.087Z"
   },
   {
    "duration": 471,
    "start_time": "2023-07-10T11:29:12.096Z"
   },
   {
    "duration": 6,
    "start_time": "2023-07-10T11:29:12.569Z"
   },
   {
    "duration": 4,
    "start_time": "2023-07-10T11:29:12.579Z"
   },
   {
    "duration": 6,
    "start_time": "2023-07-10T11:29:12.585Z"
   },
   {
    "duration": 7,
    "start_time": "2023-07-10T11:29:12.594Z"
   },
   {
    "duration": 8,
    "start_time": "2023-07-10T11:29:12.603Z"
   },
   {
    "duration": 9,
    "start_time": "2023-07-10T11:29:12.613Z"
   },
   {
    "duration": 6,
    "start_time": "2023-07-10T11:29:12.668Z"
   },
   {
    "duration": 26,
    "start_time": "2023-07-10T11:29:12.676Z"
   },
   {
    "duration": 74,
    "start_time": "2023-07-10T11:29:12.705Z"
   },
   {
    "duration": 38,
    "start_time": "2023-07-10T11:29:12.781Z"
   },
   {
    "duration": 64,
    "start_time": "2023-07-10T11:29:12.821Z"
   },
   {
    "duration": 169,
    "start_time": "2023-07-10T11:29:12.887Z"
   },
   {
    "duration": 38,
    "start_time": "2023-07-10T11:29:13.058Z"
   },
   {
    "duration": 132,
    "start_time": "2023-07-10T11:29:13.098Z"
   },
   {
    "duration": 22,
    "start_time": "2023-07-10T11:29:13.233Z"
   },
   {
    "duration": 9,
    "start_time": "2023-07-10T11:29:13.258Z"
   },
   {
    "duration": 31,
    "start_time": "2023-07-10T11:29:13.271Z"
   },
   {
    "duration": 10,
    "start_time": "2023-07-10T11:29:13.305Z"
   },
   {
    "duration": 8,
    "start_time": "2023-07-10T11:29:13.318Z"
   },
   {
    "duration": 35,
    "start_time": "2023-07-10T11:29:13.332Z"
   },
   {
    "duration": 10,
    "start_time": "2023-07-10T11:29:13.369Z"
   },
   {
    "duration": 14,
    "start_time": "2023-07-10T11:29:13.382Z"
   },
   {
    "duration": 13,
    "start_time": "2023-07-10T11:29:13.398Z"
   },
   {
    "duration": 10,
    "start_time": "2023-07-10T11:29:13.413Z"
   },
   {
    "duration": 43,
    "start_time": "2023-07-10T11:29:13.425Z"
   },
   {
    "duration": 6,
    "start_time": "2023-07-10T11:29:13.470Z"
   },
   {
    "duration": 8,
    "start_time": "2023-07-10T11:29:13.478Z"
   },
   {
    "duration": 13,
    "start_time": "2023-07-10T11:29:13.488Z"
   },
   {
    "duration": 1143,
    "start_time": "2023-07-10T11:29:13.503Z"
   },
   {
    "duration": 4,
    "start_time": "2023-07-10T11:29:14.648Z"
   },
   {
    "duration": 1288,
    "start_time": "2023-07-10T11:29:14.654Z"
   },
   {
    "duration": 1282,
    "start_time": "2023-07-10T11:29:15.945Z"
   },
   {
    "duration": 1113,
    "start_time": "2023-07-10T11:29:17.229Z"
   },
   {
    "duration": 22,
    "start_time": "2023-07-10T11:29:18.345Z"
   },
   {
    "duration": 23,
    "start_time": "2023-07-10T11:29:18.370Z"
   },
   {
    "duration": 25,
    "start_time": "2023-07-10T11:29:18.396Z"
   },
   {
    "duration": 1366,
    "start_time": "2023-07-10T11:29:18.423Z"
   },
   {
    "duration": 233,
    "start_time": "2023-07-10T11:29:19.791Z"
   },
   {
    "duration": 9,
    "start_time": "2023-07-10T11:29:20.026Z"
   },
   {
    "duration": 19,
    "start_time": "2023-07-10T11:29:20.037Z"
   },
   {
    "duration": 19,
    "start_time": "2023-07-10T11:29:20.058Z"
   },
   {
    "duration": 28,
    "start_time": "2023-07-10T11:29:20.080Z"
   },
   {
    "duration": 49,
    "start_time": "2023-07-10T11:29:20.110Z"
   },
   {
    "duration": 34,
    "start_time": "2023-07-10T11:29:20.161Z"
   },
   {
    "duration": 578,
    "start_time": "2023-07-10T11:29:20.197Z"
   },
   {
    "duration": 36,
    "start_time": "2023-07-10T11:29:20.777Z"
   },
   {
    "duration": 409,
    "start_time": "2023-07-10T11:29:20.815Z"
   },
   {
    "duration": 114,
    "start_time": "2023-07-10T11:29:21.226Z"
   },
   {
    "duration": 428,
    "start_time": "2023-07-10T11:29:21.342Z"
   },
   {
    "duration": 127,
    "start_time": "2023-07-10T11:29:21.773Z"
   },
   {
    "duration": 991,
    "start_time": "2023-07-10T11:29:21.902Z"
   },
   {
    "duration": 501,
    "start_time": "2023-07-10T11:29:22.896Z"
   },
   {
    "duration": 137,
    "start_time": "2023-07-10T11:29:23.399Z"
   },
   {
    "duration": 5,
    "start_time": "2023-07-10T11:29:23.538Z"
   },
   {
    "duration": 4,
    "start_time": "2023-07-10T11:29:23.545Z"
   },
   {
    "duration": 5,
    "start_time": "2023-07-10T11:29:23.568Z"
   },
   {
    "duration": 5,
    "start_time": "2023-07-10T11:29:23.575Z"
   },
   {
    "duration": 10,
    "start_time": "2023-07-10T11:29:23.582Z"
   },
   {
    "duration": 9,
    "start_time": "2023-07-10T11:29:23.594Z"
   },
   {
    "duration": 16,
    "start_time": "2023-07-10T11:29:23.605Z"
   },
   {
    "duration": 17,
    "start_time": "2023-07-10T11:29:23.623Z"
   },
   {
    "duration": 39,
    "start_time": "2023-07-10T11:29:23.642Z"
   },
   {
    "duration": 19,
    "start_time": "2023-07-10T11:29:23.684Z"
   },
   {
    "duration": 141,
    "start_time": "2023-07-10T11:29:23.705Z"
   },
   {
    "duration": 21,
    "start_time": "2023-07-10T11:29:23.849Z"
   },
   {
    "duration": 12,
    "start_time": "2023-07-10T11:29:23.873Z"
   },
   {
    "duration": 18,
    "start_time": "2023-07-10T11:29:23.891Z"
   },
   {
    "duration": 11,
    "start_time": "2023-07-10T11:29:23.914Z"
   },
   {
    "duration": 19,
    "start_time": "2023-07-10T11:29:23.927Z"
   },
   {
    "duration": 24,
    "start_time": "2023-07-10T11:29:23.948Z"
   },
   {
    "duration": 7,
    "start_time": "2023-07-10T11:29:23.975Z"
   },
   {
    "duration": 5,
    "start_time": "2023-07-10T11:29:23.985Z"
   },
   {
    "duration": 7,
    "start_time": "2023-07-10T11:29:23.992Z"
   },
   {
    "duration": 10,
    "start_time": "2023-07-10T11:29:24.008Z"
   },
   {
    "duration": 13,
    "start_time": "2023-07-10T11:29:24.020Z"
   },
   {
    "duration": 34,
    "start_time": "2023-07-10T11:29:24.036Z"
   },
   {
    "duration": 23,
    "start_time": "2023-07-10T11:29:24.072Z"
   },
   {
    "duration": 17,
    "start_time": "2023-07-10T11:29:24.097Z"
   },
   {
    "duration": 18,
    "start_time": "2023-07-10T11:29:24.117Z"
   },
   {
    "duration": 3430,
    "start_time": "2023-07-10T11:29:24.137Z"
   },
   {
    "duration": 4,
    "start_time": "2023-07-10T11:29:27.569Z"
   },
   {
    "duration": 7,
    "start_time": "2023-07-10T11:29:27.576Z"
   },
   {
    "duration": 24983,
    "start_time": "2023-07-10T11:29:27.585Z"
   },
   {
    "duration": 0,
    "start_time": "2023-07-10T11:29:52.571Z"
   },
   {
    "duration": 0,
    "start_time": "2023-07-10T11:29:52.573Z"
   },
   {
    "duration": 0,
    "start_time": "2023-07-10T11:29:52.574Z"
   },
   {
    "duration": 0,
    "start_time": "2023-07-10T11:29:52.576Z"
   },
   {
    "duration": 0,
    "start_time": "2023-07-10T11:29:52.577Z"
   },
   {
    "duration": 0,
    "start_time": "2023-07-10T11:29:52.579Z"
   },
   {
    "duration": 21,
    "start_time": "2023-07-10T11:29:54.936Z"
   },
   {
    "duration": 7,
    "start_time": "2023-07-10T11:33:01.017Z"
   },
   {
    "duration": 114,
    "start_time": "2023-07-10T11:34:24.056Z"
   },
   {
    "duration": 99,
    "start_time": "2023-07-10T11:34:50.454Z"
   },
   {
    "duration": 2207,
    "start_time": "2023-07-10T11:35:16.698Z"
   },
   {
    "duration": 81,
    "start_time": "2023-07-10T11:35:18.907Z"
   },
   {
    "duration": 1117,
    "start_time": "2023-07-10T11:35:18.991Z"
   },
   {
    "duration": 566,
    "start_time": "2023-07-10T11:35:20.112Z"
   },
   {
    "duration": 5,
    "start_time": "2023-07-10T11:35:20.682Z"
   },
   {
    "duration": 30,
    "start_time": "2023-07-10T11:35:20.690Z"
   },
   {
    "duration": 8,
    "start_time": "2023-07-10T11:35:20.723Z"
   },
   {
    "duration": 628,
    "start_time": "2023-07-10T11:35:20.734Z"
   },
   {
    "duration": 9,
    "start_time": "2023-07-10T11:35:21.364Z"
   },
   {
    "duration": 4,
    "start_time": "2023-07-10T11:35:21.378Z"
   },
   {
    "duration": 9,
    "start_time": "2023-07-10T11:35:21.384Z"
   },
   {
    "duration": 7,
    "start_time": "2023-07-10T11:35:21.396Z"
   },
   {
    "duration": 16,
    "start_time": "2023-07-10T11:35:21.406Z"
   },
   {
    "duration": 50,
    "start_time": "2023-07-10T11:35:21.424Z"
   },
   {
    "duration": 21,
    "start_time": "2023-07-10T11:35:21.476Z"
   },
   {
    "duration": 37,
    "start_time": "2023-07-10T11:35:21.500Z"
   },
   {
    "duration": 68,
    "start_time": "2023-07-10T11:35:21.540Z"
   },
   {
    "duration": 60,
    "start_time": "2023-07-10T11:35:21.610Z"
   },
   {
    "duration": 48,
    "start_time": "2023-07-10T11:35:21.673Z"
   },
   {
    "duration": 208,
    "start_time": "2023-07-10T11:35:21.724Z"
   },
   {
    "duration": 54,
    "start_time": "2023-07-10T11:35:21.935Z"
   },
   {
    "duration": 165,
    "start_time": "2023-07-10T11:35:21.991Z"
   },
   {
    "duration": 15,
    "start_time": "2023-07-10T11:35:22.158Z"
   },
   {
    "duration": 4,
    "start_time": "2023-07-10T11:35:22.175Z"
   },
   {
    "duration": 46,
    "start_time": "2023-07-10T11:35:22.182Z"
   },
   {
    "duration": 12,
    "start_time": "2023-07-10T11:35:22.230Z"
   },
   {
    "duration": 35,
    "start_time": "2023-07-10T11:35:22.244Z"
   },
   {
    "duration": 9,
    "start_time": "2023-07-10T11:35:22.285Z"
   },
   {
    "duration": 18,
    "start_time": "2023-07-10T11:35:22.296Z"
   },
   {
    "duration": 14,
    "start_time": "2023-07-10T11:35:22.317Z"
   },
   {
    "duration": 44,
    "start_time": "2023-07-10T11:35:22.333Z"
   },
   {
    "duration": 19,
    "start_time": "2023-07-10T11:35:22.380Z"
   },
   {
    "duration": 9,
    "start_time": "2023-07-10T11:35:22.401Z"
   },
   {
    "duration": 7,
    "start_time": "2023-07-10T11:35:22.412Z"
   },
   {
    "duration": 8,
    "start_time": "2023-07-10T11:35:22.421Z"
   },
   {
    "duration": 20,
    "start_time": "2023-07-10T11:35:22.432Z"
   },
   {
    "duration": 1477,
    "start_time": "2023-07-10T11:35:22.466Z"
   },
   {
    "duration": 5,
    "start_time": "2023-07-10T11:35:23.947Z"
   },
   {
    "duration": 1232,
    "start_time": "2023-07-10T11:35:23.954Z"
   },
   {
    "duration": 1995,
    "start_time": "2023-07-10T11:35:25.189Z"
   },
   {
    "duration": 1554,
    "start_time": "2023-07-10T11:35:27.186Z"
   },
   {
    "duration": 12,
    "start_time": "2023-07-10T11:35:28.743Z"
   },
   {
    "duration": 15,
    "start_time": "2023-07-10T11:35:28.768Z"
   },
   {
    "duration": 55,
    "start_time": "2023-07-10T11:35:28.786Z"
   },
   {
    "duration": 2211,
    "start_time": "2023-07-10T11:35:28.844Z"
   },
   {
    "duration": 362,
    "start_time": "2023-07-10T11:35:31.058Z"
   },
   {
    "duration": 12,
    "start_time": "2023-07-10T11:35:31.423Z"
   },
   {
    "duration": 37,
    "start_time": "2023-07-10T11:35:31.438Z"
   },
   {
    "duration": 59,
    "start_time": "2023-07-10T11:35:31.478Z"
   },
   {
    "duration": 45,
    "start_time": "2023-07-10T11:35:31.539Z"
   },
   {
    "duration": 62,
    "start_time": "2023-07-10T11:35:31.586Z"
   },
   {
    "duration": 130,
    "start_time": "2023-07-10T11:35:31.650Z"
   },
   {
    "duration": 957,
    "start_time": "2023-07-10T11:35:31.782Z"
   },
   {
    "duration": 45,
    "start_time": "2023-07-10T11:35:32.742Z"
   },
   {
    "duration": 557,
    "start_time": "2023-07-10T11:35:32.790Z"
   },
   {
    "duration": 168,
    "start_time": "2023-07-10T11:35:33.350Z"
   },
   {
    "duration": 648,
    "start_time": "2023-07-10T11:35:33.521Z"
   },
   {
    "duration": 165,
    "start_time": "2023-07-10T11:35:34.172Z"
   },
   {
    "duration": 1256,
    "start_time": "2023-07-10T11:35:34.339Z"
   },
   {
    "duration": 727,
    "start_time": "2023-07-10T11:35:35.597Z"
   },
   {
    "duration": 166,
    "start_time": "2023-07-10T11:35:36.327Z"
   },
   {
    "duration": 9,
    "start_time": "2023-07-10T11:35:36.497Z"
   },
   {
    "duration": 4,
    "start_time": "2023-07-10T11:35:36.511Z"
   },
   {
    "duration": 12,
    "start_time": "2023-07-10T11:35:36.517Z"
   },
   {
    "duration": 10,
    "start_time": "2023-07-10T11:35:36.531Z"
   },
   {
    "duration": 7,
    "start_time": "2023-07-10T11:35:36.544Z"
   },
   {
    "duration": 10,
    "start_time": "2023-07-10T11:35:36.574Z"
   },
   {
    "duration": 8,
    "start_time": "2023-07-10T11:35:36.586Z"
   },
   {
    "duration": 7,
    "start_time": "2023-07-10T11:35:36.596Z"
   },
   {
    "duration": 16,
    "start_time": "2023-07-10T11:35:36.605Z"
   },
   {
    "duration": 7,
    "start_time": "2023-07-10T11:35:36.623Z"
   },
   {
    "duration": 150,
    "start_time": "2023-07-10T11:35:36.633Z"
   },
   {
    "duration": 18,
    "start_time": "2023-07-10T11:35:36.785Z"
   },
   {
    "duration": 17,
    "start_time": "2023-07-10T11:35:36.805Z"
   },
   {
    "duration": 17,
    "start_time": "2023-07-10T11:35:36.824Z"
   },
   {
    "duration": 26,
    "start_time": "2023-07-10T11:35:36.844Z"
   },
   {
    "duration": 18,
    "start_time": "2023-07-10T11:35:36.872Z"
   },
   {
    "duration": 17,
    "start_time": "2023-07-10T11:35:36.893Z"
   },
   {
    "duration": 6,
    "start_time": "2023-07-10T11:35:36.912Z"
   },
   {
    "duration": 7,
    "start_time": "2023-07-10T11:35:36.920Z"
   },
   {
    "duration": 11,
    "start_time": "2023-07-10T11:35:36.929Z"
   },
   {
    "duration": 18,
    "start_time": "2023-07-10T11:35:36.948Z"
   },
   {
    "duration": 9,
    "start_time": "2023-07-10T11:35:36.968Z"
   },
   {
    "duration": 5,
    "start_time": "2023-07-10T11:35:36.980Z"
   },
   {
    "duration": 7,
    "start_time": "2023-07-10T11:35:36.989Z"
   },
   {
    "duration": 8,
    "start_time": "2023-07-10T11:35:36.998Z"
   },
   {
    "duration": 6,
    "start_time": "2023-07-10T11:35:37.009Z"
   },
   {
    "duration": 3452,
    "start_time": "2023-07-10T11:35:37.018Z"
   },
   {
    "duration": 4,
    "start_time": "2023-07-10T11:35:40.472Z"
   },
   {
    "duration": 8,
    "start_time": "2023-07-10T11:35:40.479Z"
   },
   {
    "duration": 328556,
    "start_time": "2023-07-10T11:35:40.490Z"
   },
   {
    "duration": 8,
    "start_time": "2023-07-10T11:41:09.048Z"
   },
   {
    "duration": 744937,
    "start_time": "2023-07-10T11:41:09.068Z"
   },
   {
    "duration": 14,
    "start_time": "2023-07-10T11:53:34.007Z"
   },
   {
    "duration": 902013,
    "start_time": "2023-07-10T11:53:34.024Z"
   },
   {
    "duration": 941,
    "start_time": "2023-07-10T12:08:36.039Z"
   },
   {
    "duration": 84,
    "start_time": "2023-07-10T12:08:36.986Z"
   },
   {
    "duration": 48951,
    "start_time": "2023-07-10T13:50:33.731Z"
   },
   {
    "duration": 2923,
    "start_time": "2023-07-10T16:01:58.807Z"
   },
   {
    "duration": 114,
    "start_time": "2023-07-10T16:02:01.732Z"
   },
   {
    "duration": 2113,
    "start_time": "2023-07-10T16:02:01.848Z"
   },
   {
    "duration": 427,
    "start_time": "2023-07-10T16:02:03.964Z"
   },
   {
    "duration": 8,
    "start_time": "2023-07-10T16:02:04.393Z"
   },
   {
    "duration": 7,
    "start_time": "2023-07-10T16:02:04.403Z"
   },
   {
    "duration": 7,
    "start_time": "2023-07-10T16:02:04.411Z"
   },
   {
    "duration": 361,
    "start_time": "2023-07-10T16:02:04.420Z"
   },
   {
    "duration": 5,
    "start_time": "2023-07-10T16:02:04.783Z"
   },
   {
    "duration": 3,
    "start_time": "2023-07-10T16:02:04.801Z"
   },
   {
    "duration": 8,
    "start_time": "2023-07-10T16:02:04.805Z"
   },
   {
    "duration": 7,
    "start_time": "2023-07-10T16:02:04.814Z"
   },
   {
    "duration": 10,
    "start_time": "2023-07-10T16:02:04.823Z"
   },
   {
    "duration": 9,
    "start_time": "2023-07-10T16:02:04.834Z"
   },
   {
    "duration": 16,
    "start_time": "2023-07-10T16:02:04.845Z"
   },
   {
    "duration": 20,
    "start_time": "2023-07-10T16:02:04.863Z"
   },
   {
    "duration": 62,
    "start_time": "2023-07-10T16:02:04.885Z"
   },
   {
    "duration": 32,
    "start_time": "2023-07-10T16:02:04.948Z"
   },
   {
    "duration": 35,
    "start_time": "2023-07-10T16:02:04.982Z"
   },
   {
    "duration": 139,
    "start_time": "2023-07-10T16:02:05.020Z"
   },
   {
    "duration": 24,
    "start_time": "2023-07-10T16:02:05.162Z"
   },
   {
    "duration": 122,
    "start_time": "2023-07-10T16:02:05.187Z"
   },
   {
    "duration": 9,
    "start_time": "2023-07-10T16:02:05.311Z"
   },
   {
    "duration": 3,
    "start_time": "2023-07-10T16:02:05.321Z"
   },
   {
    "duration": 36,
    "start_time": "2023-07-10T16:02:05.325Z"
   },
   {
    "duration": 9,
    "start_time": "2023-07-10T16:02:05.363Z"
   },
   {
    "duration": 29,
    "start_time": "2023-07-10T16:02:05.374Z"
   },
   {
    "duration": 28,
    "start_time": "2023-07-10T16:02:05.407Z"
   },
   {
    "duration": 15,
    "start_time": "2023-07-10T16:02:05.437Z"
   },
   {
    "duration": 37,
    "start_time": "2023-07-10T16:02:05.454Z"
   },
   {
    "duration": 19,
    "start_time": "2023-07-10T16:02:05.492Z"
   },
   {
    "duration": 17,
    "start_time": "2023-07-10T16:02:05.513Z"
   },
   {
    "duration": 14,
    "start_time": "2023-07-10T16:02:05.532Z"
   },
   {
    "duration": 18,
    "start_time": "2023-07-10T16:02:05.548Z"
   },
   {
    "duration": 10,
    "start_time": "2023-07-10T16:02:05.567Z"
   },
   {
    "duration": 17,
    "start_time": "2023-07-10T16:02:05.578Z"
   },
   {
    "duration": 794,
    "start_time": "2023-07-10T16:02:05.597Z"
   },
   {
    "duration": 9,
    "start_time": "2023-07-10T16:02:06.393Z"
   },
   {
    "duration": 1011,
    "start_time": "2023-07-10T16:02:06.403Z"
   },
   {
    "duration": 1066,
    "start_time": "2023-07-10T16:02:07.416Z"
   },
   {
    "duration": 959,
    "start_time": "2023-07-10T16:02:08.484Z"
   },
   {
    "duration": 6,
    "start_time": "2023-07-10T16:02:09.445Z"
   },
   {
    "duration": 10,
    "start_time": "2023-07-10T16:02:09.453Z"
   },
   {
    "duration": 38,
    "start_time": "2023-07-10T16:02:09.465Z"
   },
   {
    "duration": 1239,
    "start_time": "2023-07-10T16:02:09.505Z"
   },
   {
    "duration": 207,
    "start_time": "2023-07-10T16:02:10.746Z"
   },
   {
    "duration": 8,
    "start_time": "2023-07-10T16:02:10.956Z"
   },
   {
    "duration": 11,
    "start_time": "2023-07-10T16:02:10.965Z"
   },
   {
    "duration": 21,
    "start_time": "2023-07-10T16:02:10.978Z"
   },
   {
    "duration": 13,
    "start_time": "2023-07-10T16:02:11.000Z"
   },
   {
    "duration": 12,
    "start_time": "2023-07-10T16:02:11.015Z"
   },
   {
    "duration": 29,
    "start_time": "2023-07-10T16:02:11.028Z"
   },
   {
    "duration": 663,
    "start_time": "2023-07-10T16:02:11.059Z"
   },
   {
    "duration": 25,
    "start_time": "2023-07-10T16:02:11.723Z"
   },
   {
    "duration": 236,
    "start_time": "2023-07-10T16:02:11.750Z"
   },
   {
    "duration": 99,
    "start_time": "2023-07-10T16:02:11.988Z"
   },
   {
    "duration": 352,
    "start_time": "2023-07-10T16:02:12.089Z"
   },
   {
    "duration": 108,
    "start_time": "2023-07-10T16:02:12.444Z"
   },
   {
    "duration": 824,
    "start_time": "2023-07-10T16:02:12.555Z"
   },
   {
    "duration": 438,
    "start_time": "2023-07-10T16:02:13.380Z"
   },
   {
    "duration": 125,
    "start_time": "2023-07-10T16:02:13.820Z"
   },
   {
    "duration": 5,
    "start_time": "2023-07-10T16:02:13.947Z"
   },
   {
    "duration": 8,
    "start_time": "2023-07-10T16:02:13.954Z"
   },
   {
    "duration": 31,
    "start_time": "2023-07-10T16:02:13.964Z"
   },
   {
    "duration": 10,
    "start_time": "2023-07-10T16:02:13.997Z"
   },
   {
    "duration": 18,
    "start_time": "2023-07-10T16:02:14.009Z"
   },
   {
    "duration": 25,
    "start_time": "2023-07-10T16:02:14.029Z"
   },
   {
    "duration": 16,
    "start_time": "2023-07-10T16:02:14.056Z"
   },
   {
    "duration": 34,
    "start_time": "2023-07-10T16:02:14.073Z"
   },
   {
    "duration": 14,
    "start_time": "2023-07-10T16:02:14.109Z"
   },
   {
    "duration": 30,
    "start_time": "2023-07-10T16:02:14.125Z"
   },
   {
    "duration": 121,
    "start_time": "2023-07-10T16:02:14.157Z"
   },
   {
    "duration": 11,
    "start_time": "2023-07-10T16:02:14.280Z"
   },
   {
    "duration": 12,
    "start_time": "2023-07-10T16:02:14.293Z"
   },
   {
    "duration": 8,
    "start_time": "2023-07-10T16:02:14.307Z"
   },
   {
    "duration": 13,
    "start_time": "2023-07-10T16:02:14.316Z"
   },
   {
    "duration": 7,
    "start_time": "2023-07-10T16:02:14.331Z"
   },
   {
    "duration": 29,
    "start_time": "2023-07-10T16:02:14.340Z"
   },
   {
    "duration": 29,
    "start_time": "2023-07-10T16:03:18.402Z"
   },
   {
    "duration": 2489,
    "start_time": "2023-07-10T16:08:33.241Z"
   },
   {
    "duration": 50,
    "start_time": "2023-07-10T16:08:35.731Z"
   },
   {
    "duration": 741,
    "start_time": "2023-07-10T16:08:35.783Z"
   },
   {
    "duration": 463,
    "start_time": "2023-07-10T16:08:36.526Z"
   },
   {
    "duration": 3,
    "start_time": "2023-07-10T16:08:36.991Z"
   },
   {
    "duration": 9,
    "start_time": "2023-07-10T16:08:37.001Z"
   },
   {
    "duration": 11,
    "start_time": "2023-07-10T16:08:37.012Z"
   },
   {
    "duration": 364,
    "start_time": "2023-07-10T16:08:37.025Z"
   },
   {
    "duration": 11,
    "start_time": "2023-07-10T16:08:37.391Z"
   },
   {
    "duration": 9,
    "start_time": "2023-07-10T16:08:37.404Z"
   },
   {
    "duration": 10,
    "start_time": "2023-07-10T16:08:37.414Z"
   },
   {
    "duration": 22,
    "start_time": "2023-07-10T16:08:37.426Z"
   },
   {
    "duration": 8,
    "start_time": "2023-07-10T16:08:37.451Z"
   },
   {
    "duration": 30,
    "start_time": "2023-07-10T16:08:37.460Z"
   },
   {
    "duration": 29,
    "start_time": "2023-07-10T16:08:37.491Z"
   },
   {
    "duration": 23,
    "start_time": "2023-07-10T16:08:37.522Z"
   },
   {
    "duration": 76,
    "start_time": "2023-07-10T16:08:37.547Z"
   },
   {
    "duration": 34,
    "start_time": "2023-07-10T16:08:37.624Z"
   },
   {
    "duration": 44,
    "start_time": "2023-07-10T16:08:37.659Z"
   },
   {
    "duration": 21,
    "start_time": "2023-07-10T16:08:37.705Z"
   },
   {
    "duration": 161,
    "start_time": "2023-07-10T16:08:37.728Z"
   },
   {
    "duration": 28,
    "start_time": "2023-07-10T16:08:37.891Z"
   },
   {
    "duration": 123,
    "start_time": "2023-07-10T16:08:37.920Z"
   },
   {
    "duration": 9,
    "start_time": "2023-07-10T16:08:38.045Z"
   },
   {
    "duration": 25,
    "start_time": "2023-07-10T16:08:38.056Z"
   },
   {
    "duration": 44,
    "start_time": "2023-07-10T16:08:38.083Z"
   },
   {
    "duration": 19,
    "start_time": "2023-07-10T16:08:38.128Z"
   },
   {
    "duration": 13,
    "start_time": "2023-07-10T16:08:38.149Z"
   },
   {
    "duration": 45,
    "start_time": "2023-07-10T16:08:38.164Z"
   },
   {
    "duration": 21,
    "start_time": "2023-07-10T16:08:38.211Z"
   },
   {
    "duration": 21,
    "start_time": "2023-07-10T16:08:38.233Z"
   },
   {
    "duration": 14,
    "start_time": "2023-07-10T16:08:38.255Z"
   },
   {
    "duration": 32,
    "start_time": "2023-07-10T16:08:38.271Z"
   },
   {
    "duration": 12,
    "start_time": "2023-07-10T16:08:38.304Z"
   },
   {
    "duration": 10,
    "start_time": "2023-07-10T16:08:38.318Z"
   },
   {
    "duration": 16,
    "start_time": "2023-07-10T16:08:38.330Z"
   },
   {
    "duration": 9,
    "start_time": "2023-07-10T16:08:38.348Z"
   },
   {
    "duration": 798,
    "start_time": "2023-07-10T16:08:38.358Z"
   },
   {
    "duration": 4,
    "start_time": "2023-07-10T16:08:39.158Z"
   },
   {
    "duration": 978,
    "start_time": "2023-07-10T16:08:39.166Z"
   },
   {
    "duration": 1128,
    "start_time": "2023-07-10T16:08:40.146Z"
   },
   {
    "duration": 948,
    "start_time": "2023-07-10T16:08:41.276Z"
   },
   {
    "duration": 6,
    "start_time": "2023-07-10T16:08:42.226Z"
   },
   {
    "duration": 13,
    "start_time": "2023-07-10T16:08:42.233Z"
   },
   {
    "duration": 17,
    "start_time": "2023-07-10T16:08:42.248Z"
   },
   {
    "duration": 1176,
    "start_time": "2023-07-10T16:08:42.266Z"
   },
   {
    "duration": 219,
    "start_time": "2023-07-10T16:08:43.444Z"
   },
   {
    "duration": 8,
    "start_time": "2023-07-10T16:08:43.664Z"
   },
   {
    "duration": 6,
    "start_time": "2023-07-10T16:08:43.674Z"
   },
   {
    "duration": 12,
    "start_time": "2023-07-10T16:08:43.682Z"
   },
   {
    "duration": 95,
    "start_time": "2023-07-10T16:08:43.702Z"
   },
   {
    "duration": 14,
    "start_time": "2023-07-10T16:08:43.799Z"
   },
   {
    "duration": 22,
    "start_time": "2023-07-10T16:08:43.815Z"
   },
   {
    "duration": 543,
    "start_time": "2023-07-10T16:08:43.839Z"
   },
   {
    "duration": 32,
    "start_time": "2023-07-10T16:08:44.384Z"
   },
   {
    "duration": 362,
    "start_time": "2023-07-10T16:08:44.418Z"
   },
   {
    "duration": 108,
    "start_time": "2023-07-10T16:08:44.782Z"
   },
   {
    "duration": 376,
    "start_time": "2023-07-10T16:08:44.892Z"
   },
   {
    "duration": 107,
    "start_time": "2023-07-10T16:08:45.270Z"
   },
   {
    "duration": 862,
    "start_time": "2023-07-10T16:08:45.379Z"
   },
   {
    "duration": 425,
    "start_time": "2023-07-10T16:08:46.243Z"
   },
   {
    "duration": 110,
    "start_time": "2023-07-10T16:08:46.669Z"
   },
   {
    "duration": 5,
    "start_time": "2023-07-10T16:08:46.781Z"
   },
   {
    "duration": 31,
    "start_time": "2023-07-10T16:08:46.787Z"
   },
   {
    "duration": 43,
    "start_time": "2023-07-10T16:08:46.819Z"
   },
   {
    "duration": 30,
    "start_time": "2023-07-10T16:08:46.864Z"
   },
   {
    "duration": 29,
    "start_time": "2023-07-10T16:08:46.895Z"
   },
   {
    "duration": 32,
    "start_time": "2023-07-10T16:08:46.926Z"
   },
   {
    "duration": 22,
    "start_time": "2023-07-10T16:08:46.960Z"
   },
   {
    "duration": 36,
    "start_time": "2023-07-10T16:08:46.983Z"
   },
   {
    "duration": 16,
    "start_time": "2023-07-10T16:08:47.021Z"
   },
   {
    "duration": 33,
    "start_time": "2023-07-10T16:08:47.039Z"
   },
   {
    "duration": 156,
    "start_time": "2023-07-10T16:08:47.074Z"
   },
   {
    "duration": 17,
    "start_time": "2023-07-10T16:08:47.232Z"
   },
   {
    "duration": 27,
    "start_time": "2023-07-10T16:08:47.251Z"
   },
   {
    "duration": 26,
    "start_time": "2023-07-10T16:08:47.280Z"
   },
   {
    "duration": 61,
    "start_time": "2023-07-10T16:08:47.308Z"
   },
   {
    "duration": 32,
    "start_time": "2023-07-10T16:08:47.370Z"
   },
   {
    "duration": 36,
    "start_time": "2023-07-10T16:08:47.404Z"
   },
   {
    "duration": 8,
    "start_time": "2023-07-10T16:08:47.441Z"
   },
   {
    "duration": 121,
    "start_time": "2023-07-10T16:08:47.451Z"
   },
   {
    "duration": 10,
    "start_time": "2023-07-10T16:09:52.668Z"
   },
   {
    "duration": 5,
    "start_time": "2023-07-10T16:10:02.241Z"
   },
   {
    "duration": 30,
    "start_time": "2023-07-10T16:10:40.500Z"
   },
   {
    "duration": 3,
    "start_time": "2023-07-10T16:10:58.758Z"
   },
   {
    "duration": 25,
    "start_time": "2023-07-10T16:13:21.677Z"
   },
   {
    "duration": 7,
    "start_time": "2023-07-10T16:24:51.265Z"
   },
   {
    "duration": 2,
    "start_time": "2023-07-10T16:24:52.936Z"
   },
   {
    "duration": 3,
    "start_time": "2023-07-10T16:24:54.462Z"
   },
   {
    "duration": 7,
    "start_time": "2023-07-10T16:24:55.900Z"
   },
   {
    "duration": 9,
    "start_time": "2023-07-10T16:25:02.388Z"
   },
   {
    "duration": 7,
    "start_time": "2023-07-10T16:25:02.970Z"
   },
   {
    "duration": 8,
    "start_time": "2023-07-10T16:25:03.635Z"
   },
   {
    "duration": 5,
    "start_time": "2023-07-10T16:25:04.154Z"
   },
   {
    "duration": 12,
    "start_time": "2023-07-10T16:26:02.554Z"
   },
   {
    "duration": 5,
    "start_time": "2023-07-10T16:26:18.836Z"
   },
   {
    "duration": 5,
    "start_time": "2023-07-10T16:26:37.906Z"
   },
   {
    "duration": 6,
    "start_time": "2023-07-10T16:26:53.548Z"
   },
   {
    "duration": 6,
    "start_time": "2023-07-10T16:27:05.672Z"
   },
   {
    "duration": 7,
    "start_time": "2023-07-10T16:27:25.632Z"
   },
   {
    "duration": 5,
    "start_time": "2023-07-10T16:28:10.094Z"
   },
   {
    "duration": 12,
    "start_time": "2023-07-10T16:28:22.444Z"
   },
   {
    "duration": 3,
    "start_time": "2023-07-10T16:28:46.855Z"
   },
   {
    "duration": 42175,
    "start_time": "2023-07-10T16:28:53.439Z"
   },
   {
    "duration": 2090,
    "start_time": "2023-07-11T09:14:13.598Z"
   },
   {
    "duration": 45,
    "start_time": "2023-07-11T09:14:15.691Z"
   },
   {
    "duration": 3603,
    "start_time": "2023-07-11T09:14:15.742Z"
   },
   {
    "duration": 541,
    "start_time": "2023-07-11T09:14:19.347Z"
   },
   {
    "duration": 5,
    "start_time": "2023-07-11T09:14:19.895Z"
   },
   {
    "duration": 9,
    "start_time": "2023-07-11T09:14:19.913Z"
   },
   {
    "duration": 7,
    "start_time": "2023-07-11T09:14:19.924Z"
   },
   {
    "duration": 546,
    "start_time": "2023-07-11T09:14:19.937Z"
   },
   {
    "duration": 6,
    "start_time": "2023-07-11T09:14:20.486Z"
   },
   {
    "duration": 21,
    "start_time": "2023-07-11T09:14:20.494Z"
   },
   {
    "duration": 31,
    "start_time": "2023-07-11T09:14:20.518Z"
   },
   {
    "duration": 13,
    "start_time": "2023-07-11T09:14:20.554Z"
   },
   {
    "duration": 15,
    "start_time": "2023-07-11T09:14:20.569Z"
   },
   {
    "duration": 9,
    "start_time": "2023-07-11T09:14:20.587Z"
   },
   {
    "duration": 23,
    "start_time": "2023-07-11T09:14:20.598Z"
   },
   {
    "duration": 34,
    "start_time": "2023-07-11T09:14:20.629Z"
   },
   {
    "duration": 83,
    "start_time": "2023-07-11T09:14:20.665Z"
   },
   {
    "duration": 34,
    "start_time": "2023-07-11T09:14:20.750Z"
   },
   {
    "duration": 62,
    "start_time": "2023-07-11T09:14:20.785Z"
   },
   {
    "duration": 24,
    "start_time": "2023-07-11T09:14:20.849Z"
   },
   {
    "duration": 172,
    "start_time": "2023-07-11T09:14:20.875Z"
   },
   {
    "duration": 37,
    "start_time": "2023-07-11T09:14:21.049Z"
   },
   {
    "duration": 137,
    "start_time": "2023-07-11T09:14:21.087Z"
   },
   {
    "duration": 22,
    "start_time": "2023-07-11T09:14:21.225Z"
   },
   {
    "duration": 3,
    "start_time": "2023-07-11T09:14:21.250Z"
   },
   {
    "duration": 34,
    "start_time": "2023-07-11T09:14:21.254Z"
   },
   {
    "duration": 9,
    "start_time": "2023-07-11T09:14:21.289Z"
   },
   {
    "duration": 30,
    "start_time": "2023-07-11T09:14:21.300Z"
   },
   {
    "duration": 28,
    "start_time": "2023-07-11T09:14:21.332Z"
   },
   {
    "duration": 19,
    "start_time": "2023-07-11T09:14:21.362Z"
   },
   {
    "duration": 11,
    "start_time": "2023-07-11T09:14:21.383Z"
   },
   {
    "duration": 16,
    "start_time": "2023-07-11T09:14:21.395Z"
   },
   {
    "duration": 18,
    "start_time": "2023-07-11T09:14:21.413Z"
   },
   {
    "duration": 11,
    "start_time": "2023-07-11T09:14:21.434Z"
   },
   {
    "duration": 29,
    "start_time": "2023-07-11T09:14:21.448Z"
   },
   {
    "duration": 17,
    "start_time": "2023-07-11T09:14:21.479Z"
   },
   {
    "duration": 22,
    "start_time": "2023-07-11T09:14:21.498Z"
   },
   {
    "duration": 1004,
    "start_time": "2023-07-11T09:14:21.524Z"
   },
   {
    "duration": 6,
    "start_time": "2023-07-11T09:14:22.530Z"
   },
   {
    "duration": 1189,
    "start_time": "2023-07-11T09:14:22.540Z"
   },
   {
    "duration": 1188,
    "start_time": "2023-07-11T09:14:23.735Z"
   },
   {
    "duration": 1101,
    "start_time": "2023-07-11T09:14:24.931Z"
   },
   {
    "duration": 7,
    "start_time": "2023-07-11T09:14:26.034Z"
   },
   {
    "duration": 16,
    "start_time": "2023-07-11T09:14:26.043Z"
   },
   {
    "duration": 21,
    "start_time": "2023-07-11T09:14:26.060Z"
   },
   {
    "duration": 1260,
    "start_time": "2023-07-11T09:14:26.083Z"
   },
   {
    "duration": 227,
    "start_time": "2023-07-11T09:14:27.345Z"
   },
   {
    "duration": 9,
    "start_time": "2023-07-11T09:14:27.574Z"
   },
   {
    "duration": 4,
    "start_time": "2023-07-11T09:14:27.585Z"
   },
   {
    "duration": 26,
    "start_time": "2023-07-11T09:14:27.591Z"
   },
   {
    "duration": 21,
    "start_time": "2023-07-11T09:14:27.619Z"
   },
   {
    "duration": 16,
    "start_time": "2023-07-11T09:14:27.642Z"
   },
   {
    "duration": 23,
    "start_time": "2023-07-11T09:14:27.660Z"
   },
   {
    "duration": 742,
    "start_time": "2023-07-11T09:14:27.686Z"
   },
   {
    "duration": 23,
    "start_time": "2023-07-11T09:14:28.430Z"
   },
   {
    "duration": 250,
    "start_time": "2023-07-11T09:14:28.455Z"
   },
   {
    "duration": 131,
    "start_time": "2023-07-11T09:14:28.707Z"
   },
   {
    "duration": 391,
    "start_time": "2023-07-11T09:14:28.840Z"
   },
   {
    "duration": 115,
    "start_time": "2023-07-11T09:14:29.233Z"
   },
   {
    "duration": 1032,
    "start_time": "2023-07-11T09:14:29.350Z"
   },
   {
    "duration": 526,
    "start_time": "2023-07-11T09:14:30.383Z"
   },
   {
    "duration": 128,
    "start_time": "2023-07-11T09:14:30.913Z"
   },
   {
    "duration": 4,
    "start_time": "2023-07-11T09:14:31.043Z"
   },
   {
    "duration": 253,
    "start_time": "2023-07-11T09:14:31.049Z"
   },
   {
    "duration": 101,
    "start_time": "2023-07-11T09:14:31.304Z"
   },
   {
    "duration": 33,
    "start_time": "2023-07-11T09:14:31.408Z"
   },
   {
    "duration": 21,
    "start_time": "2023-07-11T09:14:31.443Z"
   },
   {
    "duration": 36,
    "start_time": "2023-07-11T09:14:31.466Z"
   },
   {
    "duration": 24,
    "start_time": "2023-07-11T09:14:31.504Z"
   },
   {
    "duration": 14,
    "start_time": "2023-07-11T09:14:31.530Z"
   },
   {
    "duration": 31,
    "start_time": "2023-07-11T09:14:31.546Z"
   },
   {
    "duration": 36,
    "start_time": "2023-07-11T09:14:31.579Z"
   },
   {
    "duration": 171,
    "start_time": "2023-07-11T09:14:31.622Z"
   },
   {
    "duration": 34,
    "start_time": "2023-07-11T09:14:31.795Z"
   },
   {
    "duration": 35,
    "start_time": "2023-07-11T09:14:31.831Z"
   },
   {
    "duration": 18,
    "start_time": "2023-07-11T09:14:31.868Z"
   },
   {
    "duration": 44,
    "start_time": "2023-07-11T09:14:31.887Z"
   },
   {
    "duration": 31,
    "start_time": "2023-07-11T09:14:31.933Z"
   },
   {
    "duration": 27,
    "start_time": "2023-07-11T09:14:31.966Z"
   },
   {
    "duration": 48,
    "start_time": "2023-07-11T09:14:31.995Z"
   },
   {
    "duration": 20,
    "start_time": "2023-07-11T09:14:32.045Z"
   },
   {
    "duration": 26,
    "start_time": "2023-07-11T09:14:32.067Z"
   },
   {
    "duration": 24,
    "start_time": "2023-07-11T09:14:32.095Z"
   },
   {
    "duration": 35,
    "start_time": "2023-07-11T09:14:32.121Z"
   },
   {
    "duration": 33,
    "start_time": "2023-07-11T09:14:32.159Z"
   },
   {
    "duration": 38,
    "start_time": "2023-07-11T09:14:32.194Z"
   },
   {
    "duration": 18,
    "start_time": "2023-07-11T09:14:32.234Z"
   },
   {
    "duration": 45,
    "start_time": "2023-07-11T09:14:32.254Z"
   },
   {
    "duration": 28,
    "start_time": "2023-07-11T09:14:32.301Z"
   },
   {
    "duration": 4802,
    "start_time": "2023-07-11T09:14:32.332Z"
   },
   {
    "duration": 73,
    "start_time": "2023-07-11T09:14:37.143Z"
   },
   {
    "duration": 13,
    "start_time": "2023-07-11T09:14:37.222Z"
   },
   {
    "duration": 101230,
    "start_time": "2023-07-11T09:14:37.237Z"
   },
   {
    "duration": 0,
    "start_time": "2023-07-11T09:16:18.469Z"
   },
   {
    "duration": 0,
    "start_time": "2023-07-11T09:16:18.471Z"
   },
   {
    "duration": 0,
    "start_time": "2023-07-11T09:16:18.472Z"
   },
   {
    "duration": 0,
    "start_time": "2023-07-11T09:16:18.473Z"
   },
   {
    "duration": 0,
    "start_time": "2023-07-11T09:16:18.474Z"
   },
   {
    "duration": 0,
    "start_time": "2023-07-11T09:16:18.475Z"
   },
   {
    "duration": 0,
    "start_time": "2023-07-11T09:16:18.476Z"
   },
   {
    "duration": 0,
    "start_time": "2023-07-11T09:16:18.477Z"
   },
   {
    "duration": 11,
    "start_time": "2023-07-11T09:16:21.484Z"
   },
   {
    "duration": 14,
    "start_time": "2023-07-11T09:16:28.491Z"
   },
   {
    "duration": 8,
    "start_time": "2023-07-11T09:16:32.671Z"
   },
   {
    "duration": 5,
    "start_time": "2023-07-11T09:16:37.170Z"
   },
   {
    "duration": 29,
    "start_time": "2023-07-11T09:17:11.924Z"
   },
   {
    "duration": 6,
    "start_time": "2023-07-11T09:17:23.569Z"
   },
   {
    "duration": 5,
    "start_time": "2023-07-11T09:19:28.033Z"
   },
   {
    "duration": 1823,
    "start_time": "2023-07-11T09:21:06.755Z"
   },
   {
    "duration": 31,
    "start_time": "2023-07-11T09:21:08.581Z"
   },
   {
    "duration": 868,
    "start_time": "2023-07-11T09:21:08.614Z"
   },
   {
    "duration": 508,
    "start_time": "2023-07-11T09:21:09.484Z"
   },
   {
    "duration": 5,
    "start_time": "2023-07-11T09:21:09.994Z"
   },
   {
    "duration": 29,
    "start_time": "2023-07-11T09:21:10.001Z"
   },
   {
    "duration": 44,
    "start_time": "2023-07-11T09:21:10.032Z"
   },
   {
    "duration": 496,
    "start_time": "2023-07-11T09:21:10.079Z"
   },
   {
    "duration": 5,
    "start_time": "2023-07-11T09:21:10.577Z"
   },
   {
    "duration": 95,
    "start_time": "2023-07-11T09:21:10.585Z"
   },
   {
    "duration": 51,
    "start_time": "2023-07-11T09:21:10.682Z"
   },
   {
    "duration": 24,
    "start_time": "2023-07-11T09:21:10.736Z"
   },
   {
    "duration": 30,
    "start_time": "2023-07-11T09:21:10.762Z"
   },
   {
    "duration": 57,
    "start_time": "2023-07-11T09:21:10.793Z"
   },
   {
    "duration": 5,
    "start_time": "2023-07-11T09:21:10.853Z"
   },
   {
    "duration": 35,
    "start_time": "2023-07-11T09:21:10.860Z"
   },
   {
    "duration": 17,
    "start_time": "2023-07-11T09:21:10.898Z"
   },
   {
    "duration": 16,
    "start_time": "2023-07-11T09:21:10.925Z"
   },
   {
    "duration": 14,
    "start_time": "2023-07-11T09:21:10.946Z"
   },
   {
    "duration": 35,
    "start_time": "2023-07-11T09:21:10.962Z"
   },
   {
    "duration": 183,
    "start_time": "2023-07-11T09:21:10.998Z"
   },
   {
    "duration": 44,
    "start_time": "2023-07-11T09:21:11.183Z"
   },
   {
    "duration": 132,
    "start_time": "2023-07-11T09:21:11.231Z"
   },
   {
    "duration": 8,
    "start_time": "2023-07-11T09:21:11.365Z"
   },
   {
    "duration": 18,
    "start_time": "2023-07-11T09:21:11.375Z"
   },
   {
    "duration": 29,
    "start_time": "2023-07-11T09:21:11.395Z"
   },
   {
    "duration": 17,
    "start_time": "2023-07-11T09:21:11.425Z"
   },
   {
    "duration": 15,
    "start_time": "2023-07-11T09:21:11.450Z"
   },
   {
    "duration": 26,
    "start_time": "2023-07-11T09:21:11.466Z"
   },
   {
    "duration": 39,
    "start_time": "2023-07-11T09:21:11.494Z"
   },
   {
    "duration": 20,
    "start_time": "2023-07-11T09:21:11.535Z"
   },
   {
    "duration": 5,
    "start_time": "2023-07-11T09:21:11.557Z"
   },
   {
    "duration": 17,
    "start_time": "2023-07-11T09:21:11.563Z"
   },
   {
    "duration": 55,
    "start_time": "2023-07-11T09:21:11.582Z"
   },
   {
    "duration": 91,
    "start_time": "2023-07-11T09:21:11.639Z"
   },
   {
    "duration": 1069,
    "start_time": "2023-07-11T09:21:11.734Z"
   },
   {
    "duration": 10,
    "start_time": "2023-07-11T09:21:12.806Z"
   },
   {
    "duration": 1255,
    "start_time": "2023-07-11T09:21:12.819Z"
   },
   {
    "duration": 1388,
    "start_time": "2023-07-11T09:21:14.076Z"
   },
   {
    "duration": 1227,
    "start_time": "2023-07-11T09:21:15.466Z"
   },
   {
    "duration": 39,
    "start_time": "2023-07-11T09:21:16.695Z"
   },
   {
    "duration": 22,
    "start_time": "2023-07-11T09:21:16.736Z"
   },
   {
    "duration": 18,
    "start_time": "2023-07-11T09:21:16.760Z"
   },
   {
    "duration": 1131,
    "start_time": "2023-07-11T09:21:16.780Z"
   },
   {
    "duration": 255,
    "start_time": "2023-07-11T09:21:17.918Z"
   },
   {
    "duration": 11,
    "start_time": "2023-07-11T09:21:18.175Z"
   },
   {
    "duration": 23,
    "start_time": "2023-07-11T09:21:18.189Z"
   },
   {
    "duration": 13,
    "start_time": "2023-07-11T09:21:18.224Z"
   },
   {
    "duration": 22,
    "start_time": "2023-07-11T09:21:18.240Z"
   },
   {
    "duration": 41,
    "start_time": "2023-07-11T09:21:18.265Z"
   },
   {
    "duration": 88,
    "start_time": "2023-07-11T09:21:18.308Z"
   },
   {
    "duration": 664,
    "start_time": "2023-07-11T09:21:18.398Z"
   },
   {
    "duration": 23,
    "start_time": "2023-07-11T09:21:19.064Z"
   },
   {
    "duration": 408,
    "start_time": "2023-07-11T09:21:19.089Z"
   },
   {
    "duration": 144,
    "start_time": "2023-07-11T09:21:19.498Z"
   },
   {
    "duration": 557,
    "start_time": "2023-07-11T09:21:19.644Z"
   },
   {
    "duration": 137,
    "start_time": "2023-07-11T09:21:20.203Z"
   },
   {
    "duration": 1051,
    "start_time": "2023-07-11T09:21:20.342Z"
   },
   {
    "duration": 575,
    "start_time": "2023-07-11T09:21:21.395Z"
   },
   {
    "duration": 138,
    "start_time": "2023-07-11T09:21:21.973Z"
   },
   {
    "duration": 21,
    "start_time": "2023-07-11T09:21:22.115Z"
   },
   {
    "duration": 9,
    "start_time": "2023-07-11T09:21:22.145Z"
   },
   {
    "duration": 13,
    "start_time": "2023-07-11T09:21:22.156Z"
   },
   {
    "duration": 10,
    "start_time": "2023-07-11T09:21:22.171Z"
   },
   {
    "duration": 11,
    "start_time": "2023-07-11T09:21:22.183Z"
   },
   {
    "duration": 21,
    "start_time": "2023-07-11T09:21:22.196Z"
   },
   {
    "duration": 14,
    "start_time": "2023-07-11T09:21:22.220Z"
   },
   {
    "duration": 11,
    "start_time": "2023-07-11T09:21:22.236Z"
   },
   {
    "duration": 10,
    "start_time": "2023-07-11T09:21:22.251Z"
   },
   {
    "duration": 5,
    "start_time": "2023-07-11T09:21:22.263Z"
   },
   {
    "duration": 647,
    "start_time": "2023-07-11T09:21:22.270Z"
   },
   {
    "duration": 27,
    "start_time": "2023-07-11T09:21:22.923Z"
   },
   {
    "duration": 5,
    "start_time": "2023-07-11T09:21:22.951Z"
   },
   {
    "duration": 12,
    "start_time": "2023-07-11T09:21:22.958Z"
   },
   {
    "duration": 14,
    "start_time": "2023-07-11T09:21:22.971Z"
   },
   {
    "duration": 14,
    "start_time": "2023-07-11T09:21:22.987Z"
   },
   {
    "duration": 43,
    "start_time": "2023-07-11T09:21:23.003Z"
   },
   {
    "duration": 1420,
    "start_time": "2023-07-11T09:21:23.051Z"
   },
   {
    "duration": 0,
    "start_time": "2023-07-11T09:21:24.474Z"
   },
   {
    "duration": 0,
    "start_time": "2023-07-11T09:21:24.476Z"
   },
   {
    "duration": 1,
    "start_time": "2023-07-11T09:21:24.477Z"
   },
   {
    "duration": 0,
    "start_time": "2023-07-11T09:21:24.479Z"
   },
   {
    "duration": 0,
    "start_time": "2023-07-11T09:21:24.480Z"
   },
   {
    "duration": 0,
    "start_time": "2023-07-11T09:21:24.482Z"
   },
   {
    "duration": 0,
    "start_time": "2023-07-11T09:21:24.483Z"
   },
   {
    "duration": 0,
    "start_time": "2023-07-11T09:21:24.484Z"
   },
   {
    "duration": 0,
    "start_time": "2023-07-11T09:21:24.485Z"
   },
   {
    "duration": 0,
    "start_time": "2023-07-11T09:21:24.486Z"
   },
   {
    "duration": 0,
    "start_time": "2023-07-11T09:21:24.488Z"
   },
   {
    "duration": 0,
    "start_time": "2023-07-11T09:21:24.489Z"
   },
   {
    "duration": 0,
    "start_time": "2023-07-11T09:21:24.490Z"
   },
   {
    "duration": 0,
    "start_time": "2023-07-11T09:21:24.491Z"
   },
   {
    "duration": 0,
    "start_time": "2023-07-11T09:21:24.493Z"
   },
   {
    "duration": 0,
    "start_time": "2023-07-11T09:21:24.494Z"
   },
   {
    "duration": 0,
    "start_time": "2023-07-11T09:21:24.495Z"
   },
   {
    "duration": 0,
    "start_time": "2023-07-11T09:21:24.497Z"
   },
   {
    "duration": 0,
    "start_time": "2023-07-11T09:21:24.497Z"
   },
   {
    "duration": 0,
    "start_time": "2023-07-11T09:21:24.498Z"
   },
   {
    "duration": 2,
    "start_time": "2023-07-11T09:22:41.167Z"
   },
   {
    "duration": 1853,
    "start_time": "2023-07-11T09:22:47.760Z"
   },
   {
    "duration": 77,
    "start_time": "2023-07-11T09:22:49.616Z"
   },
   {
    "duration": 1028,
    "start_time": "2023-07-11T09:22:49.695Z"
   },
   {
    "duration": 422,
    "start_time": "2023-07-11T09:22:50.737Z"
   },
   {
    "duration": 4,
    "start_time": "2023-07-11T09:22:51.162Z"
   },
   {
    "duration": 15,
    "start_time": "2023-07-11T09:22:51.168Z"
   },
   {
    "duration": 20,
    "start_time": "2023-07-11T09:22:51.185Z"
   },
   {
    "duration": 477,
    "start_time": "2023-07-11T09:22:51.207Z"
   },
   {
    "duration": 6,
    "start_time": "2023-07-11T09:22:51.686Z"
   },
   {
    "duration": 35,
    "start_time": "2023-07-11T09:22:51.694Z"
   },
   {
    "duration": 13,
    "start_time": "2023-07-11T09:22:51.735Z"
   },
   {
    "duration": 19,
    "start_time": "2023-07-11T09:22:51.750Z"
   },
   {
    "duration": 20,
    "start_time": "2023-07-11T09:22:51.771Z"
   },
   {
    "duration": 47,
    "start_time": "2023-07-11T09:22:51.795Z"
   },
   {
    "duration": 14,
    "start_time": "2023-07-11T09:22:51.845Z"
   },
   {
    "duration": 23,
    "start_time": "2023-07-11T09:22:51.861Z"
   },
   {
    "duration": 37,
    "start_time": "2023-07-11T09:22:51.886Z"
   },
   {
    "duration": 20,
    "start_time": "2023-07-11T09:22:51.926Z"
   },
   {
    "duration": 15,
    "start_time": "2023-07-11T09:22:51.949Z"
   },
   {
    "duration": 59,
    "start_time": "2023-07-11T09:22:51.966Z"
   },
   {
    "duration": 189,
    "start_time": "2023-07-11T09:22:52.027Z"
   },
   {
    "duration": 43,
    "start_time": "2023-07-11T09:22:52.219Z"
   },
   {
    "duration": 132,
    "start_time": "2023-07-11T09:22:52.264Z"
   },
   {
    "duration": 30,
    "start_time": "2023-07-11T09:22:52.398Z"
   },
   {
    "duration": 10,
    "start_time": "2023-07-11T09:22:52.430Z"
   },
   {
    "duration": 43,
    "start_time": "2023-07-11T09:22:52.447Z"
   },
   {
    "duration": 10,
    "start_time": "2023-07-11T09:22:52.493Z"
   },
   {
    "duration": 16,
    "start_time": "2023-07-11T09:22:52.505Z"
   },
   {
    "duration": 18,
    "start_time": "2023-07-11T09:22:52.532Z"
   },
   {
    "duration": 30,
    "start_time": "2023-07-11T09:22:52.552Z"
   },
   {
    "duration": 10,
    "start_time": "2023-07-11T09:22:52.584Z"
   },
   {
    "duration": 5,
    "start_time": "2023-07-11T09:22:52.597Z"
   },
   {
    "duration": 28,
    "start_time": "2023-07-11T09:22:52.604Z"
   },
   {
    "duration": 8,
    "start_time": "2023-07-11T09:22:52.635Z"
   },
   {
    "duration": 24,
    "start_time": "2023-07-11T09:22:52.647Z"
   },
   {
    "duration": 974,
    "start_time": "2023-07-11T09:22:52.673Z"
   },
   {
    "duration": 6,
    "start_time": "2023-07-11T09:22:53.650Z"
   },
   {
    "duration": 1222,
    "start_time": "2023-07-11T09:22:53.660Z"
   },
   {
    "duration": 1325,
    "start_time": "2023-07-11T09:22:54.884Z"
   },
   {
    "duration": 1263,
    "start_time": "2023-07-11T09:22:56.214Z"
   },
   {
    "duration": 36,
    "start_time": "2023-07-11T09:22:57.482Z"
   },
   {
    "duration": 29,
    "start_time": "2023-07-11T09:22:57.521Z"
   },
   {
    "duration": 44,
    "start_time": "2023-07-11T09:22:57.552Z"
   },
   {
    "duration": 1077,
    "start_time": "2023-07-11T09:22:57.598Z"
   },
   {
    "duration": 254,
    "start_time": "2023-07-11T09:22:58.677Z"
   },
   {
    "duration": 12,
    "start_time": "2023-07-11T09:22:58.937Z"
   },
   {
    "duration": 32,
    "start_time": "2023-07-11T09:22:58.951Z"
   },
   {
    "duration": 13,
    "start_time": "2023-07-11T09:22:58.985Z"
   },
   {
    "duration": 40,
    "start_time": "2023-07-11T09:22:59.000Z"
   },
   {
    "duration": 19,
    "start_time": "2023-07-11T09:22:59.041Z"
   },
   {
    "duration": 66,
    "start_time": "2023-07-11T09:22:59.062Z"
   },
   {
    "duration": 735,
    "start_time": "2023-07-11T09:22:59.130Z"
   },
   {
    "duration": 28,
    "start_time": "2023-07-11T09:22:59.867Z"
   },
   {
    "duration": 454,
    "start_time": "2023-07-11T09:22:59.897Z"
   },
   {
    "duration": 138,
    "start_time": "2023-07-11T09:23:00.355Z"
   },
   {
    "duration": 469,
    "start_time": "2023-07-11T09:23:00.494Z"
   },
   {
    "duration": 124,
    "start_time": "2023-07-11T09:23:00.965Z"
   },
   {
    "duration": 1139,
    "start_time": "2023-07-11T09:23:01.091Z"
   },
   {
    "duration": 630,
    "start_time": "2023-07-11T09:23:02.233Z"
   },
   {
    "duration": 132,
    "start_time": "2023-07-11T09:23:02.865Z"
   },
   {
    "duration": 5,
    "start_time": "2023-07-11T09:23:02.998Z"
   },
   {
    "duration": 50,
    "start_time": "2023-07-11T09:23:03.004Z"
   },
   {
    "duration": 6,
    "start_time": "2023-07-11T09:23:03.056Z"
   },
   {
    "duration": 47,
    "start_time": "2023-07-11T09:23:03.063Z"
   },
   {
    "duration": 51,
    "start_time": "2023-07-11T09:23:03.112Z"
   },
   {
    "duration": 38,
    "start_time": "2023-07-11T09:23:03.165Z"
   },
   {
    "duration": 61,
    "start_time": "2023-07-11T09:23:03.205Z"
   },
   {
    "duration": 42,
    "start_time": "2023-07-11T09:23:03.268Z"
   },
   {
    "duration": 55,
    "start_time": "2023-07-11T09:23:03.312Z"
   },
   {
    "duration": 34,
    "start_time": "2023-07-11T09:23:03.369Z"
   },
   {
    "duration": 786,
    "start_time": "2023-07-11T09:23:03.405Z"
   },
   {
    "duration": 32,
    "start_time": "2023-07-11T09:23:04.193Z"
   },
   {
    "duration": 32,
    "start_time": "2023-07-11T09:23:04.228Z"
   },
   {
    "duration": 28,
    "start_time": "2023-07-11T09:23:04.263Z"
   },
   {
    "duration": 33,
    "start_time": "2023-07-11T09:23:04.294Z"
   },
   {
    "duration": 37,
    "start_time": "2023-07-11T09:23:04.330Z"
   },
   {
    "duration": 39,
    "start_time": "2023-07-11T09:23:04.369Z"
   },
   {
    "duration": 31,
    "start_time": "2023-07-11T09:23:04.410Z"
   },
   {
    "duration": 23,
    "start_time": "2023-07-11T09:23:04.445Z"
   },
   {
    "duration": 23,
    "start_time": "2023-07-11T09:23:04.470Z"
   },
   {
    "duration": 238,
    "start_time": "2023-07-11T09:23:04.495Z"
   },
   {
    "duration": 0,
    "start_time": "2023-07-11T09:23:04.735Z"
   },
   {
    "duration": 1,
    "start_time": "2023-07-11T09:23:04.736Z"
   },
   {
    "duration": 0,
    "start_time": "2023-07-11T09:23:04.738Z"
   },
   {
    "duration": 0,
    "start_time": "2023-07-11T09:23:04.738Z"
   },
   {
    "duration": 0,
    "start_time": "2023-07-11T09:23:04.739Z"
   },
   {
    "duration": 0,
    "start_time": "2023-07-11T09:23:04.740Z"
   },
   {
    "duration": 0,
    "start_time": "2023-07-11T09:23:04.742Z"
   },
   {
    "duration": 0,
    "start_time": "2023-07-11T09:23:04.743Z"
   },
   {
    "duration": 0,
    "start_time": "2023-07-11T09:23:04.744Z"
   },
   {
    "duration": 0,
    "start_time": "2023-07-11T09:23:04.745Z"
   },
   {
    "duration": 0,
    "start_time": "2023-07-11T09:23:04.746Z"
   },
   {
    "duration": 0,
    "start_time": "2023-07-11T09:23:04.747Z"
   },
   {
    "duration": 0,
    "start_time": "2023-07-11T09:23:04.748Z"
   },
   {
    "duration": 0,
    "start_time": "2023-07-11T09:23:04.749Z"
   },
   {
    "duration": 0,
    "start_time": "2023-07-11T09:23:04.749Z"
   },
   {
    "duration": 0,
    "start_time": "2023-07-11T09:23:04.750Z"
   },
   {
    "duration": 0,
    "start_time": "2023-07-11T09:23:04.752Z"
   },
   {
    "duration": 8,
    "start_time": "2023-07-11T09:42:47.772Z"
   },
   {
    "duration": 1799,
    "start_time": "2023-07-11T09:43:24.130Z"
   },
   {
    "duration": 58,
    "start_time": "2023-07-11T09:43:25.938Z"
   },
   {
    "duration": 937,
    "start_time": "2023-07-11T09:43:25.997Z"
   },
   {
    "duration": 454,
    "start_time": "2023-07-11T09:43:26.936Z"
   },
   {
    "duration": 3,
    "start_time": "2023-07-11T09:43:27.392Z"
   },
   {
    "duration": 5,
    "start_time": "2023-07-11T09:43:27.397Z"
   },
   {
    "duration": 26,
    "start_time": "2023-07-11T09:43:27.403Z"
   },
   {
    "duration": 435,
    "start_time": "2023-07-11T09:43:27.437Z"
   },
   {
    "duration": 5,
    "start_time": "2023-07-11T09:43:27.874Z"
   },
   {
    "duration": 7,
    "start_time": "2023-07-11T09:43:27.882Z"
   },
   {
    "duration": 16,
    "start_time": "2023-07-11T09:43:27.891Z"
   },
   {
    "duration": 24,
    "start_time": "2023-07-11T09:43:27.908Z"
   },
   {
    "duration": 7,
    "start_time": "2023-07-11T09:43:27.934Z"
   },
   {
    "duration": 27,
    "start_time": "2023-07-11T09:43:27.943Z"
   },
   {
    "duration": 5,
    "start_time": "2023-07-11T09:43:27.972Z"
   },
   {
    "duration": 16,
    "start_time": "2023-07-11T09:43:27.979Z"
   },
   {
    "duration": 14,
    "start_time": "2023-07-11T09:43:27.997Z"
   },
   {
    "duration": 9,
    "start_time": "2023-07-11T09:43:28.015Z"
   },
   {
    "duration": 9,
    "start_time": "2023-07-11T09:43:28.026Z"
   },
   {
    "duration": 46,
    "start_time": "2023-07-11T09:43:28.037Z"
   },
   {
    "duration": 166,
    "start_time": "2023-07-11T09:43:28.085Z"
   },
   {
    "duration": 35,
    "start_time": "2023-07-11T09:43:28.253Z"
   },
   {
    "duration": 155,
    "start_time": "2023-07-11T09:43:28.290Z"
   },
   {
    "duration": 21,
    "start_time": "2023-07-11T09:43:28.449Z"
   },
   {
    "duration": 24,
    "start_time": "2023-07-11T09:43:28.471Z"
   },
   {
    "duration": 87,
    "start_time": "2023-07-11T09:43:28.497Z"
   },
   {
    "duration": 12,
    "start_time": "2023-07-11T09:43:28.586Z"
   },
   {
    "duration": 7,
    "start_time": "2023-07-11T09:43:28.602Z"
   },
   {
    "duration": 20,
    "start_time": "2023-07-11T09:43:28.611Z"
   },
   {
    "duration": 11,
    "start_time": "2023-07-11T09:43:28.633Z"
   },
   {
    "duration": 13,
    "start_time": "2023-07-11T09:43:28.646Z"
   },
   {
    "duration": 8,
    "start_time": "2023-07-11T09:43:28.661Z"
   },
   {
    "duration": 15,
    "start_time": "2023-07-11T09:43:28.672Z"
   },
   {
    "duration": 6,
    "start_time": "2023-07-11T09:43:28.689Z"
   },
   {
    "duration": 57,
    "start_time": "2023-07-11T09:43:28.697Z"
   },
   {
    "duration": 1124,
    "start_time": "2023-07-11T09:43:28.756Z"
   },
   {
    "duration": 6,
    "start_time": "2023-07-11T09:43:29.883Z"
   },
   {
    "duration": 2248,
    "start_time": "2023-07-11T09:43:29.891Z"
   },
   {
    "duration": 2479,
    "start_time": "2023-07-11T09:43:32.150Z"
   },
   {
    "duration": 1339,
    "start_time": "2023-07-11T09:43:34.636Z"
   },
   {
    "duration": 26,
    "start_time": "2023-07-11T09:43:35.982Z"
   },
   {
    "duration": 34,
    "start_time": "2023-07-11T09:43:36.010Z"
   },
   {
    "duration": 22,
    "start_time": "2023-07-11T09:43:36.046Z"
   },
   {
    "duration": 1223,
    "start_time": "2023-07-11T09:43:36.072Z"
   },
   {
    "duration": 274,
    "start_time": "2023-07-11T09:43:37.297Z"
   },
   {
    "duration": 12,
    "start_time": "2023-07-11T09:43:37.573Z"
   },
   {
    "duration": 6,
    "start_time": "2023-07-11T09:43:37.587Z"
   },
   {
    "duration": 10,
    "start_time": "2023-07-11T09:43:37.595Z"
   },
   {
    "duration": 11,
    "start_time": "2023-07-11T09:43:37.607Z"
   },
   {
    "duration": 4,
    "start_time": "2023-07-11T09:43:37.620Z"
   },
   {
    "duration": 96,
    "start_time": "2023-07-11T09:43:37.626Z"
   },
   {
    "duration": 758,
    "start_time": "2023-07-11T09:43:37.724Z"
   },
   {
    "duration": 25,
    "start_time": "2023-07-11T09:43:38.486Z"
   },
   {
    "duration": 467,
    "start_time": "2023-07-11T09:43:38.513Z"
   },
   {
    "duration": 139,
    "start_time": "2023-07-11T09:43:38.982Z"
   },
   {
    "duration": 485,
    "start_time": "2023-07-11T09:43:39.124Z"
   },
   {
    "duration": 149,
    "start_time": "2023-07-11T09:43:39.611Z"
   },
   {
    "duration": 1072,
    "start_time": "2023-07-11T09:43:39.768Z"
   },
   {
    "duration": 544,
    "start_time": "2023-07-11T09:43:40.849Z"
   },
   {
    "duration": 139,
    "start_time": "2023-07-11T09:43:41.395Z"
   },
   {
    "duration": 8,
    "start_time": "2023-07-11T09:43:41.535Z"
   },
   {
    "duration": 5,
    "start_time": "2023-07-11T09:43:41.552Z"
   },
   {
    "duration": 7,
    "start_time": "2023-07-11T09:43:41.559Z"
   },
   {
    "duration": 7,
    "start_time": "2023-07-11T09:43:41.568Z"
   },
   {
    "duration": 8,
    "start_time": "2023-07-11T09:43:41.576Z"
   },
   {
    "duration": 7,
    "start_time": "2023-07-11T09:43:41.586Z"
   },
   {
    "duration": 8,
    "start_time": "2023-07-11T09:43:41.594Z"
   },
   {
    "duration": 6,
    "start_time": "2023-07-11T09:43:41.603Z"
   },
   {
    "duration": 7,
    "start_time": "2023-07-11T09:43:41.611Z"
   },
   {
    "duration": 4,
    "start_time": "2023-07-11T09:43:41.621Z"
   },
   {
    "duration": 670,
    "start_time": "2023-07-11T09:43:41.633Z"
   },
   {
    "duration": 28,
    "start_time": "2023-07-11T09:43:42.304Z"
   },
   {
    "duration": 7,
    "start_time": "2023-07-11T09:43:42.335Z"
   },
   {
    "duration": 18,
    "start_time": "2023-07-11T09:43:42.346Z"
   },
   {
    "duration": 7,
    "start_time": "2023-07-11T09:43:42.370Z"
   },
   {
    "duration": 13,
    "start_time": "2023-07-11T09:43:42.379Z"
   },
   {
    "duration": 29,
    "start_time": "2023-07-11T09:43:42.394Z"
   },
   {
    "duration": 5,
    "start_time": "2023-07-11T09:43:42.425Z"
   },
   {
    "duration": 2,
    "start_time": "2023-07-11T09:43:42.432Z"
   },
   {
    "duration": 19,
    "start_time": "2023-07-11T09:43:42.436Z"
   },
   {
    "duration": 178,
    "start_time": "2023-07-11T09:43:42.458Z"
   },
   {
    "duration": 0,
    "start_time": "2023-07-11T09:43:42.641Z"
   },
   {
    "duration": 0,
    "start_time": "2023-07-11T09:43:42.645Z"
   },
   {
    "duration": 0,
    "start_time": "2023-07-11T09:43:42.647Z"
   },
   {
    "duration": 0,
    "start_time": "2023-07-11T09:43:42.650Z"
   },
   {
    "duration": 0,
    "start_time": "2023-07-11T09:43:42.653Z"
   },
   {
    "duration": 0,
    "start_time": "2023-07-11T09:43:42.653Z"
   },
   {
    "duration": 0,
    "start_time": "2023-07-11T09:43:42.654Z"
   },
   {
    "duration": 0,
    "start_time": "2023-07-11T09:43:42.655Z"
   },
   {
    "duration": 0,
    "start_time": "2023-07-11T09:43:42.656Z"
   },
   {
    "duration": 0,
    "start_time": "2023-07-11T09:43:42.657Z"
   },
   {
    "duration": 0,
    "start_time": "2023-07-11T09:43:42.659Z"
   },
   {
    "duration": 0,
    "start_time": "2023-07-11T09:43:42.660Z"
   },
   {
    "duration": 0,
    "start_time": "2023-07-11T09:43:42.660Z"
   },
   {
    "duration": 0,
    "start_time": "2023-07-11T09:43:42.661Z"
   },
   {
    "duration": 0,
    "start_time": "2023-07-11T09:43:42.662Z"
   },
   {
    "duration": 0,
    "start_time": "2023-07-11T09:43:42.663Z"
   },
   {
    "duration": 0,
    "start_time": "2023-07-11T09:43:42.663Z"
   },
   {
    "duration": 23,
    "start_time": "2023-07-11T09:45:17.646Z"
   },
   {
    "duration": 10,
    "start_time": "2023-07-11T09:45:31.811Z"
   },
   {
    "duration": 16,
    "start_time": "2023-07-11T09:45:34.964Z"
   },
   {
    "duration": 4,
    "start_time": "2023-07-11T09:45:44.988Z"
   },
   {
    "duration": 6,
    "start_time": "2023-07-11T09:45:50.830Z"
   },
   {
    "duration": 7,
    "start_time": "2023-07-11T09:45:54.608Z"
   },
   {
    "duration": 26,
    "start_time": "2023-07-11T09:45:56.812Z"
   },
   {
    "duration": 7,
    "start_time": "2023-07-11T09:46:30.764Z"
   },
   {
    "duration": 17,
    "start_time": "2023-07-11T09:46:57.934Z"
   },
   {
    "duration": 6,
    "start_time": "2023-07-11T09:47:21.300Z"
   },
   {
    "duration": 12,
    "start_time": "2023-07-11T09:47:42.460Z"
   },
   {
    "duration": 24,
    "start_time": "2023-07-11T09:47:54.796Z"
   },
   {
    "duration": 37,
    "start_time": "2023-07-11T09:47:56.608Z"
   },
   {
    "duration": 5,
    "start_time": "2023-07-11T09:48:48.805Z"
   },
   {
    "duration": 9,
    "start_time": "2023-07-11T09:48:51.061Z"
   },
   {
    "duration": 7,
    "start_time": "2023-07-11T09:49:16.799Z"
   },
   {
    "duration": 8,
    "start_time": "2023-07-11T09:49:18.739Z"
   },
   {
    "duration": 25,
    "start_time": "2023-07-11T09:49:20.958Z"
   },
   {
    "duration": 29,
    "start_time": "2023-07-11T09:49:36.145Z"
   },
   {
    "duration": 13,
    "start_time": "2023-07-11T09:49:38.150Z"
   },
   {
    "duration": 8,
    "start_time": "2023-07-11T09:49:40.193Z"
   },
   {
    "duration": 19,
    "start_time": "2023-07-11T09:50:21.075Z"
   },
   {
    "duration": 8,
    "start_time": "2023-07-11T09:50:23.565Z"
   },
   {
    "duration": 1572,
    "start_time": "2023-07-11T09:51:27.596Z"
   },
   {
    "duration": 23,
    "start_time": "2023-07-11T09:51:33.664Z"
   },
   {
    "duration": 7,
    "start_time": "2023-07-11T09:51:36.072Z"
   },
   {
    "duration": 9,
    "start_time": "2023-07-11T09:52:00.691Z"
   },
   {
    "duration": 7,
    "start_time": "2023-07-11T09:52:06.271Z"
   },
   {
    "duration": 8,
    "start_time": "2023-07-11T09:52:09.290Z"
   },
   {
    "duration": 50,
    "start_time": "2023-07-11T09:52:21.910Z"
   },
   {
    "duration": 7,
    "start_time": "2023-07-11T09:52:41.495Z"
   },
   {
    "duration": 14,
    "start_time": "2023-07-11T09:53:21.238Z"
   },
   {
    "duration": 28,
    "start_time": "2023-07-11T09:53:30.631Z"
   },
   {
    "duration": 14,
    "start_time": "2023-07-11T09:53:34.811Z"
   },
   {
    "duration": 13,
    "start_time": "2023-07-11T09:53:40.539Z"
   },
   {
    "duration": 6,
    "start_time": "2023-07-11T09:53:42.372Z"
   },
   {
    "duration": 12,
    "start_time": "2023-07-11T09:54:07.999Z"
   },
   {
    "duration": 4,
    "start_time": "2023-07-11T09:54:13.079Z"
   },
   {
    "duration": 18,
    "start_time": "2023-07-11T09:54:16.277Z"
   },
   {
    "duration": 1056,
    "start_time": "2023-07-11T09:54:18.995Z"
   },
   {
    "duration": 9,
    "start_time": "2023-07-11T09:54:45.454Z"
   },
   {
    "duration": 5,
    "start_time": "2023-07-11T09:54:47.992Z"
   },
   {
    "duration": 14,
    "start_time": "2023-07-11T09:54:50.018Z"
   },
   {
    "duration": 6,
    "start_time": "2023-07-11T09:54:51.595Z"
   },
   {
    "duration": 24,
    "start_time": "2023-07-11T09:54:54.346Z"
   },
   {
    "duration": 478,
    "start_time": "2023-07-11T09:54:56.503Z"
   },
   {
    "duration": 32,
    "start_time": "2023-07-11T09:55:57.313Z"
   },
   {
    "duration": 6,
    "start_time": "2023-07-11T09:55:58.952Z"
   },
   {
    "duration": 11,
    "start_time": "2023-07-11T09:56:00.339Z"
   },
   {
    "duration": 527,
    "start_time": "2023-07-11T09:56:13.163Z"
   },
   {
    "duration": 20,
    "start_time": "2023-07-11T09:56:20.138Z"
   },
   {
    "duration": 16,
    "start_time": "2023-07-11T09:56:44.439Z"
   },
   {
    "duration": 12,
    "start_time": "2023-07-11T09:56:47.395Z"
   },
   {
    "duration": 7,
    "start_time": "2023-07-11T10:07:51.930Z"
   },
   {
    "duration": 2,
    "start_time": "2023-07-11T10:07:58.066Z"
   },
   {
    "duration": 6,
    "start_time": "2023-07-11T10:08:05.435Z"
   },
   {
    "duration": 206,
    "start_time": "2023-07-11T10:08:09.431Z"
   },
   {
    "duration": 360,
    "start_time": "2023-07-11T10:08:18.671Z"
   },
   {
    "duration": 8,
    "start_time": "2023-07-11T10:08:28.239Z"
   },
   {
    "duration": 3,
    "start_time": "2023-07-11T10:08:30.209Z"
   },
   {
    "duration": 1791,
    "start_time": "2023-07-11T10:08:38.532Z"
   },
   {
    "duration": 82,
    "start_time": "2023-07-11T10:08:40.330Z"
   },
   {
    "duration": 844,
    "start_time": "2023-07-11T10:08:40.414Z"
   },
   {
    "duration": 466,
    "start_time": "2023-07-11T10:08:41.260Z"
   },
   {
    "duration": 11,
    "start_time": "2023-07-11T10:08:41.736Z"
   },
   {
    "duration": 12,
    "start_time": "2023-07-11T10:08:41.750Z"
   },
   {
    "duration": 28,
    "start_time": "2023-07-11T10:08:41.764Z"
   },
   {
    "duration": 409,
    "start_time": "2023-07-11T10:08:41.793Z"
   },
   {
    "duration": 11,
    "start_time": "2023-07-11T10:08:42.203Z"
   },
   {
    "duration": 7,
    "start_time": "2023-07-11T10:08:42.216Z"
   },
   {
    "duration": 39,
    "start_time": "2023-07-11T10:08:42.225Z"
   },
   {
    "duration": 7,
    "start_time": "2023-07-11T10:08:42.266Z"
   },
   {
    "duration": 25,
    "start_time": "2023-07-11T10:08:42.275Z"
   },
   {
    "duration": 37,
    "start_time": "2023-07-11T10:08:42.303Z"
   },
   {
    "duration": 7,
    "start_time": "2023-07-11T10:08:42.347Z"
   },
   {
    "duration": 18,
    "start_time": "2023-07-11T10:08:42.355Z"
   },
   {
    "duration": 20,
    "start_time": "2023-07-11T10:08:42.374Z"
   },
   {
    "duration": 16,
    "start_time": "2023-07-11T10:08:42.396Z"
   },
   {
    "duration": 17,
    "start_time": "2023-07-11T10:08:42.415Z"
   },
   {
    "duration": 26,
    "start_time": "2023-07-11T10:08:42.434Z"
   },
   {
    "duration": 149,
    "start_time": "2023-07-11T10:08:42.462Z"
   },
   {
    "duration": 40,
    "start_time": "2023-07-11T10:08:42.613Z"
   },
   {
    "duration": 118,
    "start_time": "2023-07-11T10:08:42.654Z"
   },
   {
    "duration": 9,
    "start_time": "2023-07-11T10:08:42.774Z"
   },
   {
    "duration": 3,
    "start_time": "2023-07-11T10:08:42.784Z"
   },
   {
    "duration": 44,
    "start_time": "2023-07-11T10:08:42.788Z"
   },
   {
    "duration": 14,
    "start_time": "2023-07-11T10:08:42.834Z"
   },
   {
    "duration": 6,
    "start_time": "2023-07-11T10:08:42.850Z"
   },
   {
    "duration": 7,
    "start_time": "2023-07-11T10:08:42.858Z"
   },
   {
    "duration": 11,
    "start_time": "2023-07-11T10:08:42.866Z"
   },
   {
    "duration": 45,
    "start_time": "2023-07-11T10:08:42.878Z"
   },
   {
    "duration": 7,
    "start_time": "2023-07-11T10:08:42.926Z"
   },
   {
    "duration": 11,
    "start_time": "2023-07-11T10:08:42.935Z"
   },
   {
    "duration": 12,
    "start_time": "2023-07-11T10:08:42.949Z"
   },
   {
    "duration": 7,
    "start_time": "2023-07-11T10:08:42.963Z"
   },
   {
    "duration": 1077,
    "start_time": "2023-07-11T10:08:42.972Z"
   },
   {
    "duration": 4,
    "start_time": "2023-07-11T10:08:44.051Z"
   },
   {
    "duration": 1245,
    "start_time": "2023-07-11T10:08:44.057Z"
   },
   {
    "duration": 1296,
    "start_time": "2023-07-11T10:08:45.304Z"
   },
   {
    "duration": 1148,
    "start_time": "2023-07-11T10:08:46.602Z"
   },
   {
    "duration": 3,
    "start_time": "2023-07-11T10:08:47.755Z"
   },
   {
    "duration": 12,
    "start_time": "2023-07-11T10:08:47.760Z"
   },
   {
    "duration": 12,
    "start_time": "2023-07-11T10:08:47.774Z"
   },
   {
    "duration": 8,
    "start_time": "2023-07-11T10:08:47.788Z"
   },
   {
    "duration": 189,
    "start_time": "2023-07-11T10:08:47.799Z"
   },
   {
    "duration": 597,
    "start_time": "2023-07-11T10:08:47.990Z"
   },
   {
    "duration": 3,
    "start_time": "2023-07-11T10:08:48.589Z"
   },
   {
    "duration": 16,
    "start_time": "2023-07-11T10:08:48.593Z"
   },
   {
    "duration": 20,
    "start_time": "2023-07-11T10:08:48.611Z"
   },
   {
    "duration": 21,
    "start_time": "2023-07-11T10:08:48.634Z"
   },
   {
    "duration": 95,
    "start_time": "2023-07-11T10:08:48.658Z"
   },
   {
    "duration": 678,
    "start_time": "2023-07-11T10:08:48.755Z"
   },
   {
    "duration": 32,
    "start_time": "2023-07-11T10:08:49.439Z"
   },
   {
    "duration": 421,
    "start_time": "2023-07-11T10:08:49.474Z"
   },
   {
    "duration": 178,
    "start_time": "2023-07-11T10:08:49.897Z"
   },
   {
    "duration": 562,
    "start_time": "2023-07-11T10:08:50.078Z"
   },
   {
    "duration": 114,
    "start_time": "2023-07-11T10:08:50.644Z"
   },
   {
    "duration": 825,
    "start_time": "2023-07-11T10:08:50.760Z"
   },
   {
    "duration": 568,
    "start_time": "2023-07-11T10:08:51.586Z"
   },
   {
    "duration": 277,
    "start_time": "2023-07-11T10:08:52.156Z"
   },
   {
    "duration": 5,
    "start_time": "2023-07-11T10:08:52.440Z"
   },
   {
    "duration": 28,
    "start_time": "2023-07-11T10:08:52.447Z"
   },
   {
    "duration": 35,
    "start_time": "2023-07-11T10:08:52.476Z"
   },
   {
    "duration": 31,
    "start_time": "2023-07-11T10:08:52.513Z"
   },
   {
    "duration": 43,
    "start_time": "2023-07-11T10:08:52.546Z"
   },
   {
    "duration": 106,
    "start_time": "2023-07-11T10:08:52.591Z"
   },
   {
    "duration": 63,
    "start_time": "2023-07-11T10:08:52.699Z"
   },
   {
    "duration": 52,
    "start_time": "2023-07-11T10:08:52.764Z"
   },
   {
    "duration": 71,
    "start_time": "2023-07-11T10:08:52.819Z"
   },
   {
    "duration": 56,
    "start_time": "2023-07-11T10:08:52.891Z"
   },
   {
    "duration": 722,
    "start_time": "2023-07-11T10:08:52.949Z"
   },
   {
    "duration": 14,
    "start_time": "2023-07-11T10:08:53.672Z"
   },
   {
    "duration": 10,
    "start_time": "2023-07-11T10:08:53.689Z"
   },
   {
    "duration": 13,
    "start_time": "2023-07-11T10:08:53.701Z"
   },
   {
    "duration": 19,
    "start_time": "2023-07-11T10:08:53.716Z"
   },
   {
    "duration": 10,
    "start_time": "2023-07-11T10:08:53.740Z"
   },
   {
    "duration": 31,
    "start_time": "2023-07-11T10:08:53.752Z"
   },
   {
    "duration": 16,
    "start_time": "2023-07-11T10:08:53.784Z"
   },
   {
    "duration": 17,
    "start_time": "2023-07-11T10:08:53.802Z"
   },
   {
    "duration": 31,
    "start_time": "2023-07-11T10:08:53.821Z"
   },
   {
    "duration": 8,
    "start_time": "2023-07-11T10:08:53.854Z"
   },
   {
    "duration": 5,
    "start_time": "2023-07-11T10:08:53.864Z"
   },
   {
    "duration": 18,
    "start_time": "2023-07-11T10:08:53.872Z"
   },
   {
    "duration": 8,
    "start_time": "2023-07-11T10:08:53.892Z"
   },
   {
    "duration": 24,
    "start_time": "2023-07-11T10:08:53.901Z"
   },
   {
    "duration": 12,
    "start_time": "2023-07-11T10:08:53.929Z"
   },
   {
    "duration": 9,
    "start_time": "2023-07-11T10:08:53.950Z"
   },
   {
    "duration": 3784,
    "start_time": "2023-07-11T10:08:53.961Z"
   },
   {
    "duration": 63,
    "start_time": "2023-07-11T10:08:57.750Z"
   },
   {
    "duration": 27,
    "start_time": "2023-07-11T10:08:57.817Z"
   },
   {
    "duration": 351888,
    "start_time": "2023-07-11T10:08:57.848Z"
   },
   {
    "duration": 8,
    "start_time": "2023-07-11T10:14:49.738Z"
   },
   {
    "duration": 723019,
    "start_time": "2023-07-11T10:14:49.749Z"
   },
   {
    "duration": 6,
    "start_time": "2023-07-11T10:26:52.770Z"
   },
   {
    "duration": 898605,
    "start_time": "2023-07-11T10:26:52.778Z"
   },
   {
    "duration": 46047,
    "start_time": "2023-07-11T10:41:51.385Z"
   },
   {
    "duration": 6,
    "start_time": "2023-07-11T10:42:37.437Z"
   },
   {
    "duration": 15,
    "start_time": "2023-07-11T10:42:37.445Z"
   }
  ],
  "kernelspec": {
   "display_name": "Python 3 (ipykernel)",
   "language": "python",
   "name": "python3"
  },
  "language_info": {
   "codemirror_mode": {
    "name": "ipython",
    "version": 3
   },
   "file_extension": ".py",
   "mimetype": "text/x-python",
   "name": "python",
   "nbconvert_exporter": "python",
   "pygments_lexer": "ipython3",
   "version": "3.11.4"
  },
  "toc": {
   "base_numbering": 1,
   "nav_menu": {},
   "number_sections": true,
   "sideBar": true,
   "skip_h1_title": true,
   "title_cell": "Содержание",
   "title_sidebar": "Contents",
   "toc_cell": true,
   "toc_position": {
    "height": "calc(100% - 180px)",
    "left": "10px",
    "top": "150px",
    "width": "343px"
   },
   "toc_section_display": true,
   "toc_window_display": true
  }
 },
 "nbformat": 4,
 "nbformat_minor": 2
}
